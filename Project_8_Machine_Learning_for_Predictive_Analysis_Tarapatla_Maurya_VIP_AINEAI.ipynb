{
  "nbformat": 4,
  "nbformat_minor": 0,
  "metadata": {
    "kernelspec": {
      "display_name": "Python 3",
      "language": "python",
      "name": "python3"
    },
    "language_info": {
      "codemirror_mode": {
        "name": "ipython",
        "version": 3
      },
      "file_extension": ".py",
      "mimetype": "text/x-python",
      "name": "python",
      "nbconvert_exporter": "python",
      "pygments_lexer": "ipython3",
      "version": "3.8.5"
    },
    "colab": {
      "name": "Project 8_Machine Learning for Predictive Analysis Tarapatla Maurya #VIP@AINEAI.ipynb",
      "provenance": [],
      "collapsed_sections": []
    }
  },
  "cells": [
    {
      "cell_type": "markdown",
      "metadata": {
        "id": "WWbqxNLZlFII"
      },
      "source": [
        "# Project 8: Machine Learning for Predictive Analytics"
      ]
    },
    {
      "cell_type": "markdown",
      "metadata": {
        "id": "RCrmVhYDlFIJ"
      },
      "source": [
        "## Packages and setup"
      ]
    },
    {
      "cell_type": "code",
      "metadata": {
        "id": "duCWbBPRlFIK"
      },
      "source": [
        "import numpy as np\n",
        "import pandas as pd \n",
        "import seaborn as sns\n",
        "import matplotlib.pyplot as plt\n",
        "import os\n",
        "\n",
        "#parameter settings\n",
        "from IPython.core.interactiveshell import InteractiveShell\n",
        "InteractiveShell.ast_node_interactivity = \"all\"\n",
        "import warnings\n",
        "warnings.filterwarnings(\"ignore\")\n",
        "warnings.simplefilter(action='ignore', category=FutureWarning)"
      ],
      "execution_count": null,
      "outputs": []
    },
    {
      "cell_type": "code",
      "source": [
        "from google.colab import files\n",
        "uploaded = files.upload()"
      ],
      "metadata": {
        "colab": {
          "resources": {
            "http://localhost:8080/nbextensions/google.colab/files.js": {
              "data": "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",
              "ok": true,
              "headers": [
                [
                  "content-type",
                  "application/javascript"
                ]
              ],
              "status": 200,
              "status_text": ""
            }
          },
          "base_uri": "https://localhost:8080/",
          "height": 73
        },
        "id": "xPPiF2Vn3KvJ",
        "outputId": "bbd73d09-1edd-460c-bfdd-063823a5bf1d"
      },
      "execution_count": null,
      "outputs": [
        {
          "output_type": "display_data",
          "data": {
            "text/html": [
              "\n",
              "     <input type=\"file\" id=\"files-646b724f-6c22-4a3a-96b9-e09eb601b0d1\" name=\"files[]\" multiple disabled\n",
              "        style=\"border:none\" />\n",
              "     <output id=\"result-646b724f-6c22-4a3a-96b9-e09eb601b0d1\">\n",
              "      Upload widget is only available when the cell has been executed in the\n",
              "      current browser session. Please rerun this cell to enable.\n",
              "      </output>\n",
              "      <script src=\"/nbextensions/google.colab/files.js\"></script> "
            ],
            "text/plain": [
              "<IPython.core.display.HTML object>"
            ]
          },
          "metadata": {}
        },
        {
          "output_type": "stream",
          "name": "stdout",
          "text": [
            "Saving Telecom Data.csv to Telecom Data.csv\n"
          ]
        }
      ]
    },
    {
      "cell_type": "markdown",
      "metadata": {
        "id": "VoDtZpyJlFIK"
      },
      "source": [
        "## Reading data and initial processing"
      ]
    },
    {
      "cell_type": "code",
      "metadata": {
        "id": "br8Y20g5lFIL",
        "colab": {
          "base_uri": "https://localhost:8080/",
          "height": 270
        },
        "outputId": "387d77bf-aab5-4bd7-805a-2a18ea32ff5b"
      },
      "source": [
        "#edit the file location of raw data set\n",
        "cust_df=pd.read_csv(\"Telecom Data.csv\")\n",
        "cust_df.head()"
      ],
      "execution_count": null,
      "outputs": [
        {
          "output_type": "execute_result",
          "data": {
            "text/html": [
              "\n",
              "  <div id=\"df-6a6f280e-ca21-41a8-9b8c-47e944edeae4\">\n",
              "    <div class=\"colab-df-container\">\n",
              "      <div>\n",
              "<style scoped>\n",
              "    .dataframe tbody tr th:only-of-type {\n",
              "        vertical-align: middle;\n",
              "    }\n",
              "\n",
              "    .dataframe tbody tr th {\n",
              "        vertical-align: top;\n",
              "    }\n",
              "\n",
              "    .dataframe thead th {\n",
              "        text-align: right;\n",
              "    }\n",
              "</style>\n",
              "<table border=\"1\" class=\"dataframe\">\n",
              "  <thead>\n",
              "    <tr style=\"text-align: right;\">\n",
              "      <th></th>\n",
              "      <th>CustomerID</th>\n",
              "      <th>Churn</th>\n",
              "      <th>MonthlyRevenue</th>\n",
              "      <th>MonthlyMinutes</th>\n",
              "      <th>TotalRecurringCharge</th>\n",
              "      <th>DirectorAssistedCalls</th>\n",
              "      <th>OverageMinutes</th>\n",
              "      <th>RoamingCalls</th>\n",
              "      <th>PercChangeMinutes</th>\n",
              "      <th>PercChangeRevenues</th>\n",
              "      <th>DroppedCalls</th>\n",
              "      <th>BlockedCalls</th>\n",
              "      <th>UnansweredCalls</th>\n",
              "      <th>CustomerCareCalls</th>\n",
              "      <th>ThreewayCalls</th>\n",
              "      <th>ReceivedCalls</th>\n",
              "      <th>OutboundCalls</th>\n",
              "      <th>InboundCalls</th>\n",
              "      <th>PeakCallsInOut</th>\n",
              "      <th>OffPeakCallsInOut</th>\n",
              "      <th>DroppedBlockedCalls</th>\n",
              "      <th>CallForwardingCalls</th>\n",
              "      <th>CallWaitingCalls</th>\n",
              "      <th>MonthsInService</th>\n",
              "      <th>UniqueSubs</th>\n",
              "      <th>ActiveSubs</th>\n",
              "      <th>ServiceArea</th>\n",
              "      <th>Handsets</th>\n",
              "      <th>HandsetModels</th>\n",
              "      <th>CurrentEquipmentDays</th>\n",
              "      <th>AgeHH1</th>\n",
              "      <th>AgeHH2</th>\n",
              "      <th>ChildrenInHH</th>\n",
              "      <th>HandsetRefurbished</th>\n",
              "      <th>HandsetWebCapable</th>\n",
              "      <th>TruckOwner</th>\n",
              "      <th>RVOwner</th>\n",
              "      <th>Homeownership</th>\n",
              "      <th>BuysViaMailOrder</th>\n",
              "      <th>RespondsToMailOffers</th>\n",
              "      <th>OptOutMailings</th>\n",
              "      <th>NonUSTravel</th>\n",
              "      <th>OwnsComputer</th>\n",
              "      <th>HasCreditCard</th>\n",
              "      <th>RetentionCalls</th>\n",
              "      <th>RetentionOffersAccepted</th>\n",
              "      <th>NewCellphoneUser</th>\n",
              "      <th>NotNewCellphoneUser</th>\n",
              "      <th>ReferralsMadeBySubscriber</th>\n",
              "      <th>IncomeGroup</th>\n",
              "      <th>OwnsMotorcycle</th>\n",
              "      <th>AdjustmentsToCreditRating</th>\n",
              "      <th>HandsetPrice</th>\n",
              "      <th>MadeCallToRetentionTeam</th>\n",
              "      <th>CreditRating</th>\n",
              "      <th>PrizmCode</th>\n",
              "      <th>Occupation</th>\n",
              "      <th>MaritalStatus</th>\n",
              "    </tr>\n",
              "  </thead>\n",
              "  <tbody>\n",
              "    <tr>\n",
              "      <th>0</th>\n",
              "      <td>3000002</td>\n",
              "      <td>Yes</td>\n",
              "      <td>24.00</td>\n",
              "      <td>219.0</td>\n",
              "      <td>22.0</td>\n",
              "      <td>0.25</td>\n",
              "      <td>0.0</td>\n",
              "      <td>0.0</td>\n",
              "      <td>-157.0</td>\n",
              "      <td>-19.0</td>\n",
              "      <td>0.7</td>\n",
              "      <td>0.7</td>\n",
              "      <td>6.3</td>\n",
              "      <td>0.0</td>\n",
              "      <td>0.0</td>\n",
              "      <td>97.2</td>\n",
              "      <td>0.0</td>\n",
              "      <td>0.0</td>\n",
              "      <td>58.0</td>\n",
              "      <td>24.0</td>\n",
              "      <td>1.3</td>\n",
              "      <td>0.0</td>\n",
              "      <td>0.3</td>\n",
              "      <td>61</td>\n",
              "      <td>2</td>\n",
              "      <td>1</td>\n",
              "      <td>SEAPOR503</td>\n",
              "      <td>2.0</td>\n",
              "      <td>2.0</td>\n",
              "      <td>361.0</td>\n",
              "      <td>62.0</td>\n",
              "      <td>0.0</td>\n",
              "      <td>No</td>\n",
              "      <td>No</td>\n",
              "      <td>Yes</td>\n",
              "      <td>No</td>\n",
              "      <td>No</td>\n",
              "      <td>Known</td>\n",
              "      <td>Yes</td>\n",
              "      <td>Yes</td>\n",
              "      <td>No</td>\n",
              "      <td>No</td>\n",
              "      <td>Yes</td>\n",
              "      <td>Yes</td>\n",
              "      <td>1</td>\n",
              "      <td>0</td>\n",
              "      <td>No</td>\n",
              "      <td>No</td>\n",
              "      <td>0</td>\n",
              "      <td>4</td>\n",
              "      <td>No</td>\n",
              "      <td>0</td>\n",
              "      <td>30</td>\n",
              "      <td>Yes</td>\n",
              "      <td>1-Highest</td>\n",
              "      <td>Suburban</td>\n",
              "      <td>Professional</td>\n",
              "      <td>No</td>\n",
              "    </tr>\n",
              "    <tr>\n",
              "      <th>1</th>\n",
              "      <td>3000010</td>\n",
              "      <td>Yes</td>\n",
              "      <td>16.99</td>\n",
              "      <td>10.0</td>\n",
              "      <td>17.0</td>\n",
              "      <td>0.00</td>\n",
              "      <td>0.0</td>\n",
              "      <td>0.0</td>\n",
              "      <td>-4.0</td>\n",
              "      <td>0.0</td>\n",
              "      <td>0.3</td>\n",
              "      <td>0.0</td>\n",
              "      <td>2.7</td>\n",
              "      <td>0.0</td>\n",
              "      <td>0.0</td>\n",
              "      <td>0.0</td>\n",
              "      <td>0.0</td>\n",
              "      <td>0.0</td>\n",
              "      <td>5.0</td>\n",
              "      <td>1.0</td>\n",
              "      <td>0.3</td>\n",
              "      <td>0.0</td>\n",
              "      <td>0.0</td>\n",
              "      <td>58</td>\n",
              "      <td>1</td>\n",
              "      <td>1</td>\n",
              "      <td>PITHOM412</td>\n",
              "      <td>2.0</td>\n",
              "      <td>1.0</td>\n",
              "      <td>1504.0</td>\n",
              "      <td>40.0</td>\n",
              "      <td>42.0</td>\n",
              "      <td>Yes</td>\n",
              "      <td>No</td>\n",
              "      <td>No</td>\n",
              "      <td>No</td>\n",
              "      <td>No</td>\n",
              "      <td>Known</td>\n",
              "      <td>Yes</td>\n",
              "      <td>Yes</td>\n",
              "      <td>No</td>\n",
              "      <td>No</td>\n",
              "      <td>Yes</td>\n",
              "      <td>Yes</td>\n",
              "      <td>0</td>\n",
              "      <td>0</td>\n",
              "      <td>Yes</td>\n",
              "      <td>No</td>\n",
              "      <td>0</td>\n",
              "      <td>5</td>\n",
              "      <td>No</td>\n",
              "      <td>0</td>\n",
              "      <td>30</td>\n",
              "      <td>No</td>\n",
              "      <td>4-Medium</td>\n",
              "      <td>Suburban</td>\n",
              "      <td>Professional</td>\n",
              "      <td>Yes</td>\n",
              "    </tr>\n",
              "    <tr>\n",
              "      <th>2</th>\n",
              "      <td>3000014</td>\n",
              "      <td>No</td>\n",
              "      <td>38.00</td>\n",
              "      <td>8.0</td>\n",
              "      <td>38.0</td>\n",
              "      <td>0.00</td>\n",
              "      <td>0.0</td>\n",
              "      <td>0.0</td>\n",
              "      <td>-2.0</td>\n",
              "      <td>0.0</td>\n",
              "      <td>0.0</td>\n",
              "      <td>0.0</td>\n",
              "      <td>0.0</td>\n",
              "      <td>0.0</td>\n",
              "      <td>0.0</td>\n",
              "      <td>0.4</td>\n",
              "      <td>0.3</td>\n",
              "      <td>0.0</td>\n",
              "      <td>1.3</td>\n",
              "      <td>3.7</td>\n",
              "      <td>0.0</td>\n",
              "      <td>0.0</td>\n",
              "      <td>0.0</td>\n",
              "      <td>60</td>\n",
              "      <td>1</td>\n",
              "      <td>1</td>\n",
              "      <td>MILMIL414</td>\n",
              "      <td>1.0</td>\n",
              "      <td>1.0</td>\n",
              "      <td>1812.0</td>\n",
              "      <td>26.0</td>\n",
              "      <td>26.0</td>\n",
              "      <td>Yes</td>\n",
              "      <td>No</td>\n",
              "      <td>No</td>\n",
              "      <td>No</td>\n",
              "      <td>No</td>\n",
              "      <td>Unknown</td>\n",
              "      <td>No</td>\n",
              "      <td>No</td>\n",
              "      <td>No</td>\n",
              "      <td>No</td>\n",
              "      <td>No</td>\n",
              "      <td>Yes</td>\n",
              "      <td>0</td>\n",
              "      <td>0</td>\n",
              "      <td>Yes</td>\n",
              "      <td>No</td>\n",
              "      <td>0</td>\n",
              "      <td>6</td>\n",
              "      <td>No</td>\n",
              "      <td>0</td>\n",
              "      <td>Unknown</td>\n",
              "      <td>No</td>\n",
              "      <td>3-Good</td>\n",
              "      <td>Town</td>\n",
              "      <td>Crafts</td>\n",
              "      <td>Yes</td>\n",
              "    </tr>\n",
              "    <tr>\n",
              "      <th>3</th>\n",
              "      <td>3000022</td>\n",
              "      <td>No</td>\n",
              "      <td>82.28</td>\n",
              "      <td>1312.0</td>\n",
              "      <td>75.0</td>\n",
              "      <td>1.24</td>\n",
              "      <td>0.0</td>\n",
              "      <td>0.0</td>\n",
              "      <td>157.0</td>\n",
              "      <td>8.1</td>\n",
              "      <td>52.0</td>\n",
              "      <td>7.7</td>\n",
              "      <td>76.0</td>\n",
              "      <td>4.3</td>\n",
              "      <td>1.3</td>\n",
              "      <td>200.3</td>\n",
              "      <td>370.3</td>\n",
              "      <td>147.0</td>\n",
              "      <td>555.7</td>\n",
              "      <td>303.7</td>\n",
              "      <td>59.7</td>\n",
              "      <td>0.0</td>\n",
              "      <td>22.7</td>\n",
              "      <td>59</td>\n",
              "      <td>2</td>\n",
              "      <td>2</td>\n",
              "      <td>PITHOM412</td>\n",
              "      <td>9.0</td>\n",
              "      <td>4.0</td>\n",
              "      <td>458.0</td>\n",
              "      <td>30.0</td>\n",
              "      <td>0.0</td>\n",
              "      <td>No</td>\n",
              "      <td>No</td>\n",
              "      <td>Yes</td>\n",
              "      <td>No</td>\n",
              "      <td>No</td>\n",
              "      <td>Known</td>\n",
              "      <td>Yes</td>\n",
              "      <td>Yes</td>\n",
              "      <td>No</td>\n",
              "      <td>No</td>\n",
              "      <td>No</td>\n",
              "      <td>Yes</td>\n",
              "      <td>0</td>\n",
              "      <td>0</td>\n",
              "      <td>Yes</td>\n",
              "      <td>No</td>\n",
              "      <td>0</td>\n",
              "      <td>6</td>\n",
              "      <td>No</td>\n",
              "      <td>0</td>\n",
              "      <td>10</td>\n",
              "      <td>No</td>\n",
              "      <td>4-Medium</td>\n",
              "      <td>Other</td>\n",
              "      <td>Other</td>\n",
              "      <td>No</td>\n",
              "    </tr>\n",
              "    <tr>\n",
              "      <th>4</th>\n",
              "      <td>3000026</td>\n",
              "      <td>Yes</td>\n",
              "      <td>17.14</td>\n",
              "      <td>0.0</td>\n",
              "      <td>17.0</td>\n",
              "      <td>0.00</td>\n",
              "      <td>0.0</td>\n",
              "      <td>0.0</td>\n",
              "      <td>0.0</td>\n",
              "      <td>-0.2</td>\n",
              "      <td>0.0</td>\n",
              "      <td>0.0</td>\n",
              "      <td>0.0</td>\n",
              "      <td>0.0</td>\n",
              "      <td>0.0</td>\n",
              "      <td>0.0</td>\n",
              "      <td>0.0</td>\n",
              "      <td>0.0</td>\n",
              "      <td>0.0</td>\n",
              "      <td>0.0</td>\n",
              "      <td>0.0</td>\n",
              "      <td>0.0</td>\n",
              "      <td>0.0</td>\n",
              "      <td>53</td>\n",
              "      <td>2</td>\n",
              "      <td>2</td>\n",
              "      <td>OKCTUL918</td>\n",
              "      <td>4.0</td>\n",
              "      <td>3.0</td>\n",
              "      <td>852.0</td>\n",
              "      <td>46.0</td>\n",
              "      <td>54.0</td>\n",
              "      <td>No</td>\n",
              "      <td>No</td>\n",
              "      <td>No</td>\n",
              "      <td>No</td>\n",
              "      <td>No</td>\n",
              "      <td>Known</td>\n",
              "      <td>Yes</td>\n",
              "      <td>Yes</td>\n",
              "      <td>No</td>\n",
              "      <td>No</td>\n",
              "      <td>Yes</td>\n",
              "      <td>Yes</td>\n",
              "      <td>0</td>\n",
              "      <td>0</td>\n",
              "      <td>No</td>\n",
              "      <td>Yes</td>\n",
              "      <td>0</td>\n",
              "      <td>9</td>\n",
              "      <td>No</td>\n",
              "      <td>1</td>\n",
              "      <td>10</td>\n",
              "      <td>No</td>\n",
              "      <td>1-Highest</td>\n",
              "      <td>Other</td>\n",
              "      <td>Professional</td>\n",
              "      <td>Yes</td>\n",
              "    </tr>\n",
              "  </tbody>\n",
              "</table>\n",
              "</div>\n",
              "      <button class=\"colab-df-convert\" onclick=\"convertToInteractive('df-6a6f280e-ca21-41a8-9b8c-47e944edeae4')\"\n",
              "              title=\"Convert this dataframe to an interactive table.\"\n",
              "              style=\"display:none;\">\n",
              "        \n",
              "  <svg xmlns=\"http://www.w3.org/2000/svg\" height=\"24px\"viewBox=\"0 0 24 24\"\n",
              "       width=\"24px\">\n",
              "    <path d=\"M0 0h24v24H0V0z\" fill=\"none\"/>\n",
              "    <path d=\"M18.56 5.44l.94 2.06.94-2.06 2.06-.94-2.06-.94-.94-2.06-.94 2.06-2.06.94zm-11 1L8.5 8.5l.94-2.06 2.06-.94-2.06-.94L8.5 2.5l-.94 2.06-2.06.94zm10 10l.94 2.06.94-2.06 2.06-.94-2.06-.94-.94-2.06-.94 2.06-2.06.94z\"/><path d=\"M17.41 7.96l-1.37-1.37c-.4-.4-.92-.59-1.43-.59-.52 0-1.04.2-1.43.59L10.3 9.45l-7.72 7.72c-.78.78-.78 2.05 0 2.83L4 21.41c.39.39.9.59 1.41.59.51 0 1.02-.2 1.41-.59l7.78-7.78 2.81-2.81c.8-.78.8-2.07 0-2.86zM5.41 20L4 18.59l7.72-7.72 1.47 1.35L5.41 20z\"/>\n",
              "  </svg>\n",
              "      </button>\n",
              "      \n",
              "  <style>\n",
              "    .colab-df-container {\n",
              "      display:flex;\n",
              "      flex-wrap:wrap;\n",
              "      gap: 12px;\n",
              "    }\n",
              "\n",
              "    .colab-df-convert {\n",
              "      background-color: #E8F0FE;\n",
              "      border: none;\n",
              "      border-radius: 50%;\n",
              "      cursor: pointer;\n",
              "      display: none;\n",
              "      fill: #1967D2;\n",
              "      height: 32px;\n",
              "      padding: 0 0 0 0;\n",
              "      width: 32px;\n",
              "    }\n",
              "\n",
              "    .colab-df-convert:hover {\n",
              "      background-color: #E2EBFA;\n",
              "      box-shadow: 0px 1px 2px rgba(60, 64, 67, 0.3), 0px 1px 3px 1px rgba(60, 64, 67, 0.15);\n",
              "      fill: #174EA6;\n",
              "    }\n",
              "\n",
              "    [theme=dark] .colab-df-convert {\n",
              "      background-color: #3B4455;\n",
              "      fill: #D2E3FC;\n",
              "    }\n",
              "\n",
              "    [theme=dark] .colab-df-convert:hover {\n",
              "      background-color: #434B5C;\n",
              "      box-shadow: 0px 1px 3px 1px rgba(0, 0, 0, 0.15);\n",
              "      filter: drop-shadow(0px 1px 2px rgba(0, 0, 0, 0.3));\n",
              "      fill: #FFFFFF;\n",
              "    }\n",
              "  </style>\n",
              "\n",
              "      <script>\n",
              "        const buttonEl =\n",
              "          document.querySelector('#df-6a6f280e-ca21-41a8-9b8c-47e944edeae4 button.colab-df-convert');\n",
              "        buttonEl.style.display =\n",
              "          google.colab.kernel.accessAllowed ? 'block' : 'none';\n",
              "\n",
              "        async function convertToInteractive(key) {\n",
              "          const element = document.querySelector('#df-6a6f280e-ca21-41a8-9b8c-47e944edeae4');\n",
              "          const dataTable =\n",
              "            await google.colab.kernel.invokeFunction('convertToInteractive',\n",
              "                                                     [key], {});\n",
              "          if (!dataTable) return;\n",
              "\n",
              "          const docLinkHtml = 'Like what you see? Visit the ' +\n",
              "            '<a target=\"_blank\" href=https://colab.research.google.com/notebooks/data_table.ipynb>data table notebook</a>'\n",
              "            + ' to learn more about interactive tables.';\n",
              "          element.innerHTML = '';\n",
              "          dataTable['output_type'] = 'display_data';\n",
              "          await google.colab.output.renderOutput(dataTable, element);\n",
              "          const docLink = document.createElement('div');\n",
              "          docLink.innerHTML = docLinkHtml;\n",
              "          element.appendChild(docLink);\n",
              "        }\n",
              "      </script>\n",
              "    </div>\n",
              "  </div>\n",
              "  "
            ],
            "text/plain": [
              "   CustomerID Churn  MonthlyRevenue  ...  PrizmCode    Occupation  MaritalStatus\n",
              "0     3000002   Yes           24.00  ...   Suburban  Professional             No\n",
              "1     3000010   Yes           16.99  ...   Suburban  Professional            Yes\n",
              "2     3000014    No           38.00  ...       Town        Crafts            Yes\n",
              "3     3000022    No           82.28  ...      Other         Other             No\n",
              "4     3000026   Yes           17.14  ...      Other  Professional            Yes\n",
              "\n",
              "[5 rows x 58 columns]"
            ]
          },
          "metadata": {},
          "execution_count": 69
        }
      ]
    },
    {
      "cell_type": "code",
      "source": [
        "cust_df.shape"
      ],
      "metadata": {
        "colab": {
          "base_uri": "https://localhost:8080/"
        },
        "id": "mXRNNgAZGiaa",
        "outputId": "85934d07-b1c9-42b1-a5ac-818ae2bdc797"
      },
      "execution_count": null,
      "outputs": [
        {
          "output_type": "execute_result",
          "data": {
            "text/plain": [
              "(51047, 58)"
            ]
          },
          "metadata": {},
          "execution_count": 6
        }
      ]
    },
    {
      "cell_type": "code",
      "source": [
        "cust_df.info()"
      ],
      "metadata": {
        "colab": {
          "base_uri": "https://localhost:8080/"
        },
        "id": "KXKVoLeKtnoL",
        "outputId": "b26167c3-1c36-4033-a064-c5e1294ad7cd"
      },
      "execution_count": null,
      "outputs": [
        {
          "output_type": "stream",
          "name": "stdout",
          "text": [
            "<class 'pandas.core.frame.DataFrame'>\n",
            "RangeIndex: 51047 entries, 0 to 51046\n",
            "Data columns (total 58 columns):\n",
            " #   Column                     Non-Null Count  Dtype  \n",
            "---  ------                     --------------  -----  \n",
            " 0   CustomerID                 51047 non-null  int64  \n",
            " 1   Churn                      51047 non-null  object \n",
            " 2   MonthlyRevenue             50891 non-null  float64\n",
            " 3   MonthlyMinutes             50891 non-null  float64\n",
            " 4   TotalRecurringCharge       50891 non-null  float64\n",
            " 5   DirectorAssistedCalls      50891 non-null  float64\n",
            " 6   OverageMinutes             50891 non-null  float64\n",
            " 7   RoamingCalls               50891 non-null  float64\n",
            " 8   PercChangeMinutes          50680 non-null  float64\n",
            " 9   PercChangeRevenues         50680 non-null  float64\n",
            " 10  DroppedCalls               51047 non-null  float64\n",
            " 11  BlockedCalls               51047 non-null  float64\n",
            " 12  UnansweredCalls            51047 non-null  float64\n",
            " 13  CustomerCareCalls          51047 non-null  float64\n",
            " 14  ThreewayCalls              51047 non-null  float64\n",
            " 15  ReceivedCalls              51047 non-null  float64\n",
            " 16  OutboundCalls              51047 non-null  float64\n",
            " 17  InboundCalls               51047 non-null  float64\n",
            " 18  PeakCallsInOut             51047 non-null  float64\n",
            " 19  OffPeakCallsInOut          51047 non-null  float64\n",
            " 20  DroppedBlockedCalls        51047 non-null  float64\n",
            " 21  CallForwardingCalls        51047 non-null  float64\n",
            " 22  CallWaitingCalls           51047 non-null  float64\n",
            " 23  MonthsInService            51047 non-null  int64  \n",
            " 24  UniqueSubs                 51047 non-null  int64  \n",
            " 25  ActiveSubs                 51047 non-null  int64  \n",
            " 26  ServiceArea                51023 non-null  object \n",
            " 27  Handsets                   51046 non-null  float64\n",
            " 28  HandsetModels              51046 non-null  float64\n",
            " 29  CurrentEquipmentDays       51046 non-null  float64\n",
            " 30  AgeHH1                     50138 non-null  float64\n",
            " 31  AgeHH2                     50138 non-null  float64\n",
            " 32  ChildrenInHH               51047 non-null  object \n",
            " 33  HandsetRefurbished         51047 non-null  object \n",
            " 34  HandsetWebCapable          51047 non-null  object \n",
            " 35  TruckOwner                 51047 non-null  object \n",
            " 36  RVOwner                    51047 non-null  object \n",
            " 37  Homeownership              51047 non-null  object \n",
            " 38  BuysViaMailOrder           51047 non-null  object \n",
            " 39  RespondsToMailOffers       51047 non-null  object \n",
            " 40  OptOutMailings             51047 non-null  object \n",
            " 41  NonUSTravel                51047 non-null  object \n",
            " 42  OwnsComputer               51047 non-null  object \n",
            " 43  HasCreditCard              51047 non-null  object \n",
            " 44  RetentionCalls             51047 non-null  int64  \n",
            " 45  RetentionOffersAccepted    51047 non-null  int64  \n",
            " 46  NewCellphoneUser           51047 non-null  object \n",
            " 47  NotNewCellphoneUser        51047 non-null  object \n",
            " 48  ReferralsMadeBySubscriber  51047 non-null  int64  \n",
            " 49  IncomeGroup                51047 non-null  int64  \n",
            " 50  OwnsMotorcycle             51047 non-null  object \n",
            " 51  AdjustmentsToCreditRating  51047 non-null  int64  \n",
            " 52  HandsetPrice               51047 non-null  object \n",
            " 53  MadeCallToRetentionTeam    51047 non-null  object \n",
            " 54  CreditRating               51047 non-null  object \n",
            " 55  PrizmCode                  51047 non-null  object \n",
            " 56  Occupation                 51047 non-null  object \n",
            " 57  MaritalStatus              51047 non-null  object \n",
            "dtypes: float64(26), int64(9), object(23)\n",
            "memory usage: 22.6+ MB\n"
          ]
        }
      ]
    },
    {
      "cell_type": "code",
      "source": [
        "cust_df.describe()"
      ],
      "metadata": {
        "colab": {
          "base_uri": "https://localhost:8080/",
          "height": 364
        },
        "id": "531Ar9_fD7l7",
        "outputId": "d696622c-ff82-445d-d9ad-2c9f0fe7d72b"
      },
      "execution_count": null,
      "outputs": [
        {
          "output_type": "execute_result",
          "data": {
            "text/html": [
              "\n",
              "  <div id=\"df-8788f9e1-c2be-4c85-8a39-73cdb1a0f2fb\">\n",
              "    <div class=\"colab-df-container\">\n",
              "      <div>\n",
              "<style scoped>\n",
              "    .dataframe tbody tr th:only-of-type {\n",
              "        vertical-align: middle;\n",
              "    }\n",
              "\n",
              "    .dataframe tbody tr th {\n",
              "        vertical-align: top;\n",
              "    }\n",
              "\n",
              "    .dataframe thead th {\n",
              "        text-align: right;\n",
              "    }\n",
              "</style>\n",
              "<table border=\"1\" class=\"dataframe\">\n",
              "  <thead>\n",
              "    <tr style=\"text-align: right;\">\n",
              "      <th></th>\n",
              "      <th>MonthlyRevenue</th>\n",
              "      <th>MonthlyMinutes</th>\n",
              "      <th>TotalRecurringCharge</th>\n",
              "      <th>DirectorAssistedCalls</th>\n",
              "      <th>OverageMinutes</th>\n",
              "      <th>RoamingCalls</th>\n",
              "      <th>PercChangeMinutes</th>\n",
              "      <th>PercChangeRevenues</th>\n",
              "      <th>DroppedCalls</th>\n",
              "      <th>BlockedCalls</th>\n",
              "      <th>UnansweredCalls</th>\n",
              "      <th>CustomerCareCalls</th>\n",
              "      <th>ThreewayCalls</th>\n",
              "      <th>ReceivedCalls</th>\n",
              "      <th>OutboundCalls</th>\n",
              "      <th>InboundCalls</th>\n",
              "      <th>PeakCallsInOut</th>\n",
              "      <th>OffPeakCallsInOut</th>\n",
              "      <th>DroppedBlockedCalls</th>\n",
              "      <th>CallForwardingCalls</th>\n",
              "      <th>CallWaitingCalls</th>\n",
              "      <th>MonthsInService</th>\n",
              "      <th>UniqueSubs</th>\n",
              "      <th>ActiveSubs</th>\n",
              "      <th>Handsets</th>\n",
              "      <th>HandsetModels</th>\n",
              "      <th>CurrentEquipmentDays</th>\n",
              "      <th>AgeHH1</th>\n",
              "      <th>AgeHH2</th>\n",
              "      <th>RetentionCalls</th>\n",
              "      <th>RetentionOffersAccepted</th>\n",
              "      <th>ReferralsMadeBySubscriber</th>\n",
              "      <th>IncomeGroup</th>\n",
              "      <th>AdjustmentsToCreditRating</th>\n",
              "    </tr>\n",
              "  </thead>\n",
              "  <tbody>\n",
              "    <tr>\n",
              "      <th>count</th>\n",
              "      <td>50891.000000</td>\n",
              "      <td>50891.000000</td>\n",
              "      <td>50891.000000</td>\n",
              "      <td>50891.000000</td>\n",
              "      <td>50891.000000</td>\n",
              "      <td>50891.000000</td>\n",
              "      <td>50680.000000</td>\n",
              "      <td>50680.000000</td>\n",
              "      <td>51047.000000</td>\n",
              "      <td>51047.000000</td>\n",
              "      <td>51047.000000</td>\n",
              "      <td>51047.000000</td>\n",
              "      <td>51047.000000</td>\n",
              "      <td>51047.000000</td>\n",
              "      <td>51047.000000</td>\n",
              "      <td>51047.000000</td>\n",
              "      <td>51047.000000</td>\n",
              "      <td>51047.000000</td>\n",
              "      <td>51047.000000</td>\n",
              "      <td>51047.000000</td>\n",
              "      <td>51047.000000</td>\n",
              "      <td>51047.000000</td>\n",
              "      <td>51047.000000</td>\n",
              "      <td>51047.000000</td>\n",
              "      <td>51046.000000</td>\n",
              "      <td>51046.000000</td>\n",
              "      <td>51046.000000</td>\n",
              "      <td>50138.000000</td>\n",
              "      <td>50138.000000</td>\n",
              "      <td>51047.000000</td>\n",
              "      <td>51047.000000</td>\n",
              "      <td>51047.000000</td>\n",
              "      <td>51047.000000</td>\n",
              "      <td>51047.000000</td>\n",
              "    </tr>\n",
              "    <tr>\n",
              "      <th>mean</th>\n",
              "      <td>58.834492</td>\n",
              "      <td>525.653416</td>\n",
              "      <td>46.830088</td>\n",
              "      <td>0.895229</td>\n",
              "      <td>40.027785</td>\n",
              "      <td>1.236244</td>\n",
              "      <td>-11.547908</td>\n",
              "      <td>-1.191985</td>\n",
              "      <td>6.011489</td>\n",
              "      <td>4.085672</td>\n",
              "      <td>28.288981</td>\n",
              "      <td>1.868999</td>\n",
              "      <td>0.298838</td>\n",
              "      <td>114.800121</td>\n",
              "      <td>25.377715</td>\n",
              "      <td>8.178104</td>\n",
              "      <td>90.549515</td>\n",
              "      <td>67.650790</td>\n",
              "      <td>10.158003</td>\n",
              "      <td>0.012277</td>\n",
              "      <td>1.840504</td>\n",
              "      <td>18.756264</td>\n",
              "      <td>1.532157</td>\n",
              "      <td>1.354340</td>\n",
              "      <td>1.805646</td>\n",
              "      <td>1.558751</td>\n",
              "      <td>380.545841</td>\n",
              "      <td>31.338127</td>\n",
              "      <td>21.144142</td>\n",
              "      <td>0.037201</td>\n",
              "      <td>0.018277</td>\n",
              "      <td>0.052070</td>\n",
              "      <td>4.324524</td>\n",
              "      <td>0.053911</td>\n",
              "    </tr>\n",
              "    <tr>\n",
              "      <th>std</th>\n",
              "      <td>44.507336</td>\n",
              "      <td>529.871063</td>\n",
              "      <td>23.848871</td>\n",
              "      <td>2.228546</td>\n",
              "      <td>96.588076</td>\n",
              "      <td>9.818294</td>\n",
              "      <td>257.514772</td>\n",
              "      <td>39.574915</td>\n",
              "      <td>9.043955</td>\n",
              "      <td>10.946905</td>\n",
              "      <td>38.876194</td>\n",
              "      <td>5.096138</td>\n",
              "      <td>1.168277</td>\n",
              "      <td>166.485896</td>\n",
              "      <td>35.209147</td>\n",
              "      <td>16.665878</td>\n",
              "      <td>104.947470</td>\n",
              "      <td>92.752699</td>\n",
              "      <td>15.555284</td>\n",
              "      <td>0.594168</td>\n",
              "      <td>5.585129</td>\n",
              "      <td>9.800138</td>\n",
              "      <td>1.223384</td>\n",
              "      <td>0.675477</td>\n",
              "      <td>1.331173</td>\n",
              "      <td>0.905932</td>\n",
              "      <td>253.801982</td>\n",
              "      <td>22.094635</td>\n",
              "      <td>23.931368</td>\n",
              "      <td>0.206483</td>\n",
              "      <td>0.142458</td>\n",
              "      <td>0.307592</td>\n",
              "      <td>3.138236</td>\n",
              "      <td>0.383147</td>\n",
              "    </tr>\n",
              "    <tr>\n",
              "      <th>min</th>\n",
              "      <td>-6.170000</td>\n",
              "      <td>0.000000</td>\n",
              "      <td>-11.000000</td>\n",
              "      <td>0.000000</td>\n",
              "      <td>0.000000</td>\n",
              "      <td>0.000000</td>\n",
              "      <td>-3875.000000</td>\n",
              "      <td>-1107.700000</td>\n",
              "      <td>0.000000</td>\n",
              "      <td>0.000000</td>\n",
              "      <td>0.000000</td>\n",
              "      <td>0.000000</td>\n",
              "      <td>0.000000</td>\n",
              "      <td>0.000000</td>\n",
              "      <td>0.000000</td>\n",
              "      <td>0.000000</td>\n",
              "      <td>0.000000</td>\n",
              "      <td>0.000000</td>\n",
              "      <td>0.000000</td>\n",
              "      <td>0.000000</td>\n",
              "      <td>0.000000</td>\n",
              "      <td>6.000000</td>\n",
              "      <td>1.000000</td>\n",
              "      <td>0.000000</td>\n",
              "      <td>1.000000</td>\n",
              "      <td>1.000000</td>\n",
              "      <td>-5.000000</td>\n",
              "      <td>0.000000</td>\n",
              "      <td>0.000000</td>\n",
              "      <td>0.000000</td>\n",
              "      <td>0.000000</td>\n",
              "      <td>0.000000</td>\n",
              "      <td>0.000000</td>\n",
              "      <td>0.000000</td>\n",
              "    </tr>\n",
              "    <tr>\n",
              "      <th>25%</th>\n",
              "      <td>33.610000</td>\n",
              "      <td>158.000000</td>\n",
              "      <td>30.000000</td>\n",
              "      <td>0.000000</td>\n",
              "      <td>0.000000</td>\n",
              "      <td>0.000000</td>\n",
              "      <td>-83.000000</td>\n",
              "      <td>-7.100000</td>\n",
              "      <td>0.700000</td>\n",
              "      <td>0.000000</td>\n",
              "      <td>5.300000</td>\n",
              "      <td>0.000000</td>\n",
              "      <td>0.000000</td>\n",
              "      <td>8.300000</td>\n",
              "      <td>3.300000</td>\n",
              "      <td>0.000000</td>\n",
              "      <td>23.000000</td>\n",
              "      <td>11.000000</td>\n",
              "      <td>1.700000</td>\n",
              "      <td>0.000000</td>\n",
              "      <td>0.000000</td>\n",
              "      <td>11.000000</td>\n",
              "      <td>1.000000</td>\n",
              "      <td>1.000000</td>\n",
              "      <td>1.000000</td>\n",
              "      <td>1.000000</td>\n",
              "      <td>205.000000</td>\n",
              "      <td>0.000000</td>\n",
              "      <td>0.000000</td>\n",
              "      <td>0.000000</td>\n",
              "      <td>0.000000</td>\n",
              "      <td>0.000000</td>\n",
              "      <td>0.000000</td>\n",
              "      <td>0.000000</td>\n",
              "    </tr>\n",
              "    <tr>\n",
              "      <th>50%</th>\n",
              "      <td>48.460000</td>\n",
              "      <td>366.000000</td>\n",
              "      <td>45.000000</td>\n",
              "      <td>0.250000</td>\n",
              "      <td>3.000000</td>\n",
              "      <td>0.000000</td>\n",
              "      <td>-5.000000</td>\n",
              "      <td>-0.300000</td>\n",
              "      <td>3.000000</td>\n",
              "      <td>1.000000</td>\n",
              "      <td>16.300000</td>\n",
              "      <td>0.000000</td>\n",
              "      <td>0.000000</td>\n",
              "      <td>52.800000</td>\n",
              "      <td>13.700000</td>\n",
              "      <td>2.000000</td>\n",
              "      <td>62.000000</td>\n",
              "      <td>35.700000</td>\n",
              "      <td>5.300000</td>\n",
              "      <td>0.000000</td>\n",
              "      <td>0.300000</td>\n",
              "      <td>16.000000</td>\n",
              "      <td>1.000000</td>\n",
              "      <td>1.000000</td>\n",
              "      <td>1.000000</td>\n",
              "      <td>1.000000</td>\n",
              "      <td>329.000000</td>\n",
              "      <td>36.000000</td>\n",
              "      <td>0.000000</td>\n",
              "      <td>0.000000</td>\n",
              "      <td>0.000000</td>\n",
              "      <td>0.000000</td>\n",
              "      <td>5.000000</td>\n",
              "      <td>0.000000</td>\n",
              "    </tr>\n",
              "    <tr>\n",
              "      <th>75%</th>\n",
              "      <td>71.065000</td>\n",
              "      <td>723.000000</td>\n",
              "      <td>60.000000</td>\n",
              "      <td>0.990000</td>\n",
              "      <td>41.000000</td>\n",
              "      <td>0.300000</td>\n",
              "      <td>66.000000</td>\n",
              "      <td>1.600000</td>\n",
              "      <td>7.700000</td>\n",
              "      <td>3.700000</td>\n",
              "      <td>36.300000</td>\n",
              "      <td>1.700000</td>\n",
              "      <td>0.300000</td>\n",
              "      <td>153.500000</td>\n",
              "      <td>34.000000</td>\n",
              "      <td>9.300000</td>\n",
              "      <td>121.300000</td>\n",
              "      <td>88.700000</td>\n",
              "      <td>12.300000</td>\n",
              "      <td>0.000000</td>\n",
              "      <td>1.300000</td>\n",
              "      <td>24.000000</td>\n",
              "      <td>2.000000</td>\n",
              "      <td>2.000000</td>\n",
              "      <td>2.000000</td>\n",
              "      <td>2.000000</td>\n",
              "      <td>515.000000</td>\n",
              "      <td>48.000000</td>\n",
              "      <td>42.000000</td>\n",
              "      <td>0.000000</td>\n",
              "      <td>0.000000</td>\n",
              "      <td>0.000000</td>\n",
              "      <td>7.000000</td>\n",
              "      <td>0.000000</td>\n",
              "    </tr>\n",
              "    <tr>\n",
              "      <th>max</th>\n",
              "      <td>1223.380000</td>\n",
              "      <td>7359.000000</td>\n",
              "      <td>400.000000</td>\n",
              "      <td>159.390000</td>\n",
              "      <td>4321.000000</td>\n",
              "      <td>1112.400000</td>\n",
              "      <td>5192.000000</td>\n",
              "      <td>2483.500000</td>\n",
              "      <td>221.700000</td>\n",
              "      <td>384.300000</td>\n",
              "      <td>848.700000</td>\n",
              "      <td>327.300000</td>\n",
              "      <td>66.000000</td>\n",
              "      <td>2692.400000</td>\n",
              "      <td>644.300000</td>\n",
              "      <td>519.300000</td>\n",
              "      <td>2090.700000</td>\n",
              "      <td>1474.700000</td>\n",
              "      <td>411.700000</td>\n",
              "      <td>81.300000</td>\n",
              "      <td>212.700000</td>\n",
              "      <td>61.000000</td>\n",
              "      <td>196.000000</td>\n",
              "      <td>53.000000</td>\n",
              "      <td>24.000000</td>\n",
              "      <td>15.000000</td>\n",
              "      <td>1812.000000</td>\n",
              "      <td>99.000000</td>\n",
              "      <td>99.000000</td>\n",
              "      <td>4.000000</td>\n",
              "      <td>3.000000</td>\n",
              "      <td>35.000000</td>\n",
              "      <td>9.000000</td>\n",
              "      <td>25.000000</td>\n",
              "    </tr>\n",
              "  </tbody>\n",
              "</table>\n",
              "</div>\n",
              "      <button class=\"colab-df-convert\" onclick=\"convertToInteractive('df-8788f9e1-c2be-4c85-8a39-73cdb1a0f2fb')\"\n",
              "              title=\"Convert this dataframe to an interactive table.\"\n",
              "              style=\"display:none;\">\n",
              "        \n",
              "  <svg xmlns=\"http://www.w3.org/2000/svg\" height=\"24px\"viewBox=\"0 0 24 24\"\n",
              "       width=\"24px\">\n",
              "    <path d=\"M0 0h24v24H0V0z\" fill=\"none\"/>\n",
              "    <path d=\"M18.56 5.44l.94 2.06.94-2.06 2.06-.94-2.06-.94-.94-2.06-.94 2.06-2.06.94zm-11 1L8.5 8.5l.94-2.06 2.06-.94-2.06-.94L8.5 2.5l-.94 2.06-2.06.94zm10 10l.94 2.06.94-2.06 2.06-.94-2.06-.94-.94-2.06-.94 2.06-2.06.94z\"/><path d=\"M17.41 7.96l-1.37-1.37c-.4-.4-.92-.59-1.43-.59-.52 0-1.04.2-1.43.59L10.3 9.45l-7.72 7.72c-.78.78-.78 2.05 0 2.83L4 21.41c.39.39.9.59 1.41.59.51 0 1.02-.2 1.41-.59l7.78-7.78 2.81-2.81c.8-.78.8-2.07 0-2.86zM5.41 20L4 18.59l7.72-7.72 1.47 1.35L5.41 20z\"/>\n",
              "  </svg>\n",
              "      </button>\n",
              "      \n",
              "  <style>\n",
              "    .colab-df-container {\n",
              "      display:flex;\n",
              "      flex-wrap:wrap;\n",
              "      gap: 12px;\n",
              "    }\n",
              "\n",
              "    .colab-df-convert {\n",
              "      background-color: #E8F0FE;\n",
              "      border: none;\n",
              "      border-radius: 50%;\n",
              "      cursor: pointer;\n",
              "      display: none;\n",
              "      fill: #1967D2;\n",
              "      height: 32px;\n",
              "      padding: 0 0 0 0;\n",
              "      width: 32px;\n",
              "    }\n",
              "\n",
              "    .colab-df-convert:hover {\n",
              "      background-color: #E2EBFA;\n",
              "      box-shadow: 0px 1px 2px rgba(60, 64, 67, 0.3), 0px 1px 3px 1px rgba(60, 64, 67, 0.15);\n",
              "      fill: #174EA6;\n",
              "    }\n",
              "\n",
              "    [theme=dark] .colab-df-convert {\n",
              "      background-color: #3B4455;\n",
              "      fill: #D2E3FC;\n",
              "    }\n",
              "\n",
              "    [theme=dark] .colab-df-convert:hover {\n",
              "      background-color: #434B5C;\n",
              "      box-shadow: 0px 1px 3px 1px rgba(0, 0, 0, 0.15);\n",
              "      filter: drop-shadow(0px 1px 2px rgba(0, 0, 0, 0.3));\n",
              "      fill: #FFFFFF;\n",
              "    }\n",
              "  </style>\n",
              "\n",
              "      <script>\n",
              "        const buttonEl =\n",
              "          document.querySelector('#df-8788f9e1-c2be-4c85-8a39-73cdb1a0f2fb button.colab-df-convert');\n",
              "        buttonEl.style.display =\n",
              "          google.colab.kernel.accessAllowed ? 'block' : 'none';\n",
              "\n",
              "        async function convertToInteractive(key) {\n",
              "          const element = document.querySelector('#df-8788f9e1-c2be-4c85-8a39-73cdb1a0f2fb');\n",
              "          const dataTable =\n",
              "            await google.colab.kernel.invokeFunction('convertToInteractive',\n",
              "                                                     [key], {});\n",
              "          if (!dataTable) return;\n",
              "\n",
              "          const docLinkHtml = 'Like what you see? Visit the ' +\n",
              "            '<a target=\"_blank\" href=https://colab.research.google.com/notebooks/data_table.ipynb>data table notebook</a>'\n",
              "            + ' to learn more about interactive tables.';\n",
              "          element.innerHTML = '';\n",
              "          dataTable['output_type'] = 'display_data';\n",
              "          await google.colab.output.renderOutput(dataTable, element);\n",
              "          const docLink = document.createElement('div');\n",
              "          docLink.innerHTML = docLinkHtml;\n",
              "          element.appendChild(docLink);\n",
              "        }\n",
              "      </script>\n",
              "    </div>\n",
              "  </div>\n",
              "  "
            ],
            "text/plain": [
              "       MonthlyRevenue  MonthlyMinutes  ...   IncomeGroup  AdjustmentsToCreditRating\n",
              "count    50891.000000    50891.000000  ...  51047.000000               51047.000000\n",
              "mean        58.834492      525.653416  ...      4.324524                   0.053911\n",
              "std         44.507336      529.871063  ...      3.138236                   0.383147\n",
              "min         -6.170000        0.000000  ...      0.000000                   0.000000\n",
              "25%         33.610000      158.000000  ...      0.000000                   0.000000\n",
              "50%         48.460000      366.000000  ...      5.000000                   0.000000\n",
              "75%         71.065000      723.000000  ...      7.000000                   0.000000\n",
              "max       1223.380000     7359.000000  ...      9.000000                  25.000000\n",
              "\n",
              "[8 rows x 34 columns]"
            ]
          },
          "metadata": {},
          "execution_count": 19
        }
      ]
    },
    {
      "cell_type": "markdown",
      "metadata": {
        "id": "arTuXCYclFIL"
      },
      "source": [
        "## Exercise"
      ]
    },
    {
      "cell_type": "markdown",
      "metadata": {
        "id": "46n6OhqOlFIN"
      },
      "source": [
        "## Placeholder for your analysis"
      ]
    },
    {
      "cell_type": "code",
      "metadata": {
        "id": "xDu2UNTvlFIO",
        "colab": {
          "base_uri": "https://localhost:8080/"
        },
        "outputId": "f42a9304-f3c9-4663-cc82-2d4ed9804402"
      },
      "source": [
        "# Type your code here to explore and understand the data better\n",
        "\n",
        "#e.g., identify the dimension of cust_df\n",
        "cust_df.shape"
      ],
      "execution_count": null,
      "outputs": [
        {
          "output_type": "execute_result",
          "data": {
            "text/plain": [
              "(51047, 57)"
            ]
          },
          "metadata": {},
          "execution_count": 20
        }
      ]
    },
    {
      "cell_type": "code",
      "source": [
        "# Checking for duplicate values\n",
        "print(cust_df.CustomerID.nunique()/cust_df.shape[0]) # if the answer is 1 then there are no duplicate values"
      ],
      "metadata": {
        "colab": {
          "base_uri": "https://localhost:8080/"
        },
        "id": "gIArzdBm5C1o",
        "outputId": "2834f1a8-c592-4541-86b9-3de38d4aea9d"
      },
      "execution_count": null,
      "outputs": [
        {
          "output_type": "stream",
          "name": "stdout",
          "text": [
            "1.0\n"
          ]
        }
      ]
    },
    {
      "cell_type": "code",
      "source": [
        "# Checking whether the data id balanced or imbalanced \n",
        "# For example:  If you have 90% people who are not diabetic and 10% are diabetic. \n",
        "# Then if you have a useless model, which simply predicts as 'Not diabetic' always, it gives a high accuracy of 90%\n",
        "# So it is difficult to evaluate , as certain models like Decision Tree, and Logistic Regression have a bias towards the majority class.\n",
        "cust_df.Churn.value_counts()"
      ],
      "metadata": {
        "colab": {
          "base_uri": "https://localhost:8080/"
        },
        "id": "2AL5tOA_5MCj",
        "outputId": "4575fbec-afec-47ec-91a7-54e387a5d7e7"
      },
      "execution_count": null,
      "outputs": [
        {
          "output_type": "execute_result",
          "data": {
            "text/plain": [
              "No     36336\n",
              "Yes    14711\n",
              "Name: Churn, dtype: int64"
            ]
          },
          "metadata": {},
          "execution_count": 25
        }
      ]
    },
    {
      "cell_type": "markdown",
      "metadata": {
        "id": "rsOVIvHSlFIO"
      },
      "source": [
        "## Q1. Detect and resolve problems in the data (Missing value, Outliers, Unexpected value, etc.)"
      ]
    },
    {
      "cell_type": "markdown",
      "metadata": {
        "id": "qoX4uCUIlFIP"
      },
      "source": [
        "### Q1.1 How many customers had zero monthly revenue?"
      ]
    },
    {
      "cell_type": "code",
      "metadata": {
        "id": "qSmjZ8QQlFIP",
        "colab": {
          "base_uri": "https://localhost:8080/"
        },
        "outputId": "d8c0959a-c14a-4336-b795-b8ac28cd353b"
      },
      "source": [
        "#How many customers had zero monthly revenue?\n",
        "#Exclude the customers with zero monthly revenue from cust_df and from any subsequent analysis\n",
        "print(cust_df[cust_df.MonthlyRevenue == 0].shape[0])\n",
        "for i in range(cust_df.shape[0]):\n",
        "  if cust_df.loc[i]['MonthlyRevenue'] == 0:\n",
        "    cust_df.drop(i,inplace=True)\n",
        "print(cust_df[cust_df.MonthlyRevenue == 0].shape[0])\n",
        "cust_df = cust_df.reset_index()\n"
      ],
      "execution_count": null,
      "outputs": [
        {
          "output_type": "stream",
          "name": "stdout",
          "text": [
            "6\n",
            "0\n"
          ]
        }
      ]
    },
    {
      "cell_type": "code",
      "source": [
        "# the unnecesary columns can be removed\n",
        "cust_df.drop(['level_0', 'index', 'CustomerID'],axis=1,inplace=True)"
      ],
      "metadata": {
        "id": "LZdrBtoNQbsh"
      },
      "execution_count": null,
      "outputs": []
    },
    {
      "cell_type": "markdown",
      "metadata": {
        "id": "IEil-5AblFIP"
      },
      "source": [
        "### Q1.2 How many columns has missing values percentage > 5%"
      ]
    },
    {
      "cell_type": "code",
      "metadata": {
        "id": "9r1UrF0PlFIQ",
        "colab": {
          "base_uri": "https://localhost:8080/"
        },
        "outputId": "7b69e4cc-bd95-4f2c-9951-3c0445228b96"
      },
      "source": [
        "#Calculate for each column % of missing value in the data\n",
        "#How many columns has missing values percentage > 5%\n",
        "#What strategy should be used for imputation?\n",
        "\n",
        "percentage_of_null = (cust_df.isnull().sum()/cust_df.shape[0])*100\n",
        "percentage_of_null"
      ],
      "execution_count": null,
      "outputs": [
        {
          "output_type": "execute_result",
          "data": {
            "text/plain": [
              "Churn                        0.000000\n",
              "MonthlyRevenue               0.305637\n",
              "MonthlyMinutes               0.305637\n",
              "TotalRecurringCharge         0.305637\n",
              "DirectorAssistedCalls        0.305637\n",
              "OverageMinutes               0.305637\n",
              "RoamingCalls                 0.305637\n",
              "PercChangeMinutes            0.715111\n",
              "PercChangeRevenues           0.715111\n",
              "DroppedCalls                 0.000000\n",
              "BlockedCalls                 0.000000\n",
              "UnansweredCalls              0.000000\n",
              "CustomerCareCalls            0.000000\n",
              "ThreewayCalls                0.000000\n",
              "ReceivedCalls                0.000000\n",
              "OutboundCalls                0.000000\n",
              "InboundCalls                 0.000000\n",
              "PeakCallsInOut               0.000000\n",
              "OffPeakCallsInOut            0.000000\n",
              "DroppedBlockedCalls          0.000000\n",
              "CallForwardingCalls          0.000000\n",
              "CallWaitingCalls             0.000000\n",
              "MonthsInService              0.000000\n",
              "UniqueSubs                   0.000000\n",
              "ActiveSubs                   0.000000\n",
              "ServiceArea                  0.047021\n",
              "Handsets                     0.001959\n",
              "HandsetModels                0.001959\n",
              "CurrentEquipmentDays         0.001959\n",
              "AgeHH1                       1.780921\n",
              "AgeHH2                       1.780921\n",
              "ChildrenInHH                 0.000000\n",
              "HandsetRefurbished           0.000000\n",
              "HandsetWebCapable            0.000000\n",
              "TruckOwner                   0.000000\n",
              "RVOwner                      0.000000\n",
              "Homeownership                0.000000\n",
              "BuysViaMailOrder             0.000000\n",
              "RespondsToMailOffers         0.000000\n",
              "OptOutMailings               0.000000\n",
              "NonUSTravel                  0.000000\n",
              "OwnsComputer                 0.000000\n",
              "HasCreditCard                0.000000\n",
              "RetentionCalls               0.000000\n",
              "RetentionOffersAccepted      0.000000\n",
              "NewCellphoneUser             0.000000\n",
              "NotNewCellphoneUser          0.000000\n",
              "ReferralsMadeBySubscriber    0.000000\n",
              "IncomeGroup                  0.000000\n",
              "OwnsMotorcycle               0.000000\n",
              "AdjustmentsToCreditRating    0.000000\n",
              "HandsetPrice                 0.000000\n",
              "MadeCallToRetentionTeam      0.000000\n",
              "CreditRating                 0.000000\n",
              "PrizmCode                    0.000000\n",
              "Occupation                   0.000000\n",
              "MaritalStatus                0.000000\n",
              "dtype: float64"
            ]
          },
          "metadata": {},
          "execution_count": 21
        }
      ]
    },
    {
      "cell_type": "code",
      "source": [
        "num=0\n",
        "for i in percentage_of_null:\n",
        "  if i> 0.05:\n",
        "    num+=1\n",
        "print('The number of columns with missing value percentage greater than 5% is',num)"
      ],
      "metadata": {
        "colab": {
          "base_uri": "https://localhost:8080/"
        },
        "id": "Ex_fqF7TJ2IF",
        "outputId": "96e2539e-3fd7-4c2d-a6e0-2f65a2d08ae0"
      },
      "execution_count": null,
      "outputs": [
        {
          "output_type": "stream",
          "name": "stdout",
          "text": [
            "The number of columns with missing value percentage greater than 5% is 10\n"
          ]
        }
      ]
    },
    {
      "cell_type": "code",
      "source": [
        "a = []\n",
        "for i in list(cust_df.columns):\n",
        "  if cust_df[i].isnull().any() == True:\n",
        "    a.append(i) # So,a has the names of the columns, which contain null values"
      ],
      "metadata": {
        "id": "trGTNztPWQhl"
      },
      "execution_count": null,
      "outputs": []
    },
    {
      "cell_type": "code",
      "source": [
        "cols= a.remove('ServiceArea') # because ServiceArea is a categorical column\n",
        "plt.figure(figsize = (10,10))\n",
        "cust_df[a].boxplot(column=cols, vert =False) # boxplot helps to visualize the outliers"
      ],
      "metadata": {
        "colab": {
          "base_uri": "https://localhost:8080/",
          "height": 609
        },
        "id": "PdSDqhegrybL",
        "outputId": "b63305ea-5a34-4f71-896d-33c50e0ad342"
      },
      "execution_count": null,
      "outputs": [
        {
          "output_type": "execute_result",
          "data": {
            "text/plain": [
              "<Figure size 720x720 with 0 Axes>"
            ]
          },
          "metadata": {},
          "execution_count": 58
        },
        {
          "output_type": "execute_result",
          "data": {
            "text/plain": [
              "<matplotlib.axes._subplots.AxesSubplot at 0x7fa904b02fd0>"
            ]
          },
          "metadata": {},
          "execution_count": 58
        },
        {
          "output_type": "display_data",
          "data": {
            "image/png": "[encoded data removed]",
            "text/plain": [
              "<Figure size 720x720 with 1 Axes>"
            ]
          },
          "metadata": {
            "needs_background": "light"
          }
        }
      ]
    },
    {
      "cell_type": "code",
      "source": [
        "df = cust_df[a]\n",
        "Q1 = df.quantile(0.25)\n",
        "Q3 = df.quantile(0.75)\n",
        "IQR = Q3 - Q1\n",
        "k = ((df < (Q1 - 1.5 * IQR)) | (df > (Q3 + 1.5 * IQR))).sum()\n",
        "k"
      ],
      "metadata": {
        "colab": {
          "base_uri": "https://localhost:8080/"
        },
        "id": "TIskK5NXVtcJ",
        "outputId": "a8d9d08d-0e90-4c62-cc97-a1565c8e2aac"
      },
      "execution_count": null,
      "outputs": [
        {
          "output_type": "execute_result",
          "data": {
            "text/plain": [
              "MonthlyRevenue            2997\n",
              "MonthlyMinutes            2567\n",
              "TotalRecurringCharge       824\n",
              "DirectorAssistedCalls     5530\n",
              "OverageMinutes            5842\n",
              "RoamingCalls              8835\n",
              "PercChangeMinutes         6807\n",
              "PercChangeRevenues       13221\n",
              "Handsets                  4414\n",
              "HandsetModels             2008\n",
              "CurrentEquipmentDays      1445\n",
              "AgeHH1                       0\n",
              "AgeHH2                       0\n",
              "dtype: int64"
            ]
          },
          "metadata": {},
          "execution_count": 59
        }
      ]
    },
    {
      "cell_type": "code",
      "source": [
        "# Null value containing rows\n",
        "# with high number of ouliers : ['MonthlyRevenue','MonthlyMinutes','DirectorAssistedCalls','OverageMinutes','RoamingCalls','PercChangeMinutes','Handsets','HandsetModels','PercChangeRevenues']  \n",
        "# with low number of outliers : ['TotalRecurringCharge','CurrentEquipmentDays','AgeHH1','AgeHH2']\n",
        "# The number of outliers in a column is important to decide the manner in which we want to impute its null values.\n",
        "# High number of outliers : Impute with the median of the column\n",
        "# Low number of outliers : Impute with the mean of the column"
      ],
      "metadata": {
        "id": "IXSvv1AgtVih"
      },
      "execution_count": null,
      "outputs": []
    },
    {
      "cell_type": "code",
      "source": [
        "a = cust_df.columns[cust_df.isna().any() ]\n",
        "for i in a:\n",
        "  print(i,cust_df[i].dtypes)"
      ],
      "metadata": {
        "colab": {
          "base_uri": "https://localhost:8080/"
        },
        "id": "jiFibFIFrK6M",
        "outputId": "9905842b-29ed-4575-8aad-54146a8b8af4"
      },
      "execution_count": null,
      "outputs": [
        {
          "output_type": "stream",
          "name": "stdout",
          "text": [
            "MonthlyRevenue float64\n",
            "MonthlyMinutes float64\n",
            "TotalRecurringCharge float64\n",
            "DirectorAssistedCalls float64\n",
            "OverageMinutes float64\n",
            "RoamingCalls float64\n",
            "PercChangeMinutes float64\n",
            "PercChangeRevenues float64\n",
            "ServiceArea object\n",
            "Handsets float64\n",
            "HandsetModels float64\n",
            "CurrentEquipmentDays float64\n",
            "AgeHH1 float64\n",
            "AgeHH2 float64\n"
          ]
        }
      ]
    },
    {
      "cell_type": "markdown",
      "metadata": {
        "id": "wtaCwTMqlFIQ"
      },
      "source": [
        "<mark>__Result:__\n",
        "    \n",
        "Type your answer here for how would you impute the missing values (if any)"
      ]
    },
    {
      "cell_type": "code",
      "source": [
        "# other than that all the null value containing columns are float64\n",
        "# those columns with high number of outliers is replaces null values with median\n",
        "#h = ['MonthlyRevenue','MonthlyMinutes','DirectorAssistedCalls','OverageMinutes','RoamingCalls','PercChangeMinutes','Handsets','HandsetModels','PercChangeRevenues'] \n",
        "#for i in h:\n",
        "#  cust_df[i].fillna((cust_df[i].median),inplace=True)"
      ],
      "metadata": {
        "id": "cEq0CWtqQvRP"
      },
      "execution_count": null,
      "outputs": []
    },
    {
      "cell_type": "code",
      "source": [
        "# those columns with low number of outliers is replaces null values with mean\n",
        "#l = ['TotalRecurringCharge', 'CurrentEquipmentDays', 'AgeHH1','AgeHH2']\n",
        "#for i in l:\n",
        "#  cust_df[i].fillna((cust_df[i].mean),inplace = True)"
      ],
      "metadata": {
        "id": "N4yn4LqGRXs1"
      },
      "execution_count": null,
      "outputs": []
    },
    {
      "cell_type": "code",
      "source": [
        "# columns with string values, replaces null values with mode\n",
        "#cust_df['ServiceArea'].fillna((cust_df['ServiceArea'].mode),inplace = True)\n",
        "#cust_df.isna().sum().sum()"
      ],
      "metadata": {
        "colab": {
          "base_uri": "https://localhost:8080/"
        },
        "id": "1LgLR489R2QB",
        "outputId": "ee4115c5-1c9c-42f2-cf5f-891d10cf45a5"
      },
      "execution_count": null,
      "outputs": [
        {
          "output_type": "execute_result",
          "data": {
            "text/plain": [
              "0"
            ]
          },
          "metadata": {},
          "execution_count": 115
        }
      ]
    },
    {
      "cell_type": "markdown",
      "source": [
        "If it is a numerical column then, check for the number of outliers. If there are high number of outliers, use median to impute the missing values, or else use the mean.\n",
        "For categorical columns use the mode to impute the missing values."
      ],
      "metadata": {
        "id": "NzHlZioh5dXE"
      }
    },
    {
      "cell_type": "markdown",
      "metadata": {
        "id": "MMq6xiX_lFIQ"
      },
      "source": [
        "### Q1.3 For columns, \"UniqueSubs\" and \"DirectorAssistedCalls\" remove outliers, if any"
      ]
    },
    {
      "cell_type": "code",
      "metadata": {
        "id": "RurTZpXRlFIR",
        "outputId": "a556975a-29e3-4a2f-c997-a5a4652766fe",
        "colab": {
          "base_uri": "https://localhost:8080/",
          "height": 282
        }
      },
      "source": [
        "#plot box plot using pandas for columns \"UniqueSubs\" and \"DirectorAssistedCalls\"\n",
        "cols=['UniqueSubs','DirectorAssistedCalls']\n",
        "cust_df[cols].boxplot(vert=False)"
      ],
      "execution_count": null,
      "outputs": [
        {
          "output_type": "execute_result",
          "data": {
            "text/plain": [
              "<matplotlib.axes._subplots.AxesSubplot at 0x7f66b2791150>"
            ]
          },
          "metadata": {},
          "execution_count": 27
        },
        {
          "output_type": "display_data",
          "data": {
            "image/png": "[encoded data removed]",
            "text/plain": [
              "<Figure size 432x288 with 1 Axes>"
            ]
          },
          "metadata": {
            "needs_background": "light"
          }
        }
      ]
    },
    {
      "cell_type": "code",
      "metadata": {
        "id": "MXMbtk5TlFIS",
        "colab": {
          "base_uri": "https://localhost:8080/",
          "height": 505
        },
        "outputId": "45f17e5c-c6dd-49bf-8e48-d163bde0782f"
      },
      "source": [
        "#Remove top 1% outliers from the above mentioned two columns and plot the box plot again\n",
        "#Use \"quantile\" function to identify top 1% outliers\n",
        "cust_df.reset_index()\n",
        "us_99 = cust_df.UniqueSubs.quantile(0.99)\n",
        "dac_99 = cust_df.DirectorAssistedCalls.quantile(0.99)\n",
        "\n",
        "for i in range(cust_df.shape[0]):\n",
        "  if ((cust_df.UniqueSubs[i] > us_99) | (cust_df.DirectorAssistedCalls[i] > dac_99)):\n",
        "    cust_df.drop(i,inplace=True)\n",
        "print( us_99,dac_99,cust_df.UniqueSubs.quantile(0.99),cust_df.DirectorAssistedCalls.quantile(0.99))\n"
      ],
      "execution_count": null,
      "outputs": [
        {
          "output_type": "execute_result",
          "data": {
            "text/html": [
              "\n",
              "  <div id=\"df-29833811-7cc4-4200-85f6-979d7744eb1c\">\n",
              "    <div class=\"colab-df-container\">\n",
              "      <div>\n",
              "<style scoped>\n",
              "    .dataframe tbody tr th:only-of-type {\n",
              "        vertical-align: middle;\n",
              "    }\n",
              "\n",
              "    .dataframe tbody tr th {\n",
              "        vertical-align: top;\n",
              "    }\n",
              "\n",
              "    .dataframe thead th {\n",
              "        text-align: right;\n",
              "    }\n",
              "</style>\n",
              "<table border=\"1\" class=\"dataframe\">\n",
              "  <thead>\n",
              "    <tr style=\"text-align: right;\">\n",
              "      <th></th>\n",
              "      <th>index</th>\n",
              "      <th>Churn</th>\n",
              "      <th>MonthlyRevenue</th>\n",
              "      <th>MonthlyMinutes</th>\n",
              "      <th>TotalRecurringCharge</th>\n",
              "      <th>DirectorAssistedCalls</th>\n",
              "      <th>OverageMinutes</th>\n",
              "      <th>RoamingCalls</th>\n",
              "      <th>PercChangeMinutes</th>\n",
              "      <th>PercChangeRevenues</th>\n",
              "      <th>DroppedCalls</th>\n",
              "      <th>BlockedCalls</th>\n",
              "      <th>UnansweredCalls</th>\n",
              "      <th>CustomerCareCalls</th>\n",
              "      <th>ThreewayCalls</th>\n",
              "      <th>ReceivedCalls</th>\n",
              "      <th>OutboundCalls</th>\n",
              "      <th>InboundCalls</th>\n",
              "      <th>PeakCallsInOut</th>\n",
              "      <th>OffPeakCallsInOut</th>\n",
              "      <th>DroppedBlockedCalls</th>\n",
              "      <th>CallForwardingCalls</th>\n",
              "      <th>CallWaitingCalls</th>\n",
              "      <th>MonthsInService</th>\n",
              "      <th>UniqueSubs</th>\n",
              "      <th>ActiveSubs</th>\n",
              "      <th>ServiceArea</th>\n",
              "      <th>Handsets</th>\n",
              "      <th>HandsetModels</th>\n",
              "      <th>CurrentEquipmentDays</th>\n",
              "      <th>AgeHH1</th>\n",
              "      <th>AgeHH2</th>\n",
              "      <th>ChildrenInHH</th>\n",
              "      <th>HandsetRefurbished</th>\n",
              "      <th>HandsetWebCapable</th>\n",
              "      <th>TruckOwner</th>\n",
              "      <th>RVOwner</th>\n",
              "      <th>Homeownership</th>\n",
              "      <th>BuysViaMailOrder</th>\n",
              "      <th>RespondsToMailOffers</th>\n",
              "      <th>OptOutMailings</th>\n",
              "      <th>NonUSTravel</th>\n",
              "      <th>OwnsComputer</th>\n",
              "      <th>HasCreditCard</th>\n",
              "      <th>RetentionCalls</th>\n",
              "      <th>RetentionOffersAccepted</th>\n",
              "      <th>NewCellphoneUser</th>\n",
              "      <th>NotNewCellphoneUser</th>\n",
              "      <th>ReferralsMadeBySubscriber</th>\n",
              "      <th>IncomeGroup</th>\n",
              "      <th>OwnsMotorcycle</th>\n",
              "      <th>AdjustmentsToCreditRating</th>\n",
              "      <th>HandsetPrice</th>\n",
              "      <th>MadeCallToRetentionTeam</th>\n",
              "      <th>CreditRating</th>\n",
              "      <th>PrizmCode</th>\n",
              "      <th>Occupation</th>\n",
              "      <th>MaritalStatus</th>\n",
              "    </tr>\n",
              "  </thead>\n",
              "  <tbody>\n",
              "    <tr>\n",
              "      <th>0</th>\n",
              "      <td>0</td>\n",
              "      <td>Yes</td>\n",
              "      <td>24.00</td>\n",
              "      <td>219.0</td>\n",
              "      <td>22.0</td>\n",
              "      <td>0.25</td>\n",
              "      <td>0.0</td>\n",
              "      <td>0.0</td>\n",
              "      <td>-157.0</td>\n",
              "      <td>-19.0</td>\n",
              "      <td>0.7</td>\n",
              "      <td>0.7</td>\n",
              "      <td>6.3</td>\n",
              "      <td>0.0</td>\n",
              "      <td>0.0</td>\n",
              "      <td>97.2</td>\n",
              "      <td>0.0</td>\n",
              "      <td>0.0</td>\n",
              "      <td>58.0</td>\n",
              "      <td>24.0</td>\n",
              "      <td>1.3</td>\n",
              "      <td>0.0</td>\n",
              "      <td>0.3</td>\n",
              "      <td>61</td>\n",
              "      <td>2</td>\n",
              "      <td>1</td>\n",
              "      <td>SEAPOR503</td>\n",
              "      <td>2.0</td>\n",
              "      <td>2.0</td>\n",
              "      <td>361.0</td>\n",
              "      <td>62.0</td>\n",
              "      <td>0.0</td>\n",
              "      <td>No</td>\n",
              "      <td>No</td>\n",
              "      <td>Yes</td>\n",
              "      <td>No</td>\n",
              "      <td>No</td>\n",
              "      <td>Known</td>\n",
              "      <td>Yes</td>\n",
              "      <td>Yes</td>\n",
              "      <td>No</td>\n",
              "      <td>No</td>\n",
              "      <td>Yes</td>\n",
              "      <td>Yes</td>\n",
              "      <td>1</td>\n",
              "      <td>0</td>\n",
              "      <td>No</td>\n",
              "      <td>No</td>\n",
              "      <td>0</td>\n",
              "      <td>4</td>\n",
              "      <td>No</td>\n",
              "      <td>0</td>\n",
              "      <td>30</td>\n",
              "      <td>Yes</td>\n",
              "      <td>1-Highest</td>\n",
              "      <td>Suburban</td>\n",
              "      <td>Professional</td>\n",
              "      <td>No</td>\n",
              "    </tr>\n",
              "    <tr>\n",
              "      <th>1</th>\n",
              "      <td>1</td>\n",
              "      <td>Yes</td>\n",
              "      <td>16.99</td>\n",
              "      <td>10.0</td>\n",
              "      <td>17.0</td>\n",
              "      <td>0.00</td>\n",
              "      <td>0.0</td>\n",
              "      <td>0.0</td>\n",
              "      <td>-4.0</td>\n",
              "      <td>0.0</td>\n",
              "      <td>0.3</td>\n",
              "      <td>0.0</td>\n",
              "      <td>2.7</td>\n",
              "      <td>0.0</td>\n",
              "      <td>0.0</td>\n",
              "      <td>0.0</td>\n",
              "      <td>0.0</td>\n",
              "      <td>0.0</td>\n",
              "      <td>5.0</td>\n",
              "      <td>1.0</td>\n",
              "      <td>0.3</td>\n",
              "      <td>0.0</td>\n",
              "      <td>0.0</td>\n",
              "      <td>58</td>\n",
              "      <td>1</td>\n",
              "      <td>1</td>\n",
              "      <td>PITHOM412</td>\n",
              "      <td>2.0</td>\n",
              "      <td>1.0</td>\n",
              "      <td>1504.0</td>\n",
              "      <td>40.0</td>\n",
              "      <td>42.0</td>\n",
              "      <td>Yes</td>\n",
              "      <td>No</td>\n",
              "      <td>No</td>\n",
              "      <td>No</td>\n",
              "      <td>No</td>\n",
              "      <td>Known</td>\n",
              "      <td>Yes</td>\n",
              "      <td>Yes</td>\n",
              "      <td>No</td>\n",
              "      <td>No</td>\n",
              "      <td>Yes</td>\n",
              "      <td>Yes</td>\n",
              "      <td>0</td>\n",
              "      <td>0</td>\n",
              "      <td>Yes</td>\n",
              "      <td>No</td>\n",
              "      <td>0</td>\n",
              "      <td>5</td>\n",
              "      <td>No</td>\n",
              "      <td>0</td>\n",
              "      <td>30</td>\n",
              "      <td>No</td>\n",
              "      <td>4-Medium</td>\n",
              "      <td>Suburban</td>\n",
              "      <td>Professional</td>\n",
              "      <td>Yes</td>\n",
              "    </tr>\n",
              "    <tr>\n",
              "      <th>2</th>\n",
              "      <td>2</td>\n",
              "      <td>No</td>\n",
              "      <td>38.00</td>\n",
              "      <td>8.0</td>\n",
              "      <td>38.0</td>\n",
              "      <td>0.00</td>\n",
              "      <td>0.0</td>\n",
              "      <td>0.0</td>\n",
              "      <td>-2.0</td>\n",
              "      <td>0.0</td>\n",
              "      <td>0.0</td>\n",
              "      <td>0.0</td>\n",
              "      <td>0.0</td>\n",
              "      <td>0.0</td>\n",
              "      <td>0.0</td>\n",
              "      <td>0.4</td>\n",
              "      <td>0.3</td>\n",
              "      <td>0.0</td>\n",
              "      <td>1.3</td>\n",
              "      <td>3.7</td>\n",
              "      <td>0.0</td>\n",
              "      <td>0.0</td>\n",
              "      <td>0.0</td>\n",
              "      <td>60</td>\n",
              "      <td>1</td>\n",
              "      <td>1</td>\n",
              "      <td>MILMIL414</td>\n",
              "      <td>1.0</td>\n",
              "      <td>1.0</td>\n",
              "      <td>1812.0</td>\n",
              "      <td>26.0</td>\n",
              "      <td>26.0</td>\n",
              "      <td>Yes</td>\n",
              "      <td>No</td>\n",
              "      <td>No</td>\n",
              "      <td>No</td>\n",
              "      <td>No</td>\n",
              "      <td>Unknown</td>\n",
              "      <td>No</td>\n",
              "      <td>No</td>\n",
              "      <td>No</td>\n",
              "      <td>No</td>\n",
              "      <td>No</td>\n",
              "      <td>Yes</td>\n",
              "      <td>0</td>\n",
              "      <td>0</td>\n",
              "      <td>Yes</td>\n",
              "      <td>No</td>\n",
              "      <td>0</td>\n",
              "      <td>6</td>\n",
              "      <td>No</td>\n",
              "      <td>0</td>\n",
              "      <td>Unknown</td>\n",
              "      <td>No</td>\n",
              "      <td>3-Good</td>\n",
              "      <td>Town</td>\n",
              "      <td>Crafts</td>\n",
              "      <td>Yes</td>\n",
              "    </tr>\n",
              "    <tr>\n",
              "      <th>3</th>\n",
              "      <td>3</td>\n",
              "      <td>No</td>\n",
              "      <td>82.28</td>\n",
              "      <td>1312.0</td>\n",
              "      <td>75.0</td>\n",
              "      <td>1.24</td>\n",
              "      <td>0.0</td>\n",
              "      <td>0.0</td>\n",
              "      <td>157.0</td>\n",
              "      <td>8.1</td>\n",
              "      <td>52.0</td>\n",
              "      <td>7.7</td>\n",
              "      <td>76.0</td>\n",
              "      <td>4.3</td>\n",
              "      <td>1.3</td>\n",
              "      <td>200.3</td>\n",
              "      <td>370.3</td>\n",
              "      <td>147.0</td>\n",
              "      <td>555.7</td>\n",
              "      <td>303.7</td>\n",
              "      <td>59.7</td>\n",
              "      <td>0.0</td>\n",
              "      <td>22.7</td>\n",
              "      <td>59</td>\n",
              "      <td>2</td>\n",
              "      <td>2</td>\n",
              "      <td>PITHOM412</td>\n",
              "      <td>9.0</td>\n",
              "      <td>4.0</td>\n",
              "      <td>458.0</td>\n",
              "      <td>30.0</td>\n",
              "      <td>0.0</td>\n",
              "      <td>No</td>\n",
              "      <td>No</td>\n",
              "      <td>Yes</td>\n",
              "      <td>No</td>\n",
              "      <td>No</td>\n",
              "      <td>Known</td>\n",
              "      <td>Yes</td>\n",
              "      <td>Yes</td>\n",
              "      <td>No</td>\n",
              "      <td>No</td>\n",
              "      <td>No</td>\n",
              "      <td>Yes</td>\n",
              "      <td>0</td>\n",
              "      <td>0</td>\n",
              "      <td>Yes</td>\n",
              "      <td>No</td>\n",
              "      <td>0</td>\n",
              "      <td>6</td>\n",
              "      <td>No</td>\n",
              "      <td>0</td>\n",
              "      <td>10</td>\n",
              "      <td>No</td>\n",
              "      <td>4-Medium</td>\n",
              "      <td>Other</td>\n",
              "      <td>Other</td>\n",
              "      <td>No</td>\n",
              "    </tr>\n",
              "    <tr>\n",
              "      <th>4</th>\n",
              "      <td>4</td>\n",
              "      <td>Yes</td>\n",
              "      <td>17.14</td>\n",
              "      <td>0.0</td>\n",
              "      <td>17.0</td>\n",
              "      <td>0.00</td>\n",
              "      <td>0.0</td>\n",
              "      <td>0.0</td>\n",
              "      <td>0.0</td>\n",
              "      <td>-0.2</td>\n",
              "      <td>0.0</td>\n",
              "      <td>0.0</td>\n",
              "      <td>0.0</td>\n",
              "      <td>0.0</td>\n",
              "      <td>0.0</td>\n",
              "      <td>0.0</td>\n",
              "      <td>0.0</td>\n",
              "      <td>0.0</td>\n",
              "      <td>0.0</td>\n",
              "      <td>0.0</td>\n",
              "      <td>0.0</td>\n",
              "      <td>0.0</td>\n",
              "      <td>0.0</td>\n",
              "      <td>53</td>\n",
              "      <td>2</td>\n",
              "      <td>2</td>\n",
              "      <td>OKCTUL918</td>\n",
              "      <td>4.0</td>\n",
              "      <td>3.0</td>\n",
              "      <td>852.0</td>\n",
              "      <td>46.0</td>\n",
              "      <td>54.0</td>\n",
              "      <td>No</td>\n",
              "      <td>No</td>\n",
              "      <td>No</td>\n",
              "      <td>No</td>\n",
              "      <td>No</td>\n",
              "      <td>Known</td>\n",
              "      <td>Yes</td>\n",
              "      <td>Yes</td>\n",
              "      <td>No</td>\n",
              "      <td>No</td>\n",
              "      <td>Yes</td>\n",
              "      <td>Yes</td>\n",
              "      <td>0</td>\n",
              "      <td>0</td>\n",
              "      <td>No</td>\n",
              "      <td>Yes</td>\n",
              "      <td>0</td>\n",
              "      <td>9</td>\n",
              "      <td>No</td>\n",
              "      <td>1</td>\n",
              "      <td>10</td>\n",
              "      <td>No</td>\n",
              "      <td>1-Highest</td>\n",
              "      <td>Other</td>\n",
              "      <td>Professional</td>\n",
              "      <td>Yes</td>\n",
              "    </tr>\n",
              "    <tr>\n",
              "      <th>...</th>\n",
              "      <td>...</td>\n",
              "      <td>...</td>\n",
              "      <td>...</td>\n",
              "      <td>...</td>\n",
              "      <td>...</td>\n",
              "      <td>...</td>\n",
              "      <td>...</td>\n",
              "      <td>...</td>\n",
              "      <td>...</td>\n",
              "      <td>...</td>\n",
              "      <td>...</td>\n",
              "      <td>...</td>\n",
              "      <td>...</td>\n",
              "      <td>...</td>\n",
              "      <td>...</td>\n",
              "      <td>...</td>\n",
              "      <td>...</td>\n",
              "      <td>...</td>\n",
              "      <td>...</td>\n",
              "      <td>...</td>\n",
              "      <td>...</td>\n",
              "      <td>...</td>\n",
              "      <td>...</td>\n",
              "      <td>...</td>\n",
              "      <td>...</td>\n",
              "      <td>...</td>\n",
              "      <td>...</td>\n",
              "      <td>...</td>\n",
              "      <td>...</td>\n",
              "      <td>...</td>\n",
              "      <td>...</td>\n",
              "      <td>...</td>\n",
              "      <td>...</td>\n",
              "      <td>...</td>\n",
              "      <td>...</td>\n",
              "      <td>...</td>\n",
              "      <td>...</td>\n",
              "      <td>...</td>\n",
              "      <td>...</td>\n",
              "      <td>...</td>\n",
              "      <td>...</td>\n",
              "      <td>...</td>\n",
              "      <td>...</td>\n",
              "      <td>...</td>\n",
              "      <td>...</td>\n",
              "      <td>...</td>\n",
              "      <td>...</td>\n",
              "      <td>...</td>\n",
              "      <td>...</td>\n",
              "      <td>...</td>\n",
              "      <td>...</td>\n",
              "      <td>...</td>\n",
              "      <td>...</td>\n",
              "      <td>...</td>\n",
              "      <td>...</td>\n",
              "      <td>...</td>\n",
              "      <td>...</td>\n",
              "      <td>...</td>\n",
              "    </tr>\n",
              "    <tr>\n",
              "      <th>51036</th>\n",
              "      <td>51036</td>\n",
              "      <td>Yes</td>\n",
              "      <td>NaN</td>\n",
              "      <td>NaN</td>\n",
              "      <td>NaN</td>\n",
              "      <td>NaN</td>\n",
              "      <td>NaN</td>\n",
              "      <td>NaN</td>\n",
              "      <td>NaN</td>\n",
              "      <td>NaN</td>\n",
              "      <td>9.3</td>\n",
              "      <td>2.7</td>\n",
              "      <td>48.3</td>\n",
              "      <td>0.0</td>\n",
              "      <td>0.0</td>\n",
              "      <td>58.9</td>\n",
              "      <td>17.0</td>\n",
              "      <td>1.3</td>\n",
              "      <td>160.3</td>\n",
              "      <td>33.3</td>\n",
              "      <td>12.0</td>\n",
              "      <td>0.0</td>\n",
              "      <td>0.3</td>\n",
              "      <td>29</td>\n",
              "      <td>1</td>\n",
              "      <td>1</td>\n",
              "      <td>LAXSFN818</td>\n",
              "      <td>2.0</td>\n",
              "      <td>2.0</td>\n",
              "      <td>526.0</td>\n",
              "      <td>68.0</td>\n",
              "      <td>64.0</td>\n",
              "      <td>No</td>\n",
              "      <td>Yes</td>\n",
              "      <td>Yes</td>\n",
              "      <td>No</td>\n",
              "      <td>No</td>\n",
              "      <td>Known</td>\n",
              "      <td>Yes</td>\n",
              "      <td>Yes</td>\n",
              "      <td>No</td>\n",
              "      <td>No</td>\n",
              "      <td>No</td>\n",
              "      <td>Yes</td>\n",
              "      <td>0</td>\n",
              "      <td>0</td>\n",
              "      <td>No</td>\n",
              "      <td>No</td>\n",
              "      <td>0</td>\n",
              "      <td>6</td>\n",
              "      <td>No</td>\n",
              "      <td>0</td>\n",
              "      <td>60</td>\n",
              "      <td>No</td>\n",
              "      <td>1-Highest</td>\n",
              "      <td>Suburban</td>\n",
              "      <td>Other</td>\n",
              "      <td>Yes</td>\n",
              "    </tr>\n",
              "    <tr>\n",
              "      <th>51037</th>\n",
              "      <td>51037</td>\n",
              "      <td>No</td>\n",
              "      <td>95.17</td>\n",
              "      <td>1745.0</td>\n",
              "      <td>85.0</td>\n",
              "      <td>0.99</td>\n",
              "      <td>45.0</td>\n",
              "      <td>4.7</td>\n",
              "      <td>122.0</td>\n",
              "      <td>15.9</td>\n",
              "      <td>16.7</td>\n",
              "      <td>0.7</td>\n",
              "      <td>41.3</td>\n",
              "      <td>0.0</td>\n",
              "      <td>0.0</td>\n",
              "      <td>681.5</td>\n",
              "      <td>89.7</td>\n",
              "      <td>33.3</td>\n",
              "      <td>318.7</td>\n",
              "      <td>248.3</td>\n",
              "      <td>17.3</td>\n",
              "      <td>0.0</td>\n",
              "      <td>14.3</td>\n",
              "      <td>29</td>\n",
              "      <td>1</td>\n",
              "      <td>1</td>\n",
              "      <td>LAXCDG310</td>\n",
              "      <td>2.0</td>\n",
              "      <td>2.0</td>\n",
              "      <td>464.0</td>\n",
              "      <td>48.0</td>\n",
              "      <td>48.0</td>\n",
              "      <td>Yes</td>\n",
              "      <td>No</td>\n",
              "      <td>Yes</td>\n",
              "      <td>No</td>\n",
              "      <td>No</td>\n",
              "      <td>Known</td>\n",
              "      <td>Yes</td>\n",
              "      <td>Yes</td>\n",
              "      <td>No</td>\n",
              "      <td>No</td>\n",
              "      <td>Yes</td>\n",
              "      <td>Yes</td>\n",
              "      <td>0</td>\n",
              "      <td>0</td>\n",
              "      <td>No</td>\n",
              "      <td>No</td>\n",
              "      <td>0</td>\n",
              "      <td>9</td>\n",
              "      <td>No</td>\n",
              "      <td>1</td>\n",
              "      <td>60</td>\n",
              "      <td>No</td>\n",
              "      <td>3-Good</td>\n",
              "      <td>Other</td>\n",
              "      <td>Other</td>\n",
              "      <td>No</td>\n",
              "    </tr>\n",
              "    <tr>\n",
              "      <th>51038</th>\n",
              "      <td>51038</td>\n",
              "      <td>Yes</td>\n",
              "      <td>NaN</td>\n",
              "      <td>NaN</td>\n",
              "      <td>NaN</td>\n",
              "      <td>NaN</td>\n",
              "      <td>NaN</td>\n",
              "      <td>NaN</td>\n",
              "      <td>NaN</td>\n",
              "      <td>NaN</td>\n",
              "      <td>71.7</td>\n",
              "      <td>4.3</td>\n",
              "      <td>287.0</td>\n",
              "      <td>1.3</td>\n",
              "      <td>13.7</td>\n",
              "      <td>1225.3</td>\n",
              "      <td>430.3</td>\n",
              "      <td>87.7</td>\n",
              "      <td>1359.0</td>\n",
              "      <td>910.3</td>\n",
              "      <td>76.0</td>\n",
              "      <td>0.0</td>\n",
              "      <td>6.7</td>\n",
              "      <td>25</td>\n",
              "      <td>1</td>\n",
              "      <td>1</td>\n",
              "      <td>LAXCDG310</td>\n",
              "      <td>3.0</td>\n",
              "      <td>2.0</td>\n",
              "      <td>378.0</td>\n",
              "      <td>36.0</td>\n",
              "      <td>0.0</td>\n",
              "      <td>No</td>\n",
              "      <td>No</td>\n",
              "      <td>Yes</td>\n",
              "      <td>No</td>\n",
              "      <td>No</td>\n",
              "      <td>Known</td>\n",
              "      <td>No</td>\n",
              "      <td>No</td>\n",
              "      <td>No</td>\n",
              "      <td>No</td>\n",
              "      <td>No</td>\n",
              "      <td>Yes</td>\n",
              "      <td>0</td>\n",
              "      <td>0</td>\n",
              "      <td>No</td>\n",
              "      <td>No</td>\n",
              "      <td>0</td>\n",
              "      <td>7</td>\n",
              "      <td>No</td>\n",
              "      <td>1</td>\n",
              "      <td>80</td>\n",
              "      <td>No</td>\n",
              "      <td>5-Low</td>\n",
              "      <td>Other</td>\n",
              "      <td>Clerical</td>\n",
              "      <td>No</td>\n",
              "    </tr>\n",
              "    <tr>\n",
              "      <th>51039</th>\n",
              "      <td>51039</td>\n",
              "      <td>No</td>\n",
              "      <td>NaN</td>\n",
              "      <td>NaN</td>\n",
              "      <td>NaN</td>\n",
              "      <td>NaN</td>\n",
              "      <td>NaN</td>\n",
              "      <td>NaN</td>\n",
              "      <td>NaN</td>\n",
              "      <td>NaN</td>\n",
              "      <td>0.0</td>\n",
              "      <td>0.0</td>\n",
              "      <td>0.0</td>\n",
              "      <td>0.0</td>\n",
              "      <td>0.0</td>\n",
              "      <td>0.0</td>\n",
              "      <td>0.0</td>\n",
              "      <td>0.0</td>\n",
              "      <td>0.0</td>\n",
              "      <td>0.0</td>\n",
              "      <td>0.0</td>\n",
              "      <td>0.0</td>\n",
              "      <td>0.0</td>\n",
              "      <td>31</td>\n",
              "      <td>1</td>\n",
              "      <td>1</td>\n",
              "      <td>NEVPOW619</td>\n",
              "      <td>2.0</td>\n",
              "      <td>2.0</td>\n",
              "      <td>433.0</td>\n",
              "      <td>32.0</td>\n",
              "      <td>0.0</td>\n",
              "      <td>Yes</td>\n",
              "      <td>No</td>\n",
              "      <td>Yes</td>\n",
              "      <td>No</td>\n",
              "      <td>No</td>\n",
              "      <td>Unknown</td>\n",
              "      <td>No</td>\n",
              "      <td>No</td>\n",
              "      <td>No</td>\n",
              "      <td>No</td>\n",
              "      <td>No</td>\n",
              "      <td>No</td>\n",
              "      <td>0</td>\n",
              "      <td>0</td>\n",
              "      <td>No</td>\n",
              "      <td>No</td>\n",
              "      <td>0</td>\n",
              "      <td>9</td>\n",
              "      <td>No</td>\n",
              "      <td>0</td>\n",
              "      <td>30</td>\n",
              "      <td>No</td>\n",
              "      <td>5-Low</td>\n",
              "      <td>Other</td>\n",
              "      <td>Other</td>\n",
              "      <td>No</td>\n",
              "    </tr>\n",
              "    <tr>\n",
              "      <th>51040</th>\n",
              "      <td>51040</td>\n",
              "      <td>No</td>\n",
              "      <td>NaN</td>\n",
              "      <td>NaN</td>\n",
              "      <td>NaN</td>\n",
              "      <td>NaN</td>\n",
              "      <td>NaN</td>\n",
              "      <td>NaN</td>\n",
              "      <td>NaN</td>\n",
              "      <td>NaN</td>\n",
              "      <td>18.7</td>\n",
              "      <td>0.7</td>\n",
              "      <td>117.3</td>\n",
              "      <td>1.3</td>\n",
              "      <td>1.0</td>\n",
              "      <td>330.9</td>\n",
              "      <td>55.0</td>\n",
              "      <td>16.7</td>\n",
              "      <td>442.3</td>\n",
              "      <td>167.3</td>\n",
              "      <td>19.3</td>\n",
              "      <td>0.0</td>\n",
              "      <td>0.0</td>\n",
              "      <td>25</td>\n",
              "      <td>1</td>\n",
              "      <td>1</td>\n",
              "      <td>NEVPOW619</td>\n",
              "      <td>7.0</td>\n",
              "      <td>5.0</td>\n",
              "      <td>75.0</td>\n",
              "      <td>0.0</td>\n",
              "      <td>0.0</td>\n",
              "      <td>No</td>\n",
              "      <td>No</td>\n",
              "      <td>Yes</td>\n",
              "      <td>No</td>\n",
              "      <td>No</td>\n",
              "      <td>Unknown</td>\n",
              "      <td>No</td>\n",
              "      <td>No</td>\n",
              "      <td>No</td>\n",
              "      <td>No</td>\n",
              "      <td>No</td>\n",
              "      <td>No</td>\n",
              "      <td>2</td>\n",
              "      <td>1</td>\n",
              "      <td>No</td>\n",
              "      <td>No</td>\n",
              "      <td>0</td>\n",
              "      <td>0</td>\n",
              "      <td>No</td>\n",
              "      <td>1</td>\n",
              "      <td>60</td>\n",
              "      <td>Yes</td>\n",
              "      <td>5-Low</td>\n",
              "      <td>Other</td>\n",
              "      <td>Other</td>\n",
              "      <td>Unknown</td>\n",
              "    </tr>\n",
              "  </tbody>\n",
              "</table>\n",
              "<p>51041 rows × 58 columns</p>\n",
              "</div>\n",
              "      <button class=\"colab-df-convert\" onclick=\"convertToInteractive('df-29833811-7cc4-4200-85f6-979d7744eb1c')\"\n",
              "              title=\"Convert this dataframe to an interactive table.\"\n",
              "              style=\"display:none;\">\n",
              "        \n",
              "  <svg xmlns=\"http://www.w3.org/2000/svg\" height=\"24px\"viewBox=\"0 0 24 24\"\n",
              "       width=\"24px\">\n",
              "    <path d=\"M0 0h24v24H0V0z\" fill=\"none\"/>\n",
              "    <path d=\"M18.56 5.44l.94 2.06.94-2.06 2.06-.94-2.06-.94-.94-2.06-.94 2.06-2.06.94zm-11 1L8.5 8.5l.94-2.06 2.06-.94-2.06-.94L8.5 2.5l-.94 2.06-2.06.94zm10 10l.94 2.06.94-2.06 2.06-.94-2.06-.94-.94-2.06-.94 2.06-2.06.94z\"/><path d=\"M17.41 7.96l-1.37-1.37c-.4-.4-.92-.59-1.43-.59-.52 0-1.04.2-1.43.59L10.3 9.45l-7.72 7.72c-.78.78-.78 2.05 0 2.83L4 21.41c.39.39.9.59 1.41.59.51 0 1.02-.2 1.41-.59l7.78-7.78 2.81-2.81c.8-.78.8-2.07 0-2.86zM5.41 20L4 18.59l7.72-7.72 1.47 1.35L5.41 20z\"/>\n",
              "  </svg>\n",
              "      </button>\n",
              "      \n",
              "  <style>\n",
              "    .colab-df-container {\n",
              "      display:flex;\n",
              "      flex-wrap:wrap;\n",
              "      gap: 12px;\n",
              "    }\n",
              "\n",
              "    .colab-df-convert {\n",
              "      background-color: #E8F0FE;\n",
              "      border: none;\n",
              "      border-radius: 50%;\n",
              "      cursor: pointer;\n",
              "      display: none;\n",
              "      fill: #1967D2;\n",
              "      height: 32px;\n",
              "      padding: 0 0 0 0;\n",
              "      width: 32px;\n",
              "    }\n",
              "\n",
              "    .colab-df-convert:hover {\n",
              "      background-color: #E2EBFA;\n",
              "      box-shadow: 0px 1px 2px rgba(60, 64, 67, 0.3), 0px 1px 3px 1px rgba(60, 64, 67, 0.15);\n",
              "      fill: #174EA6;\n",
              "    }\n",
              "\n",
              "    [theme=dark] .colab-df-convert {\n",
              "      background-color: #3B4455;\n",
              "      fill: #D2E3FC;\n",
              "    }\n",
              "\n",
              "    [theme=dark] .colab-df-convert:hover {\n",
              "      background-color: #434B5C;\n",
              "      box-shadow: 0px 1px 3px 1px rgba(0, 0, 0, 0.15);\n",
              "      filter: drop-shadow(0px 1px 2px rgba(0, 0, 0, 0.3));\n",
              "      fill: #FFFFFF;\n",
              "    }\n",
              "  </style>\n",
              "\n",
              "      <script>\n",
              "        const buttonEl =\n",
              "          document.querySelector('#df-29833811-7cc4-4200-85f6-979d7744eb1c button.colab-df-convert');\n",
              "        buttonEl.style.display =\n",
              "          google.colab.kernel.accessAllowed ? 'block' : 'none';\n",
              "\n",
              "        async function convertToInteractive(key) {\n",
              "          const element = document.querySelector('#df-29833811-7cc4-4200-85f6-979d7744eb1c');\n",
              "          const dataTable =\n",
              "            await google.colab.kernel.invokeFunction('convertToInteractive',\n",
              "                                                     [key], {});\n",
              "          if (!dataTable) return;\n",
              "\n",
              "          const docLinkHtml = 'Like what you see? Visit the ' +\n",
              "            '<a target=\"_blank\" href=https://colab.research.google.com/notebooks/data_table.ipynb>data table notebook</a>'\n",
              "            + ' to learn more about interactive tables.';\n",
              "          element.innerHTML = '';\n",
              "          dataTable['output_type'] = 'display_data';\n",
              "          await google.colab.output.renderOutput(dataTable, element);\n",
              "          const docLink = document.createElement('div');\n",
              "          docLink.innerHTML = docLinkHtml;\n",
              "          element.appendChild(docLink);\n",
              "        }\n",
              "      </script>\n",
              "    </div>\n",
              "  </div>\n",
              "  "
            ],
            "text/plain": [
              "       index Churn  MonthlyRevenue  ...  PrizmCode    Occupation  MaritalStatus\n",
              "0          0   Yes           24.00  ...   Suburban  Professional             No\n",
              "1          1   Yes           16.99  ...   Suburban  Professional            Yes\n",
              "2          2    No           38.00  ...       Town        Crafts            Yes\n",
              "3          3    No           82.28  ...      Other         Other             No\n",
              "4          4   Yes           17.14  ...      Other  Professional            Yes\n",
              "...      ...   ...             ...  ...        ...           ...            ...\n",
              "51036  51036   Yes             NaN  ...   Suburban         Other            Yes\n",
              "51037  51037    No           95.17  ...      Other         Other             No\n",
              "51038  51038   Yes             NaN  ...      Other      Clerical             No\n",
              "51039  51039    No             NaN  ...      Other         Other             No\n",
              "51040  51040    No             NaN  ...      Other         Other        Unknown\n",
              "\n",
              "[51041 rows x 58 columns]"
            ]
          },
          "metadata": {},
          "execution_count": 72
        },
        {
          "output_type": "stream",
          "name": "stdout",
          "text": [
            "5.0 9.65 4.0 6.93\n"
          ]
        }
      ]
    },
    {
      "cell_type": "code",
      "source": [
        "cols=[\"UniqueSubs\",\"DirectorAssistedCalls\"]\n",
        "cust_df.boxplot(column=cols, vert=False)"
      ],
      "metadata": {
        "colab": {
          "base_uri": "https://localhost:8080/",
          "height": 282
        },
        "id": "hrvlOIzy_bip",
        "outputId": "9c872ce2-eec2-4e64-df7e-d205b76a5bb2"
      },
      "execution_count": null,
      "outputs": [
        {
          "output_type": "execute_result",
          "data": {
            "text/plain": [
              "<matplotlib.axes._subplots.AxesSubplot at 0x7f66b27635d0>"
            ]
          },
          "metadata": {},
          "execution_count": 29
        },
        {
          "output_type": "display_data",
          "data": {
            "image/png": "[encoded data removed]",
            "text/plain": [
              "<Figure size 432x288 with 1 Axes>"
            ]
          },
          "metadata": {
            "needs_background": "light"
          }
        }
      ]
    },
    {
      "cell_type": "code",
      "source": [
        "# we can see a decrease in the number of outliers."
      ],
      "metadata": {
        "id": "tcg7mkGS_zrq"
      },
      "execution_count": null,
      "outputs": []
    },
    {
      "cell_type": "markdown",
      "metadata": {
        "id": "j9nGdg_jlFIS"
      },
      "source": [
        "## Q2. Perform exploratory analysis to analyze customer churn"
      ]
    },
    {
      "cell_type": "code",
      "source": [
        "# we can also drop the rows with null values\n",
        "cust_df.dropna(axis=0,inplace=True)"
      ],
      "metadata": {
        "id": "h9AlrNDOeyQU"
      },
      "execution_count": null,
      "outputs": []
    },
    {
      "cell_type": "markdown",
      "metadata": {
        "id": "kuLvZj8LlFIS"
      },
      "source": [
        "### Q2.1 Does customers with high overage minutes also have high revenue?"
      ]
    },
    {
      "cell_type": "code",
      "metadata": {
        "id": "9iwrU-MelFIT",
        "colab": {
          "base_uri": "https://localhost:8080/",
          "height": 296
        },
        "outputId": "683dd76e-ca7e-43ca-f476-da7f40d34721"
      },
      "source": [
        "#use scatter plot to find the correlation between monthly revenue and overage minutes\n",
        "sns.scatterplot(x = 'MonthlyRevenue', y = 'OverageMinutes', data = cust_df )"
      ],
      "execution_count": null,
      "outputs": [
        {
          "output_type": "execute_result",
          "data": {
            "text/plain": [
              "<matplotlib.axes._subplots.AxesSubplot at 0x7f66b26074d0>"
            ]
          },
          "metadata": {},
          "execution_count": 31
        },
        {
          "output_type": "display_data",
          "data": {
            "image/png": "[encoded data removed]",
            "text/plain": [
              "<Figure size 432x288 with 1 Axes>"
            ]
          },
          "metadata": {
            "needs_background": "light"
          }
        }
      ]
    },
    {
      "cell_type": "code",
      "source": [
        "sns.scatterplot(x = 'MonthlyRevenue', y = 'OverageMinutes', data = cust_df[cust_df.Churn == 'No'] ) # those who have not churned"
      ],
      "metadata": {
        "colab": {
          "base_uri": "https://localhost:8080/",
          "height": 296
        },
        "id": "5I5RejO1Q1al",
        "outputId": "127c14ba-710c-49ab-d1da-ef586e35e810"
      },
      "execution_count": null,
      "outputs": [
        {
          "output_type": "execute_result",
          "data": {
            "text/plain": [
              "<matplotlib.axes._subplots.AxesSubplot at 0x7f66b260d210>"
            ]
          },
          "metadata": {},
          "execution_count": 32
        },
        {
          "output_type": "display_data",
          "data": {
            "image/png": "[encoded data removed]",
            "text/plain": [
              "<Figure size 432x288 with 1 Axes>"
            ]
          },
          "metadata": {
            "needs_background": "light"
          }
        }
      ]
    },
    {
      "cell_type": "code",
      "source": [
        "sns.scatterplot(x = 'MonthlyRevenue', y = 'OverageMinutes', data = cust_df[cust_df.Churn == \"Yes\"] ) # those who have churned"
      ],
      "metadata": {
        "colab": {
          "base_uri": "https://localhost:8080/",
          "height": 296
        },
        "id": "yQnC6LOTQ1pp",
        "outputId": "a7b7b604-862f-4224-ae46-4db99b692e60"
      },
      "execution_count": null,
      "outputs": [
        {
          "output_type": "execute_result",
          "data": {
            "text/plain": [
              "<matplotlib.axes._subplots.AxesSubplot at 0x7f66b259e690>"
            ]
          },
          "metadata": {},
          "execution_count": 33
        },
        {
          "output_type": "display_data",
          "data": {
            "image/png": "[encoded data removed]",
            "text/plain": [
              "<Figure size 432x288 with 1 Axes>"
            ]
          },
          "metadata": {
            "needs_background": "light"
          }
        }
      ]
    },
    {
      "cell_type": "markdown",
      "metadata": {
        "id": "p0c7mh47lFIT"
      },
      "source": [
        "<mark>__Result:__\n",
        "    \n",
        "Type your interpretation here based on the scatter plot analysis"
      ]
    },
    {
      "cell_type": "markdown",
      "source": [
        "We can observe a positive linear corelation between the Overage Minutes and the Monthly Revenue (in Churned and non-churned customers). So, in general, we can say that customers with high overage minutes have high monthly revenue."
      ],
      "metadata": {
        "id": "LW-7c7J0RcFC"
      }
    },
    {
      "cell_type": "markdown",
      "metadata": {
        "id": "ypcm12s6lFIT"
      },
      "source": [
        "### Q2.2 Does high number of active subscribers lead to low monthly revenue?"
      ]
    },
    {
      "cell_type": "code",
      "metadata": {
        "id": "K_Hbu6DvlFIU",
        "colab": {
          "base_uri": "https://localhost:8080/",
          "height": 386
        },
        "outputId": "dd019a96-983c-4b43-a429-fab1774b8544"
      },
      "source": [
        "#use category plot to plot monthly revenue for each active subs category\n",
        "sns.catplot(x = 'ActiveSubs',y='MonthlyRevenue',data= cust_df) "
      ],
      "execution_count": null,
      "outputs": [
        {
          "output_type": "execute_result",
          "data": {
            "text/plain": [
              "<seaborn.axisgrid.FacetGrid at 0x7f66b255a5d0>"
            ]
          },
          "metadata": {},
          "execution_count": 34
        },
        {
          "output_type": "display_data",
          "data": {
            "image/png": "[encoded data removed]",
            "text/plain": [
              "<Figure size 360x360 with 1 Axes>"
            ]
          },
          "metadata": {
            "needs_background": "light"
          }
        }
      ]
    },
    {
      "cell_type": "markdown",
      "metadata": {
        "id": "mkrnwbZhlFIU"
      },
      "source": [
        "<mark>__Result:__\n",
        "    \n",
        "Type your interpretation here based on the category plot analysis"
      ]
    },
    {
      "cell_type": "markdown",
      "source": [
        "Yes, we can observe a decrease in the monthly revenue as the active subscribers are increasing. This can be seen in the above category plot, that as active subs are increasing, high Monthly Revenues is becoming rarer."
      ],
      "metadata": {
        "id": "-4l4GZzqR8_k"
      }
    },
    {
      "cell_type": "markdown",
      "metadata": {
        "id": "uZYchMbslFIU"
      },
      "source": [
        "### Q2.3 Does credit rating have an impact in churn rate?"
      ]
    },
    {
      "cell_type": "code",
      "metadata": {
        "id": "VLQbrOxulFIU",
        "colab": {
          "base_uri": "https://localhost:8080/",
          "height": 270
        },
        "outputId": "1b11432c-899c-4f05-b2ae-c7222013bb5d"
      },
      "source": [
        "pd.crosstab(cust_df.Churn, cust_df.CreditRating).apply(lambda r:r/r.sum(),axis=0) # Percent of customers of a particulat CreditRating, choosing to churn or not\n",
        "pd.crosstab(cust_df.Churn, cust_df.CreditRating).apply(lambda r:r/r.sum(),axis=1) # Percent of Churned customers, who belong to a CreditRating (and also for non-Churned customers)"
      ],
      "execution_count": null,
      "outputs": [
        {
          "output_type": "execute_result",
          "data": {
            "text/html": [
              "\n",
              "  <div id=\"df-a9f8d994-3579-4ab7-a353-6e20ee9eb041\">\n",
              "    <div class=\"colab-df-container\">\n",
              "      <div>\n",
              "<style scoped>\n",
              "    .dataframe tbody tr th:only-of-type {\n",
              "        vertical-align: middle;\n",
              "    }\n",
              "\n",
              "    .dataframe tbody tr th {\n",
              "        vertical-align: top;\n",
              "    }\n",
              "\n",
              "    .dataframe thead th {\n",
              "        text-align: right;\n",
              "    }\n",
              "</style>\n",
              "<table border=\"1\" class=\"dataframe\">\n",
              "  <thead>\n",
              "    <tr style=\"text-align: right;\">\n",
              "      <th>CreditRating</th>\n",
              "      <th>1-Highest</th>\n",
              "      <th>2-High</th>\n",
              "      <th>3-Good</th>\n",
              "      <th>4-Medium</th>\n",
              "      <th>5-Low</th>\n",
              "      <th>6-VeryLow</th>\n",
              "      <th>7-Lowest</th>\n",
              "    </tr>\n",
              "    <tr>\n",
              "      <th>Churn</th>\n",
              "      <th></th>\n",
              "      <th></th>\n",
              "      <th></th>\n",
              "      <th></th>\n",
              "      <th></th>\n",
              "      <th></th>\n",
              "      <th></th>\n",
              "    </tr>\n",
              "  </thead>\n",
              "  <tbody>\n",
              "    <tr>\n",
              "      <th>No</th>\n",
              "      <td>0.693462</td>\n",
              "      <td>0.700059</td>\n",
              "      <td>0.692327</td>\n",
              "      <td>0.74253</td>\n",
              "      <td>0.782293</td>\n",
              "      <td>0.735915</td>\n",
              "      <td>0.712949</td>\n",
              "    </tr>\n",
              "    <tr>\n",
              "      <th>Yes</th>\n",
              "      <td>0.306538</td>\n",
              "      <td>0.299941</td>\n",
              "      <td>0.307673</td>\n",
              "      <td>0.25747</td>\n",
              "      <td>0.217707</td>\n",
              "      <td>0.264085</td>\n",
              "      <td>0.287051</td>\n",
              "    </tr>\n",
              "  </tbody>\n",
              "</table>\n",
              "</div>\n",
              "      <button class=\"colab-df-convert\" onclick=\"convertToInteractive('df-a9f8d994-3579-4ab7-a353-6e20ee9eb041')\"\n",
              "              title=\"Convert this dataframe to an interactive table.\"\n",
              "              style=\"display:none;\">\n",
              "        \n",
              "  <svg xmlns=\"http://www.w3.org/2000/svg\" height=\"24px\"viewBox=\"0 0 24 24\"\n",
              "       width=\"24px\">\n",
              "    <path d=\"M0 0h24v24H0V0z\" fill=\"none\"/>\n",
              "    <path d=\"M18.56 5.44l.94 2.06.94-2.06 2.06-.94-2.06-.94-.94-2.06-.94 2.06-2.06.94zm-11 1L8.5 8.5l.94-2.06 2.06-.94-2.06-.94L8.5 2.5l-.94 2.06-2.06.94zm10 10l.94 2.06.94-2.06 2.06-.94-2.06-.94-.94-2.06-.94 2.06-2.06.94z\"/><path d=\"M17.41 7.96l-1.37-1.37c-.4-.4-.92-.59-1.43-.59-.52 0-1.04.2-1.43.59L10.3 9.45l-7.72 7.72c-.78.78-.78 2.05 0 2.83L4 21.41c.39.39.9.59 1.41.59.51 0 1.02-.2 1.41-.59l7.78-7.78 2.81-2.81c.8-.78.8-2.07 0-2.86zM5.41 20L4 18.59l7.72-7.72 1.47 1.35L5.41 20z\"/>\n",
              "  </svg>\n",
              "      </button>\n",
              "      \n",
              "  <style>\n",
              "    .colab-df-container {\n",
              "      display:flex;\n",
              "      flex-wrap:wrap;\n",
              "      gap: 12px;\n",
              "    }\n",
              "\n",
              "    .colab-df-convert {\n",
              "      background-color: #E8F0FE;\n",
              "      border: none;\n",
              "      border-radius: 50%;\n",
              "      cursor: pointer;\n",
              "      display: none;\n",
              "      fill: #1967D2;\n",
              "      height: 32px;\n",
              "      padding: 0 0 0 0;\n",
              "      width: 32px;\n",
              "    }\n",
              "\n",
              "    .colab-df-convert:hover {\n",
              "      background-color: #E2EBFA;\n",
              "      box-shadow: 0px 1px 2px rgba(60, 64, 67, 0.3), 0px 1px 3px 1px rgba(60, 64, 67, 0.15);\n",
              "      fill: #174EA6;\n",
              "    }\n",
              "\n",
              "    [theme=dark] .colab-df-convert {\n",
              "      background-color: #3B4455;\n",
              "      fill: #D2E3FC;\n",
              "    }\n",
              "\n",
              "    [theme=dark] .colab-df-convert:hover {\n",
              "      background-color: #434B5C;\n",
              "      box-shadow: 0px 1px 3px 1px rgba(0, 0, 0, 0.15);\n",
              "      filter: drop-shadow(0px 1px 2px rgba(0, 0, 0, 0.3));\n",
              "      fill: #FFFFFF;\n",
              "    }\n",
              "  </style>\n",
              "\n",
              "      <script>\n",
              "        const buttonEl =\n",
              "          document.querySelector('#df-a9f8d994-3579-4ab7-a353-6e20ee9eb041 button.colab-df-convert');\n",
              "        buttonEl.style.display =\n",
              "          google.colab.kernel.accessAllowed ? 'block' : 'none';\n",
              "\n",
              "        async function convertToInteractive(key) {\n",
              "          const element = document.querySelector('#df-a9f8d994-3579-4ab7-a353-6e20ee9eb041');\n",
              "          const dataTable =\n",
              "            await google.colab.kernel.invokeFunction('convertToInteractive',\n",
              "                                                     [key], {});\n",
              "          if (!dataTable) return;\n",
              "\n",
              "          const docLinkHtml = 'Like what you see? Visit the ' +\n",
              "            '<a target=\"_blank\" href=https://colab.research.google.com/notebooks/data_table.ipynb>data table notebook</a>'\n",
              "            + ' to learn more about interactive tables.';\n",
              "          element.innerHTML = '';\n",
              "          dataTable['output_type'] = 'display_data';\n",
              "          await google.colab.output.renderOutput(dataTable, element);\n",
              "          const docLink = document.createElement('div');\n",
              "          docLink.innerHTML = docLinkHtml;\n",
              "          element.appendChild(docLink);\n",
              "        }\n",
              "      </script>\n",
              "    </div>\n",
              "  </div>\n",
              "  "
            ],
            "text/plain": [
              "CreditRating  1-Highest    2-High    3-Good  ...     5-Low  6-VeryLow  7-Lowest\n",
              "Churn                                        ...                               \n",
              "No             0.693462  0.700059  0.692327  ...  0.782293   0.735915  0.712949\n",
              "Yes            0.306538  0.299941  0.307673  ...  0.217707   0.264085  0.287051\n",
              "\n",
              "[2 rows x 7 columns]"
            ]
          },
          "metadata": {},
          "execution_count": 35
        },
        {
          "output_type": "execute_result",
          "data": {
            "text/html": [
              "\n",
              "  <div id=\"df-b5edf121-2892-42bb-baae-42749b9e708b\">\n",
              "    <div class=\"colab-df-container\">\n",
              "      <div>\n",
              "<style scoped>\n",
              "    .dataframe tbody tr th:only-of-type {\n",
              "        vertical-align: middle;\n",
              "    }\n",
              "\n",
              "    .dataframe tbody tr th {\n",
              "        vertical-align: top;\n",
              "    }\n",
              "\n",
              "    .dataframe thead th {\n",
              "        text-align: right;\n",
              "    }\n",
              "</style>\n",
              "<table border=\"1\" class=\"dataframe\">\n",
              "  <thead>\n",
              "    <tr style=\"text-align: right;\">\n",
              "      <th>CreditRating</th>\n",
              "      <th>1-Highest</th>\n",
              "      <th>2-High</th>\n",
              "      <th>3-Good</th>\n",
              "      <th>4-Medium</th>\n",
              "      <th>5-Low</th>\n",
              "      <th>6-VeryLow</th>\n",
              "      <th>7-Lowest</th>\n",
              "    </tr>\n",
              "    <tr>\n",
              "      <th>Churn</th>\n",
              "      <th></th>\n",
              "      <th></th>\n",
              "      <th></th>\n",
              "      <th></th>\n",
              "      <th></th>\n",
              "      <th></th>\n",
              "      <th></th>\n",
              "    </tr>\n",
              "  </thead>\n",
              "  <tbody>\n",
              "    <tr>\n",
              "      <th>No</th>\n",
              "      <td>0.162345</td>\n",
              "      <td>0.370581</td>\n",
              "      <td>0.160003</td>\n",
              "      <td>0.109287</td>\n",
              "      <td>0.138529</td>\n",
              "      <td>0.017905</td>\n",
              "      <td>0.041350</td>\n",
              "    </tr>\n",
              "    <tr>\n",
              "      <th>Yes</th>\n",
              "      <td>0.178887</td>\n",
              "      <td>0.395786</td>\n",
              "      <td>0.177249</td>\n",
              "      <td>0.094462</td>\n",
              "      <td>0.096099</td>\n",
              "      <td>0.016017</td>\n",
              "      <td>0.041501</td>\n",
              "    </tr>\n",
              "  </tbody>\n",
              "</table>\n",
              "</div>\n",
              "      <button class=\"colab-df-convert\" onclick=\"convertToInteractive('df-b5edf121-2892-42bb-baae-42749b9e708b')\"\n",
              "              title=\"Convert this dataframe to an interactive table.\"\n",
              "              style=\"display:none;\">\n",
              "        \n",
              "  <svg xmlns=\"http://www.w3.org/2000/svg\" height=\"24px\"viewBox=\"0 0 24 24\"\n",
              "       width=\"24px\">\n",
              "    <path d=\"M0 0h24v24H0V0z\" fill=\"none\"/>\n",
              "    <path d=\"M18.56 5.44l.94 2.06.94-2.06 2.06-.94-2.06-.94-.94-2.06-.94 2.06-2.06.94zm-11 1L8.5 8.5l.94-2.06 2.06-.94-2.06-.94L8.5 2.5l-.94 2.06-2.06.94zm10 10l.94 2.06.94-2.06 2.06-.94-2.06-.94-.94-2.06-.94 2.06-2.06.94z\"/><path d=\"M17.41 7.96l-1.37-1.37c-.4-.4-.92-.59-1.43-.59-.52 0-1.04.2-1.43.59L10.3 9.45l-7.72 7.72c-.78.78-.78 2.05 0 2.83L4 21.41c.39.39.9.59 1.41.59.51 0 1.02-.2 1.41-.59l7.78-7.78 2.81-2.81c.8-.78.8-2.07 0-2.86zM5.41 20L4 18.59l7.72-7.72 1.47 1.35L5.41 20z\"/>\n",
              "  </svg>\n",
              "      </button>\n",
              "      \n",
              "  <style>\n",
              "    .colab-df-container {\n",
              "      display:flex;\n",
              "      flex-wrap:wrap;\n",
              "      gap: 12px;\n",
              "    }\n",
              "\n",
              "    .colab-df-convert {\n",
              "      background-color: #E8F0FE;\n",
              "      border: none;\n",
              "      border-radius: 50%;\n",
              "      cursor: pointer;\n",
              "      display: none;\n",
              "      fill: #1967D2;\n",
              "      height: 32px;\n",
              "      padding: 0 0 0 0;\n",
              "      width: 32px;\n",
              "    }\n",
              "\n",
              "    .colab-df-convert:hover {\n",
              "      background-color: #E2EBFA;\n",
              "      box-shadow: 0px 1px 2px rgba(60, 64, 67, 0.3), 0px 1px 3px 1px rgba(60, 64, 67, 0.15);\n",
              "      fill: #174EA6;\n",
              "    }\n",
              "\n",
              "    [theme=dark] .colab-df-convert {\n",
              "      background-color: #3B4455;\n",
              "      fill: #D2E3FC;\n",
              "    }\n",
              "\n",
              "    [theme=dark] .colab-df-convert:hover {\n",
              "      background-color: #434B5C;\n",
              "      box-shadow: 0px 1px 3px 1px rgba(0, 0, 0, 0.15);\n",
              "      filter: drop-shadow(0px 1px 2px rgba(0, 0, 0, 0.3));\n",
              "      fill: #FFFFFF;\n",
              "    }\n",
              "  </style>\n",
              "\n",
              "      <script>\n",
              "        const buttonEl =\n",
              "          document.querySelector('#df-b5edf121-2892-42bb-baae-42749b9e708b button.colab-df-convert');\n",
              "        buttonEl.style.display =\n",
              "          google.colab.kernel.accessAllowed ? 'block' : 'none';\n",
              "\n",
              "        async function convertToInteractive(key) {\n",
              "          const element = document.querySelector('#df-b5edf121-2892-42bb-baae-42749b9e708b');\n",
              "          const dataTable =\n",
              "            await google.colab.kernel.invokeFunction('convertToInteractive',\n",
              "                                                     [key], {});\n",
              "          if (!dataTable) return;\n",
              "\n",
              "          const docLinkHtml = 'Like what you see? Visit the ' +\n",
              "            '<a target=\"_blank\" href=https://colab.research.google.com/notebooks/data_table.ipynb>data table notebook</a>'\n",
              "            + ' to learn more about interactive tables.';\n",
              "          element.innerHTML = '';\n",
              "          dataTable['output_type'] = 'display_data';\n",
              "          await google.colab.output.renderOutput(dataTable, element);\n",
              "          const docLink = document.createElement('div');\n",
              "          docLink.innerHTML = docLinkHtml;\n",
              "          element.appendChild(docLink);\n",
              "        }\n",
              "      </script>\n",
              "    </div>\n",
              "  </div>\n",
              "  "
            ],
            "text/plain": [
              "CreditRating  1-Highest    2-High    3-Good  ...     5-Low  6-VeryLow  7-Lowest\n",
              "Churn                                        ...                               \n",
              "No             0.162345  0.370581  0.160003  ...  0.138529   0.017905  0.041350\n",
              "Yes            0.178887  0.395786  0.177249  ...  0.096099   0.016017  0.041501\n",
              "\n",
              "[2 rows x 7 columns]"
            ]
          },
          "metadata": {},
          "execution_count": 35
        }
      ]
    },
    {
      "cell_type": "code",
      "source": [
        "pd.crosstab(cust_df.Churn,cust_df.CreditRating) # it describes the number of people in different credit ratings, who choose to churn or not to churn"
      ],
      "metadata": {
        "colab": {
          "base_uri": "https://localhost:8080/",
          "height": 143
        },
        "id": "vJafYJDAVMPI",
        "outputId": "b645ace7-3dd4-48d3-959d-d5abcf0c5087"
      },
      "execution_count": null,
      "outputs": [
        {
          "output_type": "execute_result",
          "data": {
            "text/html": [
              "\n",
              "  <div id=\"df-bbbf9cfa-bde6-4a7a-9cce-7913b0af299a\">\n",
              "    <div class=\"colab-df-container\">\n",
              "      <div>\n",
              "<style scoped>\n",
              "    .dataframe tbody tr th:only-of-type {\n",
              "        vertical-align: middle;\n",
              "    }\n",
              "\n",
              "    .dataframe tbody tr th {\n",
              "        vertical-align: top;\n",
              "    }\n",
              "\n",
              "    .dataframe thead th {\n",
              "        text-align: right;\n",
              "    }\n",
              "</style>\n",
              "<table border=\"1\" class=\"dataframe\">\n",
              "  <thead>\n",
              "    <tr style=\"text-align: right;\">\n",
              "      <th>CreditRating</th>\n",
              "      <th>1-Highest</th>\n",
              "      <th>2-High</th>\n",
              "      <th>3-Good</th>\n",
              "      <th>4-Medium</th>\n",
              "      <th>5-Low</th>\n",
              "      <th>6-VeryLow</th>\n",
              "      <th>7-Lowest</th>\n",
              "    </tr>\n",
              "    <tr>\n",
              "      <th>Churn</th>\n",
              "      <th></th>\n",
              "      <th></th>\n",
              "      <th></th>\n",
              "      <th></th>\n",
              "      <th></th>\n",
              "      <th></th>\n",
              "      <th></th>\n",
              "    </tr>\n",
              "  </thead>\n",
              "  <tbody>\n",
              "    <tr>\n",
              "      <th>No</th>\n",
              "      <td>5892</td>\n",
              "      <td>13280</td>\n",
              "      <td>5802</td>\n",
              "      <td>3958</td>\n",
              "      <td>5062</td>\n",
              "      <td>836</td>\n",
              "      <td>1502</td>\n",
              "    </tr>\n",
              "    <tr>\n",
              "      <th>Yes</th>\n",
              "      <td>2628</td>\n",
              "      <td>5712</td>\n",
              "      <td>2608</td>\n",
              "      <td>1398</td>\n",
              "      <td>1435</td>\n",
              "      <td>316</td>\n",
              "      <td>612</td>\n",
              "    </tr>\n",
              "  </tbody>\n",
              "</table>\n",
              "</div>\n",
              "      <button class=\"colab-df-convert\" onclick=\"convertToInteractive('df-bbbf9cfa-bde6-4a7a-9cce-7913b0af299a')\"\n",
              "              title=\"Convert this dataframe to an interactive table.\"\n",
              "              style=\"display:none;\">\n",
              "        \n",
              "  <svg xmlns=\"http://www.w3.org/2000/svg\" height=\"24px\"viewBox=\"0 0 24 24\"\n",
              "       width=\"24px\">\n",
              "    <path d=\"M0 0h24v24H0V0z\" fill=\"none\"/>\n",
              "    <path d=\"M18.56 5.44l.94 2.06.94-2.06 2.06-.94-2.06-.94-.94-2.06-.94 2.06-2.06.94zm-11 1L8.5 8.5l.94-2.06 2.06-.94-2.06-.94L8.5 2.5l-.94 2.06-2.06.94zm10 10l.94 2.06.94-2.06 2.06-.94-2.06-.94-.94-2.06-.94 2.06-2.06.94z\"/><path d=\"M17.41 7.96l-1.37-1.37c-.4-.4-.92-.59-1.43-.59-.52 0-1.04.2-1.43.59L10.3 9.45l-7.72 7.72c-.78.78-.78 2.05 0 2.83L4 21.41c.39.39.9.59 1.41.59.51 0 1.02-.2 1.41-.59l7.78-7.78 2.81-2.81c.8-.78.8-2.07 0-2.86zM5.41 20L4 18.59l7.72-7.72 1.47 1.35L5.41 20z\"/>\n",
              "  </svg>\n",
              "      </button>\n",
              "      \n",
              "  <style>\n",
              "    .colab-df-container {\n",
              "      display:flex;\n",
              "      flex-wrap:wrap;\n",
              "      gap: 12px;\n",
              "    }\n",
              "\n",
              "    .colab-df-convert {\n",
              "      background-color: #E8F0FE;\n",
              "      border: none;\n",
              "      border-radius: 50%;\n",
              "      cursor: pointer;\n",
              "      display: none;\n",
              "      fill: #1967D2;\n",
              "      height: 32px;\n",
              "      padding: 0 0 0 0;\n",
              "      width: 32px;\n",
              "    }\n",
              "\n",
              "    .colab-df-convert:hover {\n",
              "      background-color: #E2EBFA;\n",
              "      box-shadow: 0px 1px 2px rgba(60, 64, 67, 0.3), 0px 1px 3px 1px rgba(60, 64, 67, 0.15);\n",
              "      fill: #174EA6;\n",
              "    }\n",
              "\n",
              "    [theme=dark] .colab-df-convert {\n",
              "      background-color: #3B4455;\n",
              "      fill: #D2E3FC;\n",
              "    }\n",
              "\n",
              "    [theme=dark] .colab-df-convert:hover {\n",
              "      background-color: #434B5C;\n",
              "      box-shadow: 0px 1px 3px 1px rgba(0, 0, 0, 0.15);\n",
              "      filter: drop-shadow(0px 1px 2px rgba(0, 0, 0, 0.3));\n",
              "      fill: #FFFFFF;\n",
              "    }\n",
              "  </style>\n",
              "\n",
              "      <script>\n",
              "        const buttonEl =\n",
              "          document.querySelector('#df-bbbf9cfa-bde6-4a7a-9cce-7913b0af299a button.colab-df-convert');\n",
              "        buttonEl.style.display =\n",
              "          google.colab.kernel.accessAllowed ? 'block' : 'none';\n",
              "\n",
              "        async function convertToInteractive(key) {\n",
              "          const element = document.querySelector('#df-bbbf9cfa-bde6-4a7a-9cce-7913b0af299a');\n",
              "          const dataTable =\n",
              "            await google.colab.kernel.invokeFunction('convertToInteractive',\n",
              "                                                     [key], {});\n",
              "          if (!dataTable) return;\n",
              "\n",
              "          const docLinkHtml = 'Like what you see? Visit the ' +\n",
              "            '<a target=\"_blank\" href=https://colab.research.google.com/notebooks/data_table.ipynb>data table notebook</a>'\n",
              "            + ' to learn more about interactive tables.';\n",
              "          element.innerHTML = '';\n",
              "          dataTable['output_type'] = 'display_data';\n",
              "          await google.colab.output.renderOutput(dataTable, element);\n",
              "          const docLink = document.createElement('div');\n",
              "          docLink.innerHTML = docLinkHtml;\n",
              "          element.appendChild(docLink);\n",
              "        }\n",
              "      </script>\n",
              "    </div>\n",
              "  </div>\n",
              "  "
            ],
            "text/plain": [
              "CreditRating  1-Highest  2-High  3-Good  4-Medium  5-Low  6-VeryLow  7-Lowest\n",
              "Churn                                                                        \n",
              "No                 5892   13280    5802      3958   5062        836      1502\n",
              "Yes                2628    5712    2608      1398   1435        316       612"
            ]
          },
          "metadata": {},
          "execution_count": 21
        }
      ]
    },
    {
      "cell_type": "markdown",
      "metadata": {
        "id": "Tm9Kkol0lFIV"
      },
      "source": [
        "<mark>__Result:__\n",
        "    \n",
        "Type your interpretation here based on the analysis above"
      ]
    },
    {
      "cell_type": "markdown",
      "source": [
        "We can observe almost an 30 % churning probability in all of the CreditRating Customers.(from table 1)\n",
        "Hence, Credit Rating does NOT have much impact on the Churn Rate.\n",
        "But, most of the customers who have churned belong to 2-High Credit Rating (from table2, table3), followed by 1-Highest and then by 3-Good. This is because most of the customers belong to these three CreditRating classes (1-Highest,2-High,3-Good)"
      ],
      "metadata": {
        "id": "GuorM9QiUMXA"
      }
    },
    {
      "cell_type": "markdown",
      "metadata": {
        "id": "okgnaKbclFIV"
      },
      "source": [
        "### Placeholder for additional exploratory analysis"
      ]
    },
    {
      "cell_type": "code",
      "metadata": {
        "id": "bJkZDBualFIV",
        "colab": {
          "base_uri": "https://localhost:8080/",
          "height": 1000
        },
        "outputId": "46d16997-0b8f-4d7b-f556-17293f3ea080"
      },
      "source": [
        "#type your code here for any additional exploratory analysis (if any)\n",
        "fig = plt.figure(figsize = (15,20))\n",
        "ax = fig.gca()\n",
        "cust_df[1:].hist(ax=ax)"
      ],
      "execution_count": null,
      "outputs": [
        {
          "output_type": "execute_result",
          "data": {
            "text/plain": [
              "array([[<matplotlib.axes._subplots.AxesSubplot object at 0x7f66b2987a90>,\n",
              "        <matplotlib.axes._subplots.AxesSubplot object at 0x7f66a9c041d0>,\n",
              "        <matplotlib.axes._subplots.AxesSubplot object at 0x7f66a9bb76d0>,\n",
              "        <matplotlib.axes._subplots.AxesSubplot object at 0x7f66a9b6fbd0>,\n",
              "        <matplotlib.axes._subplots.AxesSubplot object at 0x7f66c959bd90>,\n",
              "        <matplotlib.axes._subplots.AxesSubplot object at 0x7f66b27b6790>],\n",
              "       [<matplotlib.axes._subplots.AxesSubplot object at 0x7f66b2c1a790>,\n",
              "        <matplotlib.axes._subplots.AxesSubplot object at 0x7f66b25fd6d0>,\n",
              "        <matplotlib.axes._subplots.AxesSubplot object at 0x7f66b25fd410>,\n",
              "        <matplotlib.axes._subplots.AxesSubplot object at 0x7f66b2950710>,\n",
              "        <matplotlib.axes._subplots.AxesSubplot object at 0x7f66a9a3ca90>,\n",
              "        <matplotlib.axes._subplots.AxesSubplot object at 0x7f66a99ff0d0>],\n",
              "       [<matplotlib.axes._subplots.AxesSubplot object at 0x7f66a99b26d0>,\n",
              "        <matplotlib.axes._subplots.AxesSubplot object at 0x7f66a996acd0>,\n",
              "        <matplotlib.axes._subplots.AxesSubplot object at 0x7f66a992d310>,\n",
              "        <matplotlib.axes._subplots.AxesSubplot object at 0x7f66a9962910>,\n",
              "        <matplotlib.axes._subplots.AxesSubplot object at 0x7f66a9918f10>,\n",
              "        <matplotlib.axes._subplots.AxesSubplot object at 0x7f66a98dc550>],\n",
              "       [<matplotlib.axes._subplots.AxesSubplot object at 0x7f66a9892b50>,\n",
              "        <matplotlib.axes._subplots.AxesSubplot object at 0x7f66a9857190>,\n",
              "        <matplotlib.axes._subplots.AxesSubplot object at 0x7f66a980c790>,\n",
              "        <matplotlib.axes._subplots.AxesSubplot object at 0x7f66a97c1d90>,\n",
              "        <matplotlib.axes._subplots.AxesSubplot object at 0x7f66a97843d0>,\n",
              "        <matplotlib.axes._subplots.AxesSubplot object at 0x7f66a973c9d0>],\n",
              "       [<matplotlib.axes._subplots.AxesSubplot object at 0x7f66a96e7b10>,\n",
              "        <matplotlib.axes._subplots.AxesSubplot object at 0x7f66a96b6610>,\n",
              "        <matplotlib.axes._subplots.AxesSubplot object at 0x7f66a966bc10>,\n",
              "        <matplotlib.axes._subplots.AxesSubplot object at 0x7f66a962e250>,\n",
              "        <matplotlib.axes._subplots.AxesSubplot object at 0x7f66a95e6850>,\n",
              "        <matplotlib.axes._subplots.AxesSubplot object at 0x7f66a961ae50>],\n",
              "       [<matplotlib.axes._subplots.AxesSubplot object at 0x7f66a95dd490>,\n",
              "        <matplotlib.axes._subplots.AxesSubplot object at 0x7f66a9593a90>,\n",
              "        <matplotlib.axes._subplots.AxesSubplot object at 0x7f66a95580d0>,\n",
              "        <matplotlib.axes._subplots.AxesSubplot object at 0x7f66a950c6d0>,\n",
              "        <matplotlib.axes._subplots.AxesSubplot object at 0x7f66a94c8810>,\n",
              "        <matplotlib.axes._subplots.AxesSubplot object at 0x7f66a947ed10>]],\n",
              "      dtype=object)"
            ]
          },
          "metadata": {},
          "execution_count": 36
        },
        {
          "output_type": "display_data",
          "data": {
            "image/png": "[encoded data removed]",
            "text/plain": [
              "<Figure size 1080x1440 with 36 Axes>"
            ]
          },
          "metadata": {
            "needs_background": "light"
          }
        }
      ]
    },
    {
      "cell_type": "code",
      "source": [
        "cust_df.select_dtypes(float).columns"
      ],
      "metadata": {
        "colab": {
          "base_uri": "https://localhost:8080/"
        },
        "id": "3O1ZKDJTWmtF",
        "outputId": "a85400fb-c6be-481e-ed2a-050bb59838f8"
      },
      "execution_count": null,
      "outputs": [
        {
          "output_type": "execute_result",
          "data": {
            "text/plain": [
              "Index(['MonthlyRevenue', 'MonthlyMinutes', 'TotalRecurringCharge',\n",
              "       'DirectorAssistedCalls', 'OverageMinutes', 'RoamingCalls',\n",
              "       'PercChangeMinutes', 'PercChangeRevenues', 'DroppedCalls',\n",
              "       'BlockedCalls', 'UnansweredCalls', 'CustomerCareCalls', 'ThreewayCalls',\n",
              "       'ReceivedCalls', 'OutboundCalls', 'InboundCalls', 'PeakCallsInOut',\n",
              "       'OffPeakCallsInOut', 'DroppedBlockedCalls', 'CallForwardingCalls',\n",
              "       'CallWaitingCalls', 'Handsets', 'HandsetModels', 'CurrentEquipmentDays',\n",
              "       'AgeHH1', 'AgeHH2'],\n",
              "      dtype='object')"
            ]
          },
          "metadata": {},
          "execution_count": 35
        }
      ]
    },
    {
      "cell_type": "code",
      "source": [
        "cust_df.select_dtypes(int).columns"
      ],
      "metadata": {
        "colab": {
          "base_uri": "https://localhost:8080/"
        },
        "id": "CemdtMKgYHJj",
        "outputId": "89a07c9e-258e-44ec-9f90-13a7b559e2aa"
      },
      "execution_count": null,
      "outputs": [
        {
          "output_type": "execute_result",
          "data": {
            "text/plain": [
              "Index(['MonthsInService', 'UniqueSubs', 'ActiveSubs', 'RetentionCalls',\n",
              "       'RetentionOffersAccepted', 'ReferralsMadeBySubscriber', 'IncomeGroup',\n",
              "       'AdjustmentsToCreditRating'],\n",
              "      dtype='object')"
            ]
          },
          "metadata": {},
          "execution_count": 26
        }
      ]
    },
    {
      "cell_type": "code",
      "source": [
        "cust_df.select_dtypes(object).columns"
      ],
      "metadata": {
        "colab": {
          "base_uri": "https://localhost:8080/"
        },
        "id": "o0rCWZJiitmr",
        "outputId": "40445e57-219d-404b-8db8-97c66d12e595"
      },
      "execution_count": null,
      "outputs": [
        {
          "output_type": "execute_result",
          "data": {
            "text/plain": [
              "Index(['Churn', 'ServiceArea', 'ChildrenInHH', 'HandsetRefurbished',\n",
              "       'HandsetWebCapable', 'TruckOwner', 'RVOwner', 'Homeownership',\n",
              "       'BuysViaMailOrder', 'RespondsToMailOffers', 'OptOutMailings',\n",
              "       'NonUSTravel', 'OwnsComputer', 'HasCreditCard', 'NewCellphoneUser',\n",
              "       'NotNewCellphoneUser', 'OwnsMotorcycle', 'HandsetPrice',\n",
              "       'MadeCallToRetentionTeam', 'CreditRating', 'PrizmCode', 'Occupation',\n",
              "       'MaritalStatus'],\n",
              "      dtype='object')"
            ]
          },
          "metadata": {},
          "execution_count": 13
        }
      ]
    },
    {
      "cell_type": "markdown",
      "metadata": {
        "id": "1v8DwkhPlFIV"
      },
      "source": [
        "## Q3. Create additional features to help predict churn"
      ]
    },
    {
      "cell_type": "code",
      "metadata": {
        "id": "Qtk8mg8OlFIW"
      },
      "source": [
        "#wrapper function to create additional features for churn prediction\n",
        "def create_features(cust_df):\n",
        "    \n",
        "    #3.1 Percent of current active subs over total subs\n",
        "    cust_df['perc_active_subs'] = cust_df['ActiveSubs'] / cust_df['UniqueSubs']\n",
        "    \n",
        "    #3.2 Percent of recurrent charge to monthly charge\n",
        "    #type your code here to create a new column in cust_df\n",
        "    cust_df['perc_recurrent_charge']=  cust_df['TotalRecurringCharge'] / cust_df.MonthlyRevenue\n",
        "    \n",
        "    return cust_df  \n"
      ],
      "execution_count": null,
      "outputs": []
    },
    {
      "cell_type": "code",
      "metadata": {
        "id": "aVqGUbRIlFIW"
      },
      "source": [
        "#Make a call to the feature engineering wrapper function for churn prediction\n",
        "cust_df=create_features(cust_df)"
      ],
      "execution_count": null,
      "outputs": []
    },
    {
      "cell_type": "code",
      "source": [
        "cust_df.dtypes"
      ],
      "metadata": {
        "colab": {
          "base_uri": "https://localhost:8080/"
        },
        "id": "izRn36Mnl8pt",
        "outputId": "41b4cc89-9382-42b8-85f8-1bdfe02cb88d"
      },
      "execution_count": null,
      "outputs": [
        {
          "output_type": "execute_result",
          "data": {
            "text/plain": [
              "Churn                         object\n",
              "MonthlyRevenue               float64\n",
              "MonthlyMinutes               float64\n",
              "TotalRecurringCharge         float64\n",
              "DirectorAssistedCalls        float64\n",
              "OverageMinutes               float64\n",
              "RoamingCalls                 float64\n",
              "PercChangeMinutes            float64\n",
              "PercChangeRevenues           float64\n",
              "DroppedCalls                 float64\n",
              "BlockedCalls                 float64\n",
              "UnansweredCalls              float64\n",
              "CustomerCareCalls            float64\n",
              "ThreewayCalls                float64\n",
              "ReceivedCalls                float64\n",
              "OutboundCalls                float64\n",
              "InboundCalls                 float64\n",
              "PeakCallsInOut               float64\n",
              "OffPeakCallsInOut            float64\n",
              "DroppedBlockedCalls          float64\n",
              "CallForwardingCalls          float64\n",
              "CallWaitingCalls             float64\n",
              "MonthsInService                int64\n",
              "UniqueSubs                     int64\n",
              "ActiveSubs                     int64\n",
              "ServiceArea                   object\n",
              "Handsets                     float64\n",
              "HandsetModels                float64\n",
              "CurrentEquipmentDays         float64\n",
              "AgeHH1                       float64\n",
              "AgeHH2                       float64\n",
              "ChildrenInHH                  object\n",
              "HandsetRefurbished            object\n",
              "HandsetWebCapable             object\n",
              "TruckOwner                    object\n",
              "RVOwner                       object\n",
              "Homeownership                 object\n",
              "BuysViaMailOrder              object\n",
              "RespondsToMailOffers          object\n",
              "OptOutMailings                object\n",
              "NonUSTravel                   object\n",
              "OwnsComputer                  object\n",
              "HasCreditCard                 object\n",
              "RetentionCalls                 int64\n",
              "RetentionOffersAccepted        int64\n",
              "NewCellphoneUser              object\n",
              "NotNewCellphoneUser           object\n",
              "ReferralsMadeBySubscriber      int64\n",
              "IncomeGroup                    int64\n",
              "OwnsMotorcycle                object\n",
              "AdjustmentsToCreditRating      int64\n",
              "HandsetPrice                  object\n",
              "MadeCallToRetentionTeam       object\n",
              "CreditRating                  object\n",
              "PrizmCode                     object\n",
              "Occupation                    object\n",
              "MaritalStatus                 object\n",
              "perc_active_subs             float64\n",
              "perc_recurrent_charge        float64\n",
              "dtype: object"
            ]
          },
          "metadata": {},
          "execution_count": 40
        }
      ]
    },
    {
      "cell_type": "markdown",
      "metadata": {
        "id": "VE-kdD_YlFIX"
      },
      "source": [
        "## Q4. Build classification model to predict customer churn month in advance"
      ]
    },
    {
      "cell_type": "markdown",
      "metadata": {
        "id": "-EqcNv6rlFIX"
      },
      "source": [
        "### Initial data processing for model building exercise"
      ]
    },
    {
      "cell_type": "code",
      "source": [
        "cust_df.ServiceArea.nunique()"
      ],
      "metadata": {
        "colab": {
          "base_uri": "https://localhost:8080/"
        },
        "id": "pLir_VLmybs4",
        "outputId": "01c118d4-c65e-4126-9a2a-46b5afbb2aca"
      },
      "execution_count": null,
      "outputs": [
        {
          "output_type": "execute_result",
          "data": {
            "text/plain": [
              "741"
            ]
          },
          "metadata": {},
          "execution_count": 25
        }
      ]
    },
    {
      "cell_type": "code",
      "source": [
        "for i in list(cust_df.select_dtypes(object).columns):\n",
        "  print(i,cust_df[i].nunique())"
      ],
      "metadata": {
        "colab": {
          "base_uri": "https://localhost:8080/"
        },
        "id": "tjBcL0dqkMj-",
        "outputId": "175117ac-86bc-4cd7-c69e-7bea59a7722a"
      },
      "execution_count": null,
      "outputs": [
        {
          "output_type": "stream",
          "name": "stdout",
          "text": [
            "Churn 2\n",
            "ServiceArea 741\n",
            "ChildrenInHH 2\n",
            "HandsetRefurbished 2\n",
            "HandsetWebCapable 2\n",
            "TruckOwner 2\n",
            "RVOwner 2\n",
            "Homeownership 2\n",
            "BuysViaMailOrder 2\n",
            "RespondsToMailOffers 2\n",
            "OptOutMailings 2\n",
            "NonUSTravel 2\n",
            "OwnsComputer 2\n",
            "HasCreditCard 2\n",
            "NewCellphoneUser 2\n",
            "NotNewCellphoneUser 2\n",
            "OwnsMotorcycle 2\n",
            "HandsetPrice 16\n",
            "MadeCallToRetentionTeam 2\n",
            "CreditRating 7\n",
            "PrizmCode 4\n",
            "Occupation 8\n",
            "MaritalStatus 3\n"
          ]
        }
      ]
    },
    {
      "cell_type": "code",
      "source": [
        "#Create dummy variables for all categorical variables\n",
        "cust_df.select_dtypes(object).columns # categorical columns\n",
        "X = pd.get_dummies(cust_df.drop(['ServiceArea'],axis=1)) # we are not including the column: Service Area, as it has high number of (741) unique names"
      ],
      "metadata": {
        "colab": {
          "base_uri": "https://localhost:8080/"
        },
        "id": "aaJ7w-gRjoLf",
        "outputId": "c57a3ef9-bd3f-405f-fba9-6a439daae953"
      },
      "execution_count": null,
      "outputs": [
        {
          "output_type": "execute_result",
          "data": {
            "text/plain": [
              "Index(['Churn', 'ServiceArea', 'ChildrenInHH', 'HandsetRefurbished',\n",
              "       'HandsetWebCapable', 'TruckOwner', 'RVOwner', 'Homeownership',\n",
              "       'BuysViaMailOrder', 'RespondsToMailOffers', 'OptOutMailings',\n",
              "       'NonUSTravel', 'OwnsComputer', 'HasCreditCard', 'NewCellphoneUser',\n",
              "       'NotNewCellphoneUser', 'OwnsMotorcycle', 'HandsetPrice',\n",
              "       'MadeCallToRetentionTeam', 'CreditRating', 'PrizmCode', 'Occupation',\n",
              "       'MaritalStatus'],\n",
              "      dtype='object')"
            ]
          },
          "metadata": {},
          "execution_count": 126
        }
      ]
    },
    {
      "cell_type": "code",
      "source": [
        "print(X.shape)\n",
        "X.drop(['Churn_No','ChildrenInHH_No','HandsetRefurbished_No','HandsetWebCapable_No','TruckOwner_No','RVOwner_No','Homeownership_Unknown','BuysViaMailOrder_No', 'RespondsToMailOffers_No', 'OptOutMailings_No',\n",
        "       'NonUSTravel_No', 'OwnsComputer_No', 'HasCreditCard_No', 'NewCellphoneUser_No','NotNewCellphoneUser_No', 'OwnsMotorcycle_No','MadeCallToRetentionTeam_No','MaritalStatus_No'],axis=1,inplace = True)\n",
        "X.shape"
      ],
      "metadata": {
        "colab": {
          "base_uri": "https://localhost:8080/"
        },
        "id": "ruLsOxKAkxJ4",
        "outputId": "e1d0b5ac-170b-4b15-bdcd-0bfe998062cb"
      },
      "execution_count": null,
      "outputs": [
        {
          "output_type": "stream",
          "name": "stdout",
          "text": [
            "(49066, 108)\n"
          ]
        },
        {
          "output_type": "execute_result",
          "data": {
            "text/plain": [
              "(49066, 90)"
            ]
          },
          "metadata": {},
          "execution_count": 127
        }
      ]
    },
    {
      "cell_type": "code",
      "source": [
        "# Undersampling, Oversampling, SMOTE is used in the case of imbalanced data\n",
        "# check version number\n",
        "import imblearn\n",
        "print(imblearn.__version__)\n",
        "\n",
        "from imblearn.over_sampling import RandomOverSampler \n",
        "from collections import Counter\n",
        "from imblearn.over_sampling import RandomOverSampler"
      ],
      "metadata": {
        "colab": {
          "base_uri": "https://localhost:8080/"
        },
        "id": "tiJP2ZEtUvme",
        "outputId": "fdd47108-b152-44e9-909a-d997fc72e921"
      },
      "execution_count": null,
      "outputs": [
        {
          "output_type": "stream",
          "name": "stdout",
          "text": [
            "0.8.1\n"
          ]
        }
      ]
    },
    {
      "cell_type": "code",
      "metadata": {
        "id": "pZlh5pYilFIX",
        "colab": {
          "base_uri": "https://localhost:8080/"
        },
        "outputId": "aaf4c04b-db17-4cfe-dc69-2a1676cb3457"
      },
      "source": [
        "#Train - test split to train and test model accuracy\n",
        "from sklearn.model_selection import train_test_split\n",
        "\n",
        "#Define columns to be included in X and y\n",
        "x = X.drop(['Churn_Yes'],axis=1)\n",
        "y = X['Churn_Yes']\n",
        "\n",
        "# summarize class distribution\n",
        "print(Counter(y))\n",
        "# define oversampling strategy\n",
        "oversample = RandomOverSampler(sampling_strategy='minority') # this would make the minority class of the same length as the majority class\n",
        "# fit and apply the transform\n",
        "X_over, y_over = oversample.fit_resample(x, y)\n",
        "\n",
        "# summarize class distribution\n",
        "print(Counter(y_over))\n",
        "\n",
        "X_train, X_test, y_train, y_test = train_test_split(X_over, y_over, test_size=0.3, random_state=0)\n",
        "\n",
        "#Feature scaling for all continuous variable\n",
        "from sklearn.preprocessing import StandardScaler\n",
        "sc = StandardScaler() \n",
        "X_train  = sc.fit_transform(X_train)\n",
        "X_test = sc.fit_transform(X_test)"
      ],
      "execution_count": null,
      "outputs": [
        {
          "output_type": "stream",
          "name": "stdout",
          "text": [
            "Counter({0: 35018, 1: 14048})\n",
            "Counter({1: 35018, 0: 35018})\n"
          ]
        }
      ]
    },
    {
      "cell_type": "code",
      "source": [
        "# SMOTE Technique \n",
        "# we can also use SMOTE Technique to oversample and get a balanced data\n",
        "print(\"Before OverSampling, counts of label '1': {}\".format(sum(y_train == 1)))\n",
        "print(\"Before OverSampling, counts of label '0': {} \\n\".format(sum(y_train == 0)))\n",
        "  \n",
        "# import SMOTE module from imblearn library\n",
        "# pip install imblearn (if you don't have imblearn in your system)\n",
        "from imblearn.over_sampling import SMOTE\n",
        "sm = SMOTE(random_state = 2)\n",
        "X_train_res, y_train_res = sm.fit_sample(X_train, y_train.ravel())\n",
        "  \n",
        "print('After OverSampling, the shape of train_X: {}'.format(X_train_res.shape))\n",
        "print('After OverSampling, the shape of train_y: {} \\n'.format(y_train_res.shape))\n",
        "  \n",
        "print(\"After OverSampling, counts of label '1': {}\".format(sum(y_train_res == 1)))\n",
        "print(\"After OverSampling, counts of label '0': {}\".format(sum(y_train_res == 0)))"
      ],
      "metadata": {
        "id": "Yn7MORg4VFTF"
      },
      "execution_count": null,
      "outputs": []
    },
    {
      "cell_type": "markdown",
      "metadata": {
        "id": "lj89clILlFIY"
      },
      "source": [
        "### Q4.1 Build a simple logistic regression model to predict churn and evaluate model accuracy on test data set\n"
      ]
    },
    {
      "cell_type": "code",
      "metadata": {
        "id": "R3j70GX1lFIY",
        "colab": {
          "base_uri": "https://localhost:8080/"
        },
        "outputId": "f2c35eb4-f9a1-4d7d-8b4f-0b4247f248bf"
      },
      "source": [
        "#-------------------------------- Model training -------------------------------#\n",
        "\n",
        "#type your code to build logistic regression model on training data set\n",
        "from sklearn.linear_model import LogisticRegression \n",
        "lr= LogisticRegression(random_state=0)\n",
        "lr.fit(X_train,y_train)"
      ],
      "execution_count": null,
      "outputs": [
        {
          "output_type": "execute_result",
          "data": {
            "text/plain": [
              "LogisticRegression(random_state=0)"
            ]
          },
          "metadata": {},
          "execution_count": 129
        }
      ]
    },
    {
      "cell_type": "code",
      "metadata": {
        "id": "KlCdJ472lFIZ",
        "colab": {
          "base_uri": "https://localhost:8080/"
        },
        "outputId": "9d35a403-bd78-44cf-ece8-99fd42210201"
      },
      "source": [
        "#-------------------------------- Model testing ---------------------------------#\n",
        "\n",
        "#type your code here to predict for X_test data set using the fitted model\n",
        "\n",
        "y_pred = lr.predict(X_test)\n",
        "df_pred = pd.DataFrame(lr.predict_proba(X_test))\n",
        "df_pred['Final_Pred'] = y_pred\n",
        "\n",
        "#Use a probability threshold to classify customers as churners and non churners (Default = 0.5)\n",
        "df_pred['Pred_70%']=np.where(lr.predict_proba(X_test)[:,1]>0.7,1,0) # if probability is greater than 0.7 then it is assigned 1 or else 0\n",
        "\n",
        "\n",
        "#Evaluate model accuracy using fitted y value and actual y_test\n",
        "#Evaluation metrics to be used - GINI, Precision, Recall, confusion matrix\n",
        "from sklearn.metrics import confusion_matrix, accuracy_score, classification_report\n",
        "cm = confusion_matrix(y_test,y_pred)\n",
        "\n",
        "print(\"Confusion Matrix : \\n\", cm)\n",
        "print('Accuracy', accuracy_score(y_test,y_pred))\n",
        "print(classification_report(y_test, y_pred))"
      ],
      "execution_count": null,
      "outputs": [
        {
          "output_type": "stream",
          "name": "stdout",
          "text": [
            "Confusion Matrix : \n",
            " [[6125 4304]\n",
            " [4480 6102]]\n",
            "Accuracy 0.5819332730474513\n",
            "              precision    recall  f1-score   support\n",
            "\n",
            "           0       0.58      0.59      0.58     10429\n",
            "           1       0.59      0.58      0.58     10582\n",
            "\n",
            "    accuracy                           0.58     21011\n",
            "   macro avg       0.58      0.58      0.58     21011\n",
            "weighted avg       0.58      0.58      0.58     21011\n",
            "\n"
          ]
        }
      ]
    },
    {
      "cell_type": "code",
      "source": [
        "tn, fp, fn, tp = confusion_matrix(y_test,y_pred).ravel()\n",
        "(tn,fp,fn,tp)"
      ],
      "metadata": {
        "colab": {
          "base_uri": "https://localhost:8080/"
        },
        "id": "nPpYIKwdD9J9",
        "outputId": "1d2a791f-8353-4768-eab4-d0ba156c9343"
      },
      "execution_count": null,
      "outputs": [
        {
          "output_type": "execute_result",
          "data": {
            "text/plain": [
              "(6125, 4304, 4480, 6102)"
            ]
          },
          "metadata": {},
          "execution_count": 131
        }
      ]
    },
    {
      "cell_type": "code",
      "source": [
        "print('Precsion from Logistic Regression is:', (tp)/(tp+fp))\n",
        "print('Recall from Logistic Regression is:', (tp)/(tp+fn))\n",
        "print('Accuracy from Logistic Regression is:',(tp+tn)/(tp+tn+fp+fn))"
      ],
      "metadata": {
        "colab": {
          "base_uri": "https://localhost:8080/"
        },
        "id": "nksQYmGAFuJj",
        "outputId": "6f6a68b4-96d6-43f9-d803-f00e6384134b"
      },
      "execution_count": null,
      "outputs": [
        {
          "output_type": "stream",
          "name": "stdout",
          "text": [
            "Precsion from Logistic Regression is: 0.5863924658850663\n",
            "Recall from Logistic Regression is: 0.5766395766395767\n",
            "Accuracy from Logistic Regression is: 0.5819332730474513\n"
          ]
        }
      ]
    },
    {
      "cell_type": "code",
      "source": [
        "df_pred.head()"
      ],
      "metadata": {
        "colab": {
          "base_uri": "https://localhost:8080/",
          "height": 206
        },
        "id": "W5BaaG15DYJb",
        "outputId": "391f866e-6446-404c-f165-039a93fcb92f"
      },
      "execution_count": null,
      "outputs": [
        {
          "output_type": "execute_result",
          "data": {
            "text/html": [
              "\n",
              "  <div id=\"df-304112b6-4dbc-475f-a38c-113230b2ae64\">\n",
              "    <div class=\"colab-df-container\">\n",
              "      <div>\n",
              "<style scoped>\n",
              "    .dataframe tbody tr th:only-of-type {\n",
              "        vertical-align: middle;\n",
              "    }\n",
              "\n",
              "    .dataframe tbody tr th {\n",
              "        vertical-align: top;\n",
              "    }\n",
              "\n",
              "    .dataframe thead th {\n",
              "        text-align: right;\n",
              "    }\n",
              "</style>\n",
              "<table border=\"1\" class=\"dataframe\">\n",
              "  <thead>\n",
              "    <tr style=\"text-align: right;\">\n",
              "      <th></th>\n",
              "      <th>0</th>\n",
              "      <th>1</th>\n",
              "      <th>Final_Pred</th>\n",
              "      <th>Pred_70%</th>\n",
              "    </tr>\n",
              "  </thead>\n",
              "  <tbody>\n",
              "    <tr>\n",
              "      <th>0</th>\n",
              "      <td>0.511193</td>\n",
              "      <td>0.488807</td>\n",
              "      <td>0</td>\n",
              "      <td>0</td>\n",
              "    </tr>\n",
              "    <tr>\n",
              "      <th>1</th>\n",
              "      <td>0.682779</td>\n",
              "      <td>0.317221</td>\n",
              "      <td>0</td>\n",
              "      <td>0</td>\n",
              "    </tr>\n",
              "    <tr>\n",
              "      <th>2</th>\n",
              "      <td>0.321912</td>\n",
              "      <td>0.678088</td>\n",
              "      <td>1</td>\n",
              "      <td>0</td>\n",
              "    </tr>\n",
              "    <tr>\n",
              "      <th>3</th>\n",
              "      <td>0.593960</td>\n",
              "      <td>0.406040</td>\n",
              "      <td>0</td>\n",
              "      <td>0</td>\n",
              "    </tr>\n",
              "    <tr>\n",
              "      <th>4</th>\n",
              "      <td>0.505875</td>\n",
              "      <td>0.494125</td>\n",
              "      <td>0</td>\n",
              "      <td>0</td>\n",
              "    </tr>\n",
              "  </tbody>\n",
              "</table>\n",
              "</div>\n",
              "      <button class=\"colab-df-convert\" onclick=\"convertToInteractive('df-304112b6-4dbc-475f-a38c-113230b2ae64')\"\n",
              "              title=\"Convert this dataframe to an interactive table.\"\n",
              "              style=\"display:none;\">\n",
              "        \n",
              "  <svg xmlns=\"http://www.w3.org/2000/svg\" height=\"24px\"viewBox=\"0 0 24 24\"\n",
              "       width=\"24px\">\n",
              "    <path d=\"M0 0h24v24H0V0z\" fill=\"none\"/>\n",
              "    <path d=\"M18.56 5.44l.94 2.06.94-2.06 2.06-.94-2.06-.94-.94-2.06-.94 2.06-2.06.94zm-11 1L8.5 8.5l.94-2.06 2.06-.94-2.06-.94L8.5 2.5l-.94 2.06-2.06.94zm10 10l.94 2.06.94-2.06 2.06-.94-2.06-.94-.94-2.06-.94 2.06-2.06.94z\"/><path d=\"M17.41 7.96l-1.37-1.37c-.4-.4-.92-.59-1.43-.59-.52 0-1.04.2-1.43.59L10.3 9.45l-7.72 7.72c-.78.78-.78 2.05 0 2.83L4 21.41c.39.39.9.59 1.41.59.51 0 1.02-.2 1.41-.59l7.78-7.78 2.81-2.81c.8-.78.8-2.07 0-2.86zM5.41 20L4 18.59l7.72-7.72 1.47 1.35L5.41 20z\"/>\n",
              "  </svg>\n",
              "      </button>\n",
              "      \n",
              "  <style>\n",
              "    .colab-df-container {\n",
              "      display:flex;\n",
              "      flex-wrap:wrap;\n",
              "      gap: 12px;\n",
              "    }\n",
              "\n",
              "    .colab-df-convert {\n",
              "      background-color: #E8F0FE;\n",
              "      border: none;\n",
              "      border-radius: 50%;\n",
              "      cursor: pointer;\n",
              "      display: none;\n",
              "      fill: #1967D2;\n",
              "      height: 32px;\n",
              "      padding: 0 0 0 0;\n",
              "      width: 32px;\n",
              "    }\n",
              "\n",
              "    .colab-df-convert:hover {\n",
              "      background-color: #E2EBFA;\n",
              "      box-shadow: 0px 1px 2px rgba(60, 64, 67, 0.3), 0px 1px 3px 1px rgba(60, 64, 67, 0.15);\n",
              "      fill: #174EA6;\n",
              "    }\n",
              "\n",
              "    [theme=dark] .colab-df-convert {\n",
              "      background-color: #3B4455;\n",
              "      fill: #D2E3FC;\n",
              "    }\n",
              "\n",
              "    [theme=dark] .colab-df-convert:hover {\n",
              "      background-color: #434B5C;\n",
              "      box-shadow: 0px 1px 3px 1px rgba(0, 0, 0, 0.15);\n",
              "      filter: drop-shadow(0px 1px 2px rgba(0, 0, 0, 0.3));\n",
              "      fill: #FFFFFF;\n",
              "    }\n",
              "  </style>\n",
              "\n",
              "      <script>\n",
              "        const buttonEl =\n",
              "          document.querySelector('#df-304112b6-4dbc-475f-a38c-113230b2ae64 button.colab-df-convert');\n",
              "        buttonEl.style.display =\n",
              "          google.colab.kernel.accessAllowed ? 'block' : 'none';\n",
              "\n",
              "        async function convertToInteractive(key) {\n",
              "          const element = document.querySelector('#df-304112b6-4dbc-475f-a38c-113230b2ae64');\n",
              "          const dataTable =\n",
              "            await google.colab.kernel.invokeFunction('convertToInteractive',\n",
              "                                                     [key], {});\n",
              "          if (!dataTable) return;\n",
              "\n",
              "          const docLinkHtml = 'Like what you see? Visit the ' +\n",
              "            '<a target=\"_blank\" href=https://colab.research.google.com/notebooks/data_table.ipynb>data table notebook</a>'\n",
              "            + ' to learn more about interactive tables.';\n",
              "          element.innerHTML = '';\n",
              "          dataTable['output_type'] = 'display_data';\n",
              "          await google.colab.output.renderOutput(dataTable, element);\n",
              "          const docLink = document.createElement('div');\n",
              "          docLink.innerHTML = docLinkHtml;\n",
              "          element.appendChild(docLink);\n",
              "        }\n",
              "      </script>\n",
              "    </div>\n",
              "  </div>\n",
              "  "
            ],
            "text/plain": [
              "          0         1  Final_Pred  Pred_70%\n",
              "0  0.511193  0.488807           0         0\n",
              "1  0.682779  0.317221           0         0\n",
              "2  0.321912  0.678088           1         0\n",
              "3  0.593960  0.406040           0         0\n",
              "4  0.505875  0.494125           0         0"
            ]
          },
          "metadata": {},
          "execution_count": 134
        }
      ]
    },
    {
      "cell_type": "code",
      "source": [
        "df_pred[df_pred[1]>0.69].head() # in this we can see the difference in the last two columns, with a threshold of 0.5 and 0.7"
      ],
      "metadata": {
        "colab": {
          "base_uri": "https://localhost:8080/",
          "height": 206
        },
        "id": "PDW-PLzyGev5",
        "outputId": "d41190f2-0b4c-4e29-c248-a6a7f4863a5d"
      },
      "execution_count": null,
      "outputs": [
        {
          "output_type": "execute_result",
          "data": {
            "text/html": [
              "\n",
              "  <div id=\"df-a3e20418-69fd-4be8-b2f9-f5a91944da4a\">\n",
              "    <div class=\"colab-df-container\">\n",
              "      <div>\n",
              "<style scoped>\n",
              "    .dataframe tbody tr th:only-of-type {\n",
              "        vertical-align: middle;\n",
              "    }\n",
              "\n",
              "    .dataframe tbody tr th {\n",
              "        vertical-align: top;\n",
              "    }\n",
              "\n",
              "    .dataframe thead th {\n",
              "        text-align: right;\n",
              "    }\n",
              "</style>\n",
              "<table border=\"1\" class=\"dataframe\">\n",
              "  <thead>\n",
              "    <tr style=\"text-align: right;\">\n",
              "      <th></th>\n",
              "      <th>0</th>\n",
              "      <th>1</th>\n",
              "      <th>Final_Pred</th>\n",
              "      <th>Pred_70%</th>\n",
              "    </tr>\n",
              "  </thead>\n",
              "  <tbody>\n",
              "    <tr>\n",
              "      <th>59</th>\n",
              "      <td>0.240896</td>\n",
              "      <td>0.759104</td>\n",
              "      <td>1</td>\n",
              "      <td>1</td>\n",
              "    </tr>\n",
              "    <tr>\n",
              "      <th>161</th>\n",
              "      <td>0.281877</td>\n",
              "      <td>0.718123</td>\n",
              "      <td>1</td>\n",
              "      <td>1</td>\n",
              "    </tr>\n",
              "    <tr>\n",
              "      <th>173</th>\n",
              "      <td>0.295769</td>\n",
              "      <td>0.704231</td>\n",
              "      <td>1</td>\n",
              "      <td>1</td>\n",
              "    </tr>\n",
              "    <tr>\n",
              "      <th>191</th>\n",
              "      <td>0.306681</td>\n",
              "      <td>0.693319</td>\n",
              "      <td>1</td>\n",
              "      <td>0</td>\n",
              "    </tr>\n",
              "    <tr>\n",
              "      <th>201</th>\n",
              "      <td>0.264479</td>\n",
              "      <td>0.735521</td>\n",
              "      <td>1</td>\n",
              "      <td>1</td>\n",
              "    </tr>\n",
              "  </tbody>\n",
              "</table>\n",
              "</div>\n",
              "      <button class=\"colab-df-convert\" onclick=\"convertToInteractive('df-a3e20418-69fd-4be8-b2f9-f5a91944da4a')\"\n",
              "              title=\"Convert this dataframe to an interactive table.\"\n",
              "              style=\"display:none;\">\n",
              "        \n",
              "  <svg xmlns=\"http://www.w3.org/2000/svg\" height=\"24px\"viewBox=\"0 0 24 24\"\n",
              "       width=\"24px\">\n",
              "    <path d=\"M0 0h24v24H0V0z\" fill=\"none\"/>\n",
              "    <path d=\"M18.56 5.44l.94 2.06.94-2.06 2.06-.94-2.06-.94-.94-2.06-.94 2.06-2.06.94zm-11 1L8.5 8.5l.94-2.06 2.06-.94-2.06-.94L8.5 2.5l-.94 2.06-2.06.94zm10 10l.94 2.06.94-2.06 2.06-.94-2.06-.94-.94-2.06-.94 2.06-2.06.94z\"/><path d=\"M17.41 7.96l-1.37-1.37c-.4-.4-.92-.59-1.43-.59-.52 0-1.04.2-1.43.59L10.3 9.45l-7.72 7.72c-.78.78-.78 2.05 0 2.83L4 21.41c.39.39.9.59 1.41.59.51 0 1.02-.2 1.41-.59l7.78-7.78 2.81-2.81c.8-.78.8-2.07 0-2.86zM5.41 20L4 18.59l7.72-7.72 1.47 1.35L5.41 20z\"/>\n",
              "  </svg>\n",
              "      </button>\n",
              "      \n",
              "  <style>\n",
              "    .colab-df-container {\n",
              "      display:flex;\n",
              "      flex-wrap:wrap;\n",
              "      gap: 12px;\n",
              "    }\n",
              "\n",
              "    .colab-df-convert {\n",
              "      background-color: #E8F0FE;\n",
              "      border: none;\n",
              "      border-radius: 50%;\n",
              "      cursor: pointer;\n",
              "      display: none;\n",
              "      fill: #1967D2;\n",
              "      height: 32px;\n",
              "      padding: 0 0 0 0;\n",
              "      width: 32px;\n",
              "    }\n",
              "\n",
              "    .colab-df-convert:hover {\n",
              "      background-color: #E2EBFA;\n",
              "      box-shadow: 0px 1px 2px rgba(60, 64, 67, 0.3), 0px 1px 3px 1px rgba(60, 64, 67, 0.15);\n",
              "      fill: #174EA6;\n",
              "    }\n",
              "\n",
              "    [theme=dark] .colab-df-convert {\n",
              "      background-color: #3B4455;\n",
              "      fill: #D2E3FC;\n",
              "    }\n",
              "\n",
              "    [theme=dark] .colab-df-convert:hover {\n",
              "      background-color: #434B5C;\n",
              "      box-shadow: 0px 1px 3px 1px rgba(0, 0, 0, 0.15);\n",
              "      filter: drop-shadow(0px 1px 2px rgba(0, 0, 0, 0.3));\n",
              "      fill: #FFFFFF;\n",
              "    }\n",
              "  </style>\n",
              "\n",
              "      <script>\n",
              "        const buttonEl =\n",
              "          document.querySelector('#df-a3e20418-69fd-4be8-b2f9-f5a91944da4a button.colab-df-convert');\n",
              "        buttonEl.style.display =\n",
              "          google.colab.kernel.accessAllowed ? 'block' : 'none';\n",
              "\n",
              "        async function convertToInteractive(key) {\n",
              "          const element = document.querySelector('#df-a3e20418-69fd-4be8-b2f9-f5a91944da4a');\n",
              "          const dataTable =\n",
              "            await google.colab.kernel.invokeFunction('convertToInteractive',\n",
              "                                                     [key], {});\n",
              "          if (!dataTable) return;\n",
              "\n",
              "          const docLinkHtml = 'Like what you see? Visit the ' +\n",
              "            '<a target=\"_blank\" href=https://colab.research.google.com/notebooks/data_table.ipynb>data table notebook</a>'\n",
              "            + ' to learn more about interactive tables.';\n",
              "          element.innerHTML = '';\n",
              "          dataTable['output_type'] = 'display_data';\n",
              "          await google.colab.output.renderOutput(dataTable, element);\n",
              "          const docLink = document.createElement('div');\n",
              "          docLink.innerHTML = docLinkHtml;\n",
              "          element.appendChild(docLink);\n",
              "        }\n",
              "      </script>\n",
              "    </div>\n",
              "  </div>\n",
              "  "
            ],
            "text/plain": [
              "            0         1  Final_Pred  Pred_70%\n",
              "59   0.240896  0.759104           1         1\n",
              "161  0.281877  0.718123           1         1\n",
              "173  0.295769  0.704231           1         1\n",
              "191  0.306681  0.693319           1         0\n",
              "201  0.264479  0.735521           1         1"
            ]
          },
          "metadata": {},
          "execution_count": 133
        }
      ]
    },
    {
      "cell_type": "markdown",
      "metadata": {
        "id": "5c_9lNnclFIZ"
      },
      "source": [
        "### Q4.2 Build Random Forest classifier to compare model accuracy over the logistic regression model\n"
      ]
    },
    {
      "cell_type": "code",
      "metadata": {
        "id": "-PqkT3eRlFIa",
        "colab": {
          "base_uri": "https://localhost:8080/"
        },
        "outputId": "b7ad13bf-e058-42fc-88ae-df20340dbdbb"
      },
      "source": [
        "#-------------------------------- Model training -------------------------------#\n",
        "\n",
        "#type your code to build random forest classifier model on training data set\n",
        "from sklearn.ensemble import RandomForestClassifier\n",
        "rf = RandomForestClassifier(n_estimators=50)\n",
        "rf.fit(X_train,y_train)"
      ],
      "execution_count": null,
      "outputs": [
        {
          "output_type": "execute_result",
          "data": {
            "text/plain": [
              "RandomForestClassifier(n_estimators=50)"
            ]
          },
          "metadata": {},
          "execution_count": 135
        }
      ]
    },
    {
      "cell_type": "code",
      "metadata": {
        "id": "yoMJOpkvlFIa",
        "colab": {
          "base_uri": "https://localhost:8080/"
        },
        "outputId": "09b1f491-d4d7-4524-caf7-60576966bc1c"
      },
      "source": [
        "#-------------------------------- Model testing ---------------------------------#\n",
        "\n",
        "#type your code here to predict for X_test data set using the fitted RF model\n",
        "y_pred1 = rf.predict(X_test)\n",
        "df_pred1 = pd.DataFrame(rf.predict_proba(X_test))\n",
        "df_pred1['Final_Pred'] = y_pred1\n",
        "\n",
        "#Use a probability threshold to classify customers as churners and non churners (Default = 0.5)\n",
        "df_pred1['Pred_70%']=np.where(rf.predict_proba(X_test)[:,1]>0.7,1,0) # if probability is greater than 0.7 then it is assigned 1 or else 0\n",
        "\n",
        "\n",
        "#Evaluate model accuracy using fitted y value and actual y_test\n",
        "#Evaluatio metrics to be used - GINI, Precision, Recall, confusion matrix\n",
        "\n",
        "from sklearn.metrics import confusion_matrix, accuracy_score, classification_report\n",
        "cm = confusion_matrix(y_test,y_pred1)\n",
        "\n",
        "print(\"Confusion Matrix : \\n\", cm)\n",
        "print('Accuracy', accuracy_score(y_test,y_pred1))\n",
        "print(classification_report(y_test, y_pred1))\n"
      ],
      "execution_count": null,
      "outputs": [
        {
          "output_type": "stream",
          "name": "stdout",
          "text": [
            "Confusion Matrix : \n",
            " [[9163 1266]\n",
            " [1696 8886]]\n",
            "Accuracy 0.8590262243586693\n",
            "              precision    recall  f1-score   support\n",
            "\n",
            "           0       0.84      0.88      0.86     10429\n",
            "           1       0.88      0.84      0.86     10582\n",
            "\n",
            "    accuracy                           0.86     21011\n",
            "   macro avg       0.86      0.86      0.86     21011\n",
            "weighted avg       0.86      0.86      0.86     21011\n",
            "\n"
          ]
        }
      ]
    },
    {
      "cell_type": "code",
      "source": [
        "tn, fp, fn, tp = confusion_matrix(y_test,y_pred1).ravel()\n",
        "print('Precision from Random Forest Classifier is:', (tp)/(tp+fp))\n",
        "print('Recall from Random Forest Classifier is:', (tp)/(tp+fn))\n",
        "print('Accuracy from Random Forest Classifier is:',(tp+tn)/(tp+tn+fp+fn))"
      ],
      "metadata": {
        "colab": {
          "base_uri": "https://localhost:8080/"
        },
        "id": "94TCB-2-H4Ot",
        "outputId": "0275f161-92d9-4dde-8bad-43ce77410415"
      },
      "execution_count": null,
      "outputs": [
        {
          "output_type": "stream",
          "name": "stdout",
          "text": [
            "Precision from Random Forest Classifier is: 0.8752955082742316\n",
            "Recall from Random Forest Classifier is: 0.8397278397278397\n",
            "Accuracy from Random Forest Classifier is: 0.8590262243586693\n"
          ]
        }
      ]
    },
    {
      "cell_type": "markdown",
      "source": [
        "Precsion from Logistic Regression is: 0.5863924658850663\n",
        "\n",
        "Recall from Logistic Regression is: 0.5766395766395767\n",
        "\n",
        "Accuracy from Logistic Regression is: 0.5819332730474513"
      ],
      "metadata": {
        "id": "OeYrXGIPrq60"
      }
    },
    {
      "cell_type": "markdown",
      "metadata": {
        "id": "iKAR6bUolFIb"
      },
      "source": [
        "<mark>__Result:__\n",
        "    \n",
        "Type your answer from the model building exercise here, i.e., which model has better accuracy and using what metrics?"
      ]
    },
    {
      "cell_type": "markdown",
      "source": [
        "Random Forest Classifier has better Precision, Recall, and Accuracy."
      ],
      "metadata": {
        "id": "yIw6O4alJt4E"
      }
    },
    {
      "cell_type": "markdown",
      "metadata": {
        "id": "AixoKv9GlFIb"
      },
      "source": [
        "### Q4.3 Identify most important features impacting churn"
      ]
    },
    {
      "cell_type": "code",
      "metadata": {
        "id": "k4T4iPJilFIc",
        "colab": {
          "base_uri": "https://localhost:8080/"
        },
        "outputId": "52b42ea5-4e7b-428d-f326-2bf069d597bf"
      },
      "source": [
        "# Type your code here to plot the top 20 important predictor features impacting churn using the Random Forest model created\n",
        "\n",
        "a = pd.Series(rf.feature_importances_, index=pd.DataFrame(X_train).columns)\n",
        "a"
      ],
      "execution_count": null,
      "outputs": [
        {
          "output_type": "execute_result",
          "data": {
            "text/plain": [
              "0     0.040525\n",
              "1     0.046273\n",
              "2     0.027946\n",
              "3     0.019406\n",
              "4     0.024221\n",
              "        ...   \n",
              "85    0.001089\n",
              "86    0.001140\n",
              "87    0.000739\n",
              "88    0.005272\n",
              "89    0.004769\n",
              "Length: 90, dtype: float64"
            ]
          },
          "metadata": {},
          "execution_count": 99
        }
      ]
    },
    {
      "cell_type": "code",
      "source": [
        "b = pd.DataFrame(a)\n",
        "b.rename(columns = {0:'Col1'},inplace=True)\n",
        "b.head()"
      ],
      "metadata": {
        "colab": {
          "base_uri": "https://localhost:8080/",
          "height": 206
        },
        "id": "fX_q4KZFL2y6",
        "outputId": "85465d8f-6e64-4def-c075-bc6f2f2d7cf7"
      },
      "execution_count": null,
      "outputs": [
        {
          "output_type": "execute_result",
          "data": {
            "text/html": [
              "\n",
              "  <div id=\"df-bc41a7a1-05a0-4c4b-a290-1bac50717ff7\">\n",
              "    <div class=\"colab-df-container\">\n",
              "      <div>\n",
              "<style scoped>\n",
              "    .dataframe tbody tr th:only-of-type {\n",
              "        vertical-align: middle;\n",
              "    }\n",
              "\n",
              "    .dataframe tbody tr th {\n",
              "        vertical-align: top;\n",
              "    }\n",
              "\n",
              "    .dataframe thead th {\n",
              "        text-align: right;\n",
              "    }\n",
              "</style>\n",
              "<table border=\"1\" class=\"dataframe\">\n",
              "  <thead>\n",
              "    <tr style=\"text-align: right;\">\n",
              "      <th></th>\n",
              "      <th>Col1</th>\n",
              "    </tr>\n",
              "  </thead>\n",
              "  <tbody>\n",
              "    <tr>\n",
              "      <th>0</th>\n",
              "      <td>0.040525</td>\n",
              "    </tr>\n",
              "    <tr>\n",
              "      <th>1</th>\n",
              "      <td>0.046273</td>\n",
              "    </tr>\n",
              "    <tr>\n",
              "      <th>2</th>\n",
              "      <td>0.027946</td>\n",
              "    </tr>\n",
              "    <tr>\n",
              "      <th>3</th>\n",
              "      <td>0.019406</td>\n",
              "    </tr>\n",
              "    <tr>\n",
              "      <th>4</th>\n",
              "      <td>0.024221</td>\n",
              "    </tr>\n",
              "  </tbody>\n",
              "</table>\n",
              "</div>\n",
              "      <button class=\"colab-df-convert\" onclick=\"convertToInteractive('df-bc41a7a1-05a0-4c4b-a290-1bac50717ff7')\"\n",
              "              title=\"Convert this dataframe to an interactive table.\"\n",
              "              style=\"display:none;\">\n",
              "        \n",
              "  <svg xmlns=\"http://www.w3.org/2000/svg\" height=\"24px\"viewBox=\"0 0 24 24\"\n",
              "       width=\"24px\">\n",
              "    <path d=\"M0 0h24v24H0V0z\" fill=\"none\"/>\n",
              "    <path d=\"M18.56 5.44l.94 2.06.94-2.06 2.06-.94-2.06-.94-.94-2.06-.94 2.06-2.06.94zm-11 1L8.5 8.5l.94-2.06 2.06-.94-2.06-.94L8.5 2.5l-.94 2.06-2.06.94zm10 10l.94 2.06.94-2.06 2.06-.94-2.06-.94-.94-2.06-.94 2.06-2.06.94z\"/><path d=\"M17.41 7.96l-1.37-1.37c-.4-.4-.92-.59-1.43-.59-.52 0-1.04.2-1.43.59L10.3 9.45l-7.72 7.72c-.78.78-.78 2.05 0 2.83L4 21.41c.39.39.9.59 1.41.59.51 0 1.02-.2 1.41-.59l7.78-7.78 2.81-2.81c.8-.78.8-2.07 0-2.86zM5.41 20L4 18.59l7.72-7.72 1.47 1.35L5.41 20z\"/>\n",
              "  </svg>\n",
              "      </button>\n",
              "      \n",
              "  <style>\n",
              "    .colab-df-container {\n",
              "      display:flex;\n",
              "      flex-wrap:wrap;\n",
              "      gap: 12px;\n",
              "    }\n",
              "\n",
              "    .colab-df-convert {\n",
              "      background-color: #E8F0FE;\n",
              "      border: none;\n",
              "      border-radius: 50%;\n",
              "      cursor: pointer;\n",
              "      display: none;\n",
              "      fill: #1967D2;\n",
              "      height: 32px;\n",
              "      padding: 0 0 0 0;\n",
              "      width: 32px;\n",
              "    }\n",
              "\n",
              "    .colab-df-convert:hover {\n",
              "      background-color: #E2EBFA;\n",
              "      box-shadow: 0px 1px 2px rgba(60, 64, 67, 0.3), 0px 1px 3px 1px rgba(60, 64, 67, 0.15);\n",
              "      fill: #174EA6;\n",
              "    }\n",
              "\n",
              "    [theme=dark] .colab-df-convert {\n",
              "      background-color: #3B4455;\n",
              "      fill: #D2E3FC;\n",
              "    }\n",
              "\n",
              "    [theme=dark] .colab-df-convert:hover {\n",
              "      background-color: #434B5C;\n",
              "      box-shadow: 0px 1px 3px 1px rgba(0, 0, 0, 0.15);\n",
              "      filter: drop-shadow(0px 1px 2px rgba(0, 0, 0, 0.3));\n",
              "      fill: #FFFFFF;\n",
              "    }\n",
              "  </style>\n",
              "\n",
              "      <script>\n",
              "        const buttonEl =\n",
              "          document.querySelector('#df-bc41a7a1-05a0-4c4b-a290-1bac50717ff7 button.colab-df-convert');\n",
              "        buttonEl.style.display =\n",
              "          google.colab.kernel.accessAllowed ? 'block' : 'none';\n",
              "\n",
              "        async function convertToInteractive(key) {\n",
              "          const element = document.querySelector('#df-bc41a7a1-05a0-4c4b-a290-1bac50717ff7');\n",
              "          const dataTable =\n",
              "            await google.colab.kernel.invokeFunction('convertToInteractive',\n",
              "                                                     [key], {});\n",
              "          if (!dataTable) return;\n",
              "\n",
              "          const docLinkHtml = 'Like what you see? Visit the ' +\n",
              "            '<a target=\"_blank\" href=https://colab.research.google.com/notebooks/data_table.ipynb>data table notebook</a>'\n",
              "            + ' to learn more about interactive tables.';\n",
              "          element.innerHTML = '';\n",
              "          dataTable['output_type'] = 'display_data';\n",
              "          await google.colab.output.renderOutput(dataTable, element);\n",
              "          const docLink = document.createElement('div');\n",
              "          docLink.innerHTML = docLinkHtml;\n",
              "          element.appendChild(docLink);\n",
              "        }\n",
              "      </script>\n",
              "    </div>\n",
              "  </div>\n",
              "  "
            ],
            "text/plain": [
              "       Col1\n",
              "0  0.040525\n",
              "1  0.046273\n",
              "2  0.027946\n",
              "3  0.019406\n",
              "4  0.024221"
            ]
          },
          "metadata": {},
          "execution_count": 109
        }
      ]
    },
    {
      "cell_type": "code",
      "source": [
        "b.sort_values(by='Col1',ascending=False).head()"
      ],
      "metadata": {
        "colab": {
          "base_uri": "https://localhost:8080/",
          "height": 206
        },
        "id": "yZjObailLYvZ",
        "outputId": "a48811ed-44bf-4cbd-ca4b-614ca988a4db"
      },
      "execution_count": null,
      "outputs": [
        {
          "output_type": "execute_result",
          "data": {
            "text/html": [
              "\n",
              "  <div id=\"df-4638485e-4311-4d91-9570-b77ae2201252\">\n",
              "    <div class=\"colab-df-container\">\n",
              "      <div>\n",
              "<style scoped>\n",
              "    .dataframe tbody tr th:only-of-type {\n",
              "        vertical-align: middle;\n",
              "    }\n",
              "\n",
              "    .dataframe tbody tr th {\n",
              "        vertical-align: top;\n",
              "    }\n",
              "\n",
              "    .dataframe thead th {\n",
              "        text-align: right;\n",
              "    }\n",
              "</style>\n",
              "<table border=\"1\" class=\"dataframe\">\n",
              "  <thead>\n",
              "    <tr style=\"text-align: right;\">\n",
              "      <th></th>\n",
              "      <th>Col1</th>\n",
              "    </tr>\n",
              "  </thead>\n",
              "  <tbody>\n",
              "    <tr>\n",
              "      <th>26</th>\n",
              "      <td>0.054436</td>\n",
              "    </tr>\n",
              "    <tr>\n",
              "      <th>6</th>\n",
              "      <td>0.046299</td>\n",
              "    </tr>\n",
              "    <tr>\n",
              "      <th>1</th>\n",
              "      <td>0.046273</td>\n",
              "    </tr>\n",
              "    <tr>\n",
              "      <th>35</th>\n",
              "      <td>0.043613</td>\n",
              "    </tr>\n",
              "    <tr>\n",
              "      <th>0</th>\n",
              "      <td>0.040525</td>\n",
              "    </tr>\n",
              "  </tbody>\n",
              "</table>\n",
              "</div>\n",
              "      <button class=\"colab-df-convert\" onclick=\"convertToInteractive('df-4638485e-4311-4d91-9570-b77ae2201252')\"\n",
              "              title=\"Convert this dataframe to an interactive table.\"\n",
              "              style=\"display:none;\">\n",
              "        \n",
              "  <svg xmlns=\"http://www.w3.org/2000/svg\" height=\"24px\"viewBox=\"0 0 24 24\"\n",
              "       width=\"24px\">\n",
              "    <path d=\"M0 0h24v24H0V0z\" fill=\"none\"/>\n",
              "    <path d=\"M18.56 5.44l.94 2.06.94-2.06 2.06-.94-2.06-.94-.94-2.06-.94 2.06-2.06.94zm-11 1L8.5 8.5l.94-2.06 2.06-.94-2.06-.94L8.5 2.5l-.94 2.06-2.06.94zm10 10l.94 2.06.94-2.06 2.06-.94-2.06-.94-.94-2.06-.94 2.06-2.06.94z\"/><path d=\"M17.41 7.96l-1.37-1.37c-.4-.4-.92-.59-1.43-.59-.52 0-1.04.2-1.43.59L10.3 9.45l-7.72 7.72c-.78.78-.78 2.05 0 2.83L4 21.41c.39.39.9.59 1.41.59.51 0 1.02-.2 1.41-.59l7.78-7.78 2.81-2.81c.8-.78.8-2.07 0-2.86zM5.41 20L4 18.59l7.72-7.72 1.47 1.35L5.41 20z\"/>\n",
              "  </svg>\n",
              "      </button>\n",
              "      \n",
              "  <style>\n",
              "    .colab-df-container {\n",
              "      display:flex;\n",
              "      flex-wrap:wrap;\n",
              "      gap: 12px;\n",
              "    }\n",
              "\n",
              "    .colab-df-convert {\n",
              "      background-color: #E8F0FE;\n",
              "      border: none;\n",
              "      border-radius: 50%;\n",
              "      cursor: pointer;\n",
              "      display: none;\n",
              "      fill: #1967D2;\n",
              "      height: 32px;\n",
              "      padding: 0 0 0 0;\n",
              "      width: 32px;\n",
              "    }\n",
              "\n",
              "    .colab-df-convert:hover {\n",
              "      background-color: #E2EBFA;\n",
              "      box-shadow: 0px 1px 2px rgba(60, 64, 67, 0.3), 0px 1px 3px 1px rgba(60, 64, 67, 0.15);\n",
              "      fill: #174EA6;\n",
              "    }\n",
              "\n",
              "    [theme=dark] .colab-df-convert {\n",
              "      background-color: #3B4455;\n",
              "      fill: #D2E3FC;\n",
              "    }\n",
              "\n",
              "    [theme=dark] .colab-df-convert:hover {\n",
              "      background-color: #434B5C;\n",
              "      box-shadow: 0px 1px 3px 1px rgba(0, 0, 0, 0.15);\n",
              "      filter: drop-shadow(0px 1px 2px rgba(0, 0, 0, 0.3));\n",
              "      fill: #FFFFFF;\n",
              "    }\n",
              "  </style>\n",
              "\n",
              "      <script>\n",
              "        const buttonEl =\n",
              "          document.querySelector('#df-4638485e-4311-4d91-9570-b77ae2201252 button.colab-df-convert');\n",
              "        buttonEl.style.display =\n",
              "          google.colab.kernel.accessAllowed ? 'block' : 'none';\n",
              "\n",
              "        async function convertToInteractive(key) {\n",
              "          const element = document.querySelector('#df-4638485e-4311-4d91-9570-b77ae2201252');\n",
              "          const dataTable =\n",
              "            await google.colab.kernel.invokeFunction('convertToInteractive',\n",
              "                                                     [key], {});\n",
              "          if (!dataTable) return;\n",
              "\n",
              "          const docLinkHtml = 'Like what you see? Visit the ' +\n",
              "            '<a target=\"_blank\" href=https://colab.research.google.com/notebooks/data_table.ipynb>data table notebook</a>'\n",
              "            + ' to learn more about interactive tables.';\n",
              "          element.innerHTML = '';\n",
              "          dataTable['output_type'] = 'display_data';\n",
              "          await google.colab.output.renderOutput(dataTable, element);\n",
              "          const docLink = document.createElement('div');\n",
              "          docLink.innerHTML = docLinkHtml;\n",
              "          element.appendChild(docLink);\n",
              "        }\n",
              "      </script>\n",
              "    </div>\n",
              "  </div>\n",
              "  "
            ],
            "text/plain": [
              "        Col1\n",
              "26  0.054436\n",
              "6   0.046299\n",
              "1   0.046273\n",
              "35  0.043613\n",
              "0   0.040525"
            ]
          },
          "metadata": {},
          "execution_count": 113
        }
      ]
    },
    {
      "cell_type": "code",
      "source": [
        "# b came from X_train, X_train came from X\n",
        "x.iloc[:2,[26,6,1,35,0]].columns"
      ],
      "metadata": {
        "colab": {
          "base_uri": "https://localhost:8080/"
        },
        "id": "qGroHxpYNT8n",
        "outputId": "ebef69be-d27f-4ad5-81c2-44acf7ff0b1b"
      },
      "execution_count": null,
      "outputs": [
        {
          "output_type": "execute_result",
          "data": {
            "text/plain": [
              "Index(['CurrentEquipmentDays', 'PercChangeMinutes', 'MonthlyMinutes',\n",
              "       'perc_recurrent_charge', 'MonthlyRevenue'],\n",
              "      dtype='object')"
            ]
          },
          "metadata": {},
          "execution_count": 30
        }
      ]
    },
    {
      "cell_type": "code",
      "source": [
        "# The top 5 prominent columns are : CurrentEquipmentDays, PercChangeMinutes, MonthlyMinutes, perc_recurrent_change, MonthlyRevenue"
      ],
      "metadata": {
        "id": "ssqbwLfLN1PM"
      },
      "execution_count": null,
      "outputs": []
    },
    {
      "cell_type": "markdown",
      "metadata": {
        "id": "b34fvkuvlFId"
      },
      "source": [
        "## Q5. Use the hold out data provided to predict churners using the best model identified in step 4 "
      ]
    },
    {
      "cell_type": "code",
      "source": [
        "from google.colab import files\n",
        "uploaded = files.upload()"
      ],
      "metadata": {
        "colab": {
          "resources": {
            "http://localhost:8080/nbextensions/google.colab/files.js": {
              "data": "Ly8gQ29weXJpZ2h0IDIwMTcgR29vZ2xlIExMQwovLwovLyBMaWNlbnNlZCB1bmRlciB0aGUgQXBhY2hlIExpY2Vuc2UsIFZlcnNpb24gMi4wICh0aGUgIkxpY2Vuc2UiKTsKLy8geW91IG1heSBub3QgdXNlIHRoaXMgZmlsZSBleGNlcHQgaW4gY29tcGxpYW5jZSB3aXRoIHRoZSBMaWNlbnNlLgovLyBZb3UgbWF5IG9idGFpbiBhIGNvcHkgb2YgdGhlIExpY2Vuc2UgYXQKLy8KLy8gICAgICBodHRwOi8vd3d3LmFwYWNoZS5vcmcvbGljZW5zZXMvTElDRU5TRS0yLjAKLy8KLy8gVW5sZXNzIHJlcXVpcmVkIGJ5IGFwcGxpY2FibGUgbGF3IG9yIGFncmVlZCB0byBpbiB3cml0aW5nLCBzb2Z0d2FyZQovLyBkaXN0cmlidXRlZCB1bmRlciB0aGUgTGljZW5zZSBpcyBkaXN0cmlidXRlZCBvbiBhbiAiQVMgSVMiIEJBU0lTLAovLyBXSVRIT1VUIFdBUlJBTlRJRVMgT1IgQ09ORElUSU9OUyBPRiBBTlkgS0lORCwgZWl0aGVyIGV4cHJlc3Mgb3IgaW1wbGllZC4KLy8gU2VlIHRoZSBMaWNlbnNlIGZvciB0aGUgc3BlY2lmaWMgbGFuZ3VhZ2UgZ292ZXJuaW5nIHBlcm1pc3Npb25zIGFuZAovLyBsaW1pdGF0aW9ucyB1bmRlciB0aGUgTGljZW5zZS4KCi8qKgogKiBAZmlsZW92ZXJ2aWV3IEhlbHBlcnMgZm9yIGdvb2dsZS5jb2xhYiBQeXRob24gbW9kdWxlLgogKi8KKGZ1bmN0aW9uKHNjb3BlKSB7CmZ1bmN0aW9uIHNwYW4odGV4dCwgc3R5bGVBdHRyaWJ1dGVzID0ge30pIHsKICBjb25zdCBlbGVtZW50ID0gZG9jdW1lbnQuY3JlYXRlRWxlbWVudCgnc3BhbicpOwogIGVsZW1lbnQudGV4dENvbnRlbnQgPSB0ZXh0OwogIGZvciAoY29uc3Qga2V5IG9mIE9iamVjdC5rZXlzKHN0eWxlQXR0cmlidXRlcykpIHsKICAgIGVsZW1lbnQuc3R5bGVba2V5XSA9IHN0eWxlQXR0cmlidXRlc1trZXldOwogIH0KICByZXR1cm4gZWxlbWVudDsKfQoKLy8gTWF4IG51bWJlciBvZiBieXRlcyB3aGljaCB3aWxsIGJlIHVwbG9hZGVkIGF0IGEgdGltZS4KY29uc3QgTUFYX1BBWUxPQURfU0laRSA9IDEwMCAqIDEwMjQ7CgpmdW5jdGlvbiBfdXBsb2FkRmlsZXMoaW5wdXRJZCwgb3V0cHV0SWQpIHsKICBjb25zdCBzdGVwcyA9IHVwbG9hZEZpbGVzU3RlcChpbnB1dElkLCBvdXRwdXRJZCk7CiAgY29uc3Qgb3V0cHV0RWxlbWVudCA9IGRvY3VtZW50LmdldEVsZW1lbnRCeUlkKG91dHB1dElkKTsKICAvLyBDYWNoZSBzdGVwcyBvbiB0aGUgb3V0cHV0RWxlbWVudCB0byBtYWtlIGl0IGF2YWlsYWJsZSBmb3IgdGhlIG5leHQgY2FsbAogIC8vIHRvIHVwbG9hZEZpbGVzQ29udGludWUgZnJvbSBQeXRob24uCiAgb3V0cHV0RWxlbWVudC5zdGVwcyA9IHN0ZXBzOwoKICByZXR1cm4gX3VwbG9hZEZpbGVzQ29udGludWUob3V0cHV0SWQpOwp9CgovLyBUaGlzIGlzIHJvdWdobHkgYW4gYXN5bmMgZ2VuZXJhdG9yIChub3Qgc3VwcG9ydGVkIGluIHRoZSBicm93c2VyIHlldCksCi8vIHdoZXJlIHRoZXJlIGFyZSBtdWx0aXBsZSBhc3luY2hyb25vdXMgc3RlcHMgYW5kIHRoZSBQeXRob24gc2lkZSBpcyBnb2luZwovLyB0byBwb2xsIGZvciBjb21wbGV0aW9uIG9mIGVhY2ggc3RlcC4KLy8gVGhpcyB1c2VzIGEgUHJvbWlzZSB0byBibG9jayB0aGUgcHl0aG9uIHNpZGUgb24gY29tcGxldGlvbiBvZiBlYWNoIHN0ZXAsCi8vIHRoZW4gcGFzc2VzIHRoZSByZXN1bHQgb2YgdGhlIHByZXZpb3VzIHN0ZXAgYXMgdGhlIGlucHV0IHRvIHRoZSBuZXh0IHN0ZXAuCmZ1bmN0aW9uIF91cGxvYWRGaWxlc0NvbnRpbnVlKG91dHB1dElkKSB7CiAgY29uc3Qgb3V0cHV0RWxlbWVudCA9IGRvY3VtZW50LmdldEVsZW1lbnRCeUlkKG91dHB1dElkKTsKICBjb25zdCBzdGVwcyA9IG91dHB1dEVsZW1lbnQuc3RlcHM7CgogIGNvbnN0IG5leHQgPSBzdGVwcy5uZXh0KG91dHB1dEVsZW1lbnQubGFzdFByb21pc2VWYWx1ZSk7CiAgcmV0dXJuIFByb21pc2UucmVzb2x2ZShuZXh0LnZhbHVlLnByb21pc2UpLnRoZW4oKHZhbHVlKSA9PiB7CiAgICAvLyBDYWNoZSB0aGUgbGFzdCBwcm9taXNlIHZhbHVlIHRvIG1ha2UgaXQgYXZhaWxhYmxlIHRvIHRoZSBuZXh0CiAgICAvLyBzdGVwIG9mIHRoZSBnZW5lcmF0b3IuCiAgICBvdXRwdXRFbGVtZW50Lmxhc3RQcm9taXNlVmFsdWUgPSB2YWx1ZTsKICAgIHJldHVybiBuZXh0LnZhbHVlLnJlc3BvbnNlOwogIH0pOwp9CgovKioKICogR2VuZXJhdG9yIGZ1bmN0aW9uIHdoaWNoIGlzIGNhbGxlZCBiZXR3ZWVuIGVhY2ggYXN5bmMgc3RlcCBvZiB0aGUgdXBsb2FkCiAqIHByb2Nlc3MuCiAqIEBwYXJhbSB7c3RyaW5nfSBpbnB1dElkIEVsZW1lbnQgSUQgb2YgdGhlIGlucHV0IGZpbGUgcGlja2VyIGVsZW1lbnQuCiAqIEBwYXJhbSB7c3RyaW5nfSBvdXRwdXRJZCBFbGVtZW50IElEIG9mIHRoZSBvdXRwdXQgZGlzcGxheS4KICogQHJldHVybiB7IUl0ZXJhYmxlPCFPYmplY3Q+fSBJdGVyYWJsZSBvZiBuZXh0IHN0ZXBzLgogKi8KZnVuY3Rpb24qIHVwbG9hZEZpbGVzU3RlcChpbnB1dElkLCBvdXRwdXRJZCkgewogIGNvbnN0IGlucHV0RWxlbWVudCA9IGRvY3VtZW50LmdldEVsZW1lbnRCeUlkKGlucHV0SWQpOwogIGlucHV0RWxlbWVudC5kaXNhYmxlZCA9IGZhbHNlOwoKICBjb25zdCBvdXRwdXRFbGVtZW50ID0gZG9jdW1lbnQuZ2V0RWxlbWVudEJ5SWQob3V0cHV0SWQpOwogIG91dHB1dEVsZW1lbnQuaW5uZXJIVE1MID0gJyc7CgogIGNvbnN0IHBpY2tlZFByb21pc2UgPSBuZXcgUHJvbWlzZSgocmVzb2x2ZSkgPT4gewogICAgaW5wdXRFbGVtZW50LmFkZEV2ZW50TGlzdGVuZXIoJ2NoYW5nZScsIChlKSA9PiB7CiAgICAgIHJlc29sdmUoZS50YXJnZXQuZmlsZXMpOwogICAgfSk7CiAgfSk7CgogIGNvbnN0IGNhbmNlbCA9IGRvY3VtZW50LmNyZWF0ZUVsZW1lbnQoJ2J1dHRvbicpOwogIGlucHV0RWxlbWVudC5wYXJlbnRFbGVtZW50LmFwcGVuZENoaWxkKGNhbmNlbCk7CiAgY2FuY2VsLnRleHRDb250ZW50ID0gJ0NhbmNlbCB1cGxvYWQnOwogIGNvbnN0IGNhbmNlbFByb21pc2UgPSBuZXcgUHJvbWlzZSgocmVzb2x2ZSkgPT4gewogICAgY2FuY2VsLm9uY2xpY2sgPSAoKSA9PiB7CiAgICAgIHJlc29sdmUobnVsbCk7CiAgICB9OwogIH0pOwoKICAvLyBXYWl0IGZvciB0aGUgdXNlciB0byBwaWNrIHRoZSBmaWxlcy4KICBjb25zdCBmaWxlcyA9IHlpZWxkIHsKICAgIHByb21pc2U6IFByb21pc2UucmFjZShbcGlja2VkUHJvbWlzZSwgY2FuY2VsUHJvbWlzZV0pLAogICAgcmVzcG9uc2U6IHsKICAgICAgYWN0aW9uOiAnc3RhcnRpbmcnLAogICAgfQogIH07CgogIGNhbmNlbC5yZW1vdmUoKTsKCiAgLy8gRGlzYWJsZSB0aGUgaW5wdXQgZWxlbWVudCBzaW5jZSBmdXJ0aGVyIHBpY2tzIGFyZSBub3QgYWxsb3dlZC4KICBpbnB1dEVsZW1lbnQuZGlzYWJsZWQgPSB0cnVlOwoKICBpZiAoIWZpbGVzKSB7CiAgICByZXR1cm4gewogICAgICByZXNwb25zZTogewogICAgICAgIGFjdGlvbjogJ2NvbXBsZXRlJywKICAgICAgfQogICAgfTsKICB9CgogIGZvciAoY29uc3QgZmlsZSBvZiBmaWxlcykgewogICAgY29uc3QgbGkgPSBkb2N1bWVudC5jcmVhdGVFbGVtZW50KCdsaScpOwogICAgbGkuYXBwZW5kKHNwYW4oZmlsZS5uYW1lLCB7Zm9udFdlaWdodDogJ2JvbGQnfSkpOwogICAgbGkuYXBwZW5kKHNwYW4oCiAgICAgICAgYCgke2ZpbGUudHlwZSB8fCAnbi9hJ30pIC0gJHtmaWxlLnNpemV9IGJ5dGVzLCBgICsKICAgICAgICBgbGFzdCBtb2RpZmllZDogJHsKICAgICAgICAgICAgZmlsZS5sYXN0TW9kaWZpZWREYXRlID8gZmlsZS5sYXN0TW9kaWZpZWREYXRlLnRvTG9jYWxlRGF0ZVN0cmluZygpIDoKICAgICAgICAgICAgICAgICAgICAgICAgICAgICAgICAgICAgJ24vYSd9IC0gYCkpOwogICAgY29uc3QgcGVyY2VudCA9IHNwYW4oJzAlIGRvbmUnKTsKICAgIGxpLmFwcGVuZENoaWxkKHBlcmNlbnQpOwoKICAgIG91dHB1dEVsZW1lbnQuYXBwZW5kQ2hpbGQobGkpOwoKICAgIGNvbnN0IGZpbGVEYXRhUHJvbWlzZSA9IG5ldyBQcm9taXNlKChyZXNvbHZlKSA9PiB7CiAgICAgIGNvbnN0IHJlYWRlciA9IG5ldyBGaWxlUmVhZGVyKCk7CiAgICAgIHJlYWRlci5vbmxvYWQgPSAoZSkgPT4gewogICAgICAgIHJlc29sdmUoZS50YXJnZXQucmVzdWx0KTsKICAgICAgfTsKICAgICAgcmVhZGVyLnJlYWRBc0FycmF5QnVmZmVyKGZpbGUpOwogICAgfSk7CiAgICAvLyBXYWl0IGZvciB0aGUgZGF0YSB0byBiZSByZWFkeS4KICAgIGxldCBmaWxlRGF0YSA9IHlpZWxkIHsKICAgICAgcHJvbWlzZTogZmlsZURhdGFQcm9taXNlLAogICAgICByZXNwb25zZTogewogICAgICAgIGFjdGlvbjogJ2NvbnRpbnVlJywKICAgICAgfQogICAgfTsKCiAgICAvLyBVc2UgYSBjaHVua2VkIHNlbmRpbmcgdG8gYXZvaWQgbWVzc2FnZSBzaXplIGxpbWl0cy4gU2VlIGIvNjIxMTU2NjAuCiAgICBsZXQgcG9zaXRpb24gPSAwOwogICAgZG8gewogICAgICBjb25zdCBsZW5ndGggPSBNYXRoLm1pbihmaWxlRGF0YS5ieXRlTGVuZ3RoIC0gcG9zaXRpb24sIE1BWF9QQVlMT0FEX1NJWkUpOwogICAgICBjb25zdCBjaHVuayA9IG5ldyBVaW50OEFycmF5KGZpbGVEYXRhLCBwb3NpdGlvbiwgbGVuZ3RoKTsKICAgICAgcG9zaXRpb24gKz0gbGVuZ3RoOwoKICAgICAgY29uc3QgYmFzZTY0ID0gYnRvYShTdHJpbmcuZnJvbUNoYXJDb2RlLmFwcGx5KG51bGwsIGNodW5rKSk7CiAgICAgIHlpZWxkIHsKICAgICAgICByZXNwb25zZTogewogICAgICAgICAgYWN0aW9uOiAnYXBwZW5kJywKICAgICAgICAgIGZpbGU6IGZpbGUubmFtZSwKICAgICAgICAgIGRhdGE6IGJhc2U2NCwKICAgICAgICB9LAogICAgICB9OwoKICAgICAgbGV0IHBlcmNlbnREb25lID0gZmlsZURhdGEuYnl0ZUxlbmd0aCA9PT0gMCA/CiAgICAgICAgICAxMDAgOgogICAgICAgICAgTWF0aC5yb3VuZCgocG9zaXRpb24gLyBmaWxlRGF0YS5ieXRlTGVuZ3RoKSAqIDEwMCk7CiAgICAgIHBlcmNlbnQudGV4dENvbnRlbnQgPSBgJHtwZXJjZW50RG9uZX0lIGRvbmVgOwoKICAgIH0gd2hpbGUgKHBvc2l0aW9uIDwgZmlsZURhdGEuYnl0ZUxlbmd0aCk7CiAgfQoKICAvLyBBbGwgZG9uZS4KICB5aWVsZCB7CiAgICByZXNwb25zZTogewogICAgICBhY3Rpb246ICdjb21wbGV0ZScsCiAgICB9CiAgfTsKfQoKc2NvcGUuZ29vZ2xlID0gc2NvcGUuZ29vZ2xlIHx8IHt9OwpzY29wZS5nb29nbGUuY29sYWIgPSBzY29wZS5nb29nbGUuY29sYWIgfHwge307CnNjb3BlLmdvb2dsZS5jb2xhYi5fZmlsZXMgPSB7CiAgX3VwbG9hZEZpbGVzLAogIF91cGxvYWRGaWxlc0NvbnRpbnVlLAp9Owp9KShzZWxmKTsK",
              "ok": true,
              "headers": [
                [
                  "content-type",
                  "application/javascript"
                ]
              ],
              "status": 200,
              "status_text": ""
            }
          },
          "base_uri": "https://localhost:8080/",
          "height": 73
        },
        "id": "zzwRVdkZde1M",
        "outputId": "05d0e340-4ccc-4ac6-d050-b28af2a1d4ca"
      },
      "execution_count": null,
      "outputs": [
        {
          "output_type": "display_data",
          "data": {
            "text/html": [
              "\n",
              "     <input type=\"file\" id=\"files-4e7ea851-97c8-4fe3-ac9e-37029de33cab\" name=\"files[]\" multiple disabled\n",
              "        style=\"border:none\" />\n",
              "     <output id=\"result-4e7ea851-97c8-4fe3-ac9e-37029de33cab\">\n",
              "      Upload widget is only available when the cell has been executed in the\n",
              "      current browser session. Please rerun this cell to enable.\n",
              "      </output>\n",
              "      <script src=\"/nbextensions/google.colab/files.js\"></script> "
            ],
            "text/plain": [
              "<IPython.core.display.HTML object>"
            ]
          },
          "metadata": {}
        },
        {
          "output_type": "stream",
          "name": "stdout",
          "text": [
            "Saving Telecom - Prediction Data.csv to Telecom - Prediction Data.csv\n"
          ]
        }
      ]
    },
    {
      "cell_type": "code",
      "source": [
        "df = pd.read_csv('Telecom - Prediction Data.csv')\n",
        "df.select_dtypes(object).columns\n",
        "df.drop(['Churn','CustomerID'],axis=1,inplace=True)\n",
        "df.shape"
      ],
      "metadata": {
        "colab": {
          "base_uri": "https://localhost:8080/"
        },
        "id": "FWj_NMzkgLaV",
        "outputId": "9568a208-b1b9-49e5-83a6-4709010cbe42"
      },
      "execution_count": null,
      "outputs": [
        {
          "output_type": "execute_result",
          "data": {
            "text/plain": [
              "Index(['ServiceArea', 'ChildrenInHH', 'HandsetRefurbished',\n",
              "       'HandsetWebCapable', 'TruckOwner', 'RVOwner', 'Homeownership',\n",
              "       'BuysViaMailOrder', 'RespondsToMailOffers', 'OptOutMailings',\n",
              "       'NonUSTravel', 'OwnsComputer', 'HasCreditCard', 'NewCellphoneUser',\n",
              "       'NotNewCellphoneUser', 'OwnsMotorcycle', 'HandsetPrice',\n",
              "       'MadeCallToRetentionTeam', 'CreditRating', 'PrizmCode', 'Occupation',\n",
              "       'MaritalStatus'],\n",
              "      dtype='object')"
            ]
          },
          "metadata": {},
          "execution_count": 138
        },
        {
          "output_type": "execute_result",
          "data": {
            "text/plain": [
              "(20000, 56)"
            ]
          },
          "metadata": {},
          "execution_count": 138
        }
      ]
    },
    {
      "cell_type": "code",
      "source": [
        "print(df.shape,cust_df.shape)"
      ],
      "metadata": {
        "colab": {
          "base_uri": "https://localhost:8080/"
        },
        "id": "47nkL9T9pcGa",
        "outputId": "7ba88a52-df84-4e4e-e510-6a3609742c22"
      },
      "execution_count": null,
      "outputs": [
        {
          "output_type": "stream",
          "name": "stdout",
          "text": [
            "(20000, 56) (49066, 59)\n"
          ]
        }
      ]
    },
    {
      "cell_type": "code",
      "metadata": {
        "id": "inhr0oBulFIe",
        "colab": {
          "base_uri": "https://localhost:8080/"
        },
        "outputId": "2c95fa8e-7d56-4ab2-d852-0c37ec0a975a"
      },
      "source": [
        "#Type your code here to predict churners based on the hold out data set provided\n",
        "#Note #1: use \"create_features(cust_df)\" functions to create the additional list of features in the hold out data set\n",
        "#Note #2: Also, perform feature scaling and dummy variables creation as performed during the initial stages of step #4\n",
        "\n",
        "\n",
        "#Use \"predict\" function on the transformend data using the best fitted model object\n",
        "df = create_features(df)\n",
        "df.dropna(axis=0,inplace=True)\n",
        "print(df.shape)\n",
        "print(X.columns)\n",
        "X = pd.get_dummies(df.drop(['ServiceArea'],axis=1)) # Since ServiceArea has 741 unique names, it would lead to 741 new columns. So we ignore it\n",
        "print(X.shape)"
      ],
      "execution_count": null,
      "outputs": [
        {
          "output_type": "stream",
          "name": "stdout",
          "text": [
            "(19528, 58)\n",
            "Index(['MonthlyRevenue', 'MonthlyMinutes', 'TotalRecurringCharge',\n",
            "       'DirectorAssistedCalls', 'OverageMinutes', 'RoamingCalls',\n",
            "       'PercChangeMinutes', 'PercChangeRevenues', 'DroppedCalls',\n",
            "       'BlockedCalls', 'UnansweredCalls', 'CustomerCareCalls', 'ThreewayCalls',\n",
            "       'ReceivedCalls', 'OutboundCalls', 'InboundCalls', 'PeakCallsInOut',\n",
            "       'OffPeakCallsInOut', 'DroppedBlockedCalls', 'CallForwardingCalls',\n",
            "       'CallWaitingCalls', 'MonthsInService', 'UniqueSubs', 'ActiveSubs',\n",
            "       'Handsets', 'HandsetModels', 'CurrentEquipmentDays', 'AgeHH1', 'AgeHH2',\n",
            "       'RetentionCalls', 'RetentionOffersAccepted',\n",
            "       'ReferralsMadeBySubscriber', 'IncomeGroup', 'AdjustmentsToCreditRating',\n",
            "       'perc_active_subs', 'perc_recurrent_charge', 'Churn_Yes',\n",
            "       'ChildrenInHH_Yes', 'HandsetRefurbished_Yes', 'HandsetWebCapable_Yes',\n",
            "       'TruckOwner_Yes', 'RVOwner_Yes', 'Homeownership_Known',\n",
            "       'BuysViaMailOrder_Yes', 'RespondsToMailOffers_Yes',\n",
            "       'OptOutMailings_Yes', 'NonUSTravel_Yes', 'OwnsComputer_Yes',\n",
            "       'HasCreditCard_Yes', 'NewCellphoneUser_Yes', 'NotNewCellphoneUser_Yes',\n",
            "       'OwnsMotorcycle_Yes', 'HandsetPrice_10', 'HandsetPrice_100',\n",
            "       'HandsetPrice_130', 'HandsetPrice_150', 'HandsetPrice_180',\n",
            "       'HandsetPrice_200', 'HandsetPrice_240', 'HandsetPrice_250',\n",
            "       'HandsetPrice_30', 'HandsetPrice_300', 'HandsetPrice_40',\n",
            "       'HandsetPrice_400', 'HandsetPrice_500', 'HandsetPrice_60',\n",
            "       'HandsetPrice_80', 'HandsetPrice_Unknown',\n",
            "       'MadeCallToRetentionTeam_Yes', 'CreditRating_1-Highest',\n",
            "       'CreditRating_2-High', 'CreditRating_3-Good', 'CreditRating_4-Medium',\n",
            "       'CreditRating_5-Low', 'CreditRating_6-VeryLow', 'CreditRating_7-Lowest',\n",
            "       'PrizmCode_Other', 'PrizmCode_Rural', 'PrizmCode_Suburban',\n",
            "       'PrizmCode_Town', 'Occupation_Clerical', 'Occupation_Crafts',\n",
            "       'Occupation_Homemaker', 'Occupation_Other', 'Occupation_Professional',\n",
            "       'Occupation_Retired', 'Occupation_Self', 'Occupation_Student',\n",
            "       'MaritalStatus_Unknown', 'MaritalStatus_Yes'],\n",
            "      dtype='object')\n",
            "(19528, 106)\n"
          ]
        }
      ]
    },
    {
      "cell_type": "code",
      "source": [
        "print(X.shape)\n",
        "X.drop(['ChildrenInHH_No','HandsetRefurbished_No','HandsetWebCapable_No','TruckOwner_No','RVOwner_No','Homeownership_Unknown','BuysViaMailOrder_No', 'RespondsToMailOffers_No', 'OptOutMailings_No',\n",
        "       'NonUSTravel_No', 'OwnsComputer_No', 'HasCreditCard_No', 'NewCellphoneUser_No','NotNewCellphoneUser_No', 'OwnsMotorcycle_No','MadeCallToRetentionTeam_No','MaritalStatus_No'],axis=1,inplace = True)\n",
        "X.shape"
      ],
      "metadata": {
        "colab": {
          "base_uri": "https://localhost:8080/"
        },
        "id": "k17-3LVdoIGD",
        "outputId": "4b25033a-2d65-44ad-91da-302759466255"
      },
      "execution_count": null,
      "outputs": [
        {
          "output_type": "stream",
          "name": "stdout",
          "text": [
            "(19528, 106)\n"
          ]
        },
        {
          "output_type": "execute_result",
          "data": {
            "text/plain": [
              "(19528, 89)"
            ]
          },
          "metadata": {},
          "execution_count": 141
        }
      ]
    },
    {
      "cell_type": "code",
      "source": [
        "#Feature scaling for all continuous variable\n",
        "sc = StandardScaler() \n",
        "X  = sc.fit_transform(X)"
      ],
      "metadata": {
        "id": "hqldOGqokySf"
      },
      "execution_count": null,
      "outputs": []
    },
    {
      "cell_type": "code",
      "source": [
        "y_pred1 = rf.predict(X)\n",
        "df_pred1 = pd.DataFrame(rf.predict_proba(X))\n",
        "df_pred1['Final_Pred'] = y_pred1\n",
        "\n",
        "#Use a probability threshold to classify customers as churners and non churners (Default = 0.5)\n",
        "df_pred1['Pred_70%']=np.where(rf.predict_proba(X)[:,1]>0.7,1,0) # if probability is greater than 0.7 then it is assigned 1 or else 0\n"
      ],
      "metadata": {
        "id": "Gr2drJR2hBO5"
      },
      "execution_count": null,
      "outputs": []
    },
    {
      "cell_type": "code",
      "source": [
        "df_pred1.head()"
      ],
      "metadata": {
        "colab": {
          "base_uri": "https://localhost:8080/",
          "height": 206
        },
        "id": "GNprNShhr7Aq",
        "outputId": "95c21d37-52f0-4470-b9f2-0e1f66eab82d"
      },
      "execution_count": null,
      "outputs": [
        {
          "output_type": "execute_result",
          "data": {
            "text/html": [
              "\n",
              "  <div id=\"df-0edf05e4-134c-47c8-b023-8df6d5074099\">\n",
              "    <div class=\"colab-df-container\">\n",
              "      <div>\n",
              "<style scoped>\n",
              "    .dataframe tbody tr th:only-of-type {\n",
              "        vertical-align: middle;\n",
              "    }\n",
              "\n",
              "    .dataframe tbody tr th {\n",
              "        vertical-align: top;\n",
              "    }\n",
              "\n",
              "    .dataframe thead th {\n",
              "        text-align: right;\n",
              "    }\n",
              "</style>\n",
              "<table border=\"1\" class=\"dataframe\">\n",
              "  <thead>\n",
              "    <tr style=\"text-align: right;\">\n",
              "      <th></th>\n",
              "      <th>0</th>\n",
              "      <th>1</th>\n",
              "      <th>Final_Pred</th>\n",
              "      <th>Pred_70%</th>\n",
              "    </tr>\n",
              "  </thead>\n",
              "  <tbody>\n",
              "    <tr>\n",
              "      <th>0</th>\n",
              "      <td>0.76</td>\n",
              "      <td>0.24</td>\n",
              "      <td>0</td>\n",
              "      <td>0</td>\n",
              "    </tr>\n",
              "    <tr>\n",
              "      <th>1</th>\n",
              "      <td>0.68</td>\n",
              "      <td>0.32</td>\n",
              "      <td>0</td>\n",
              "      <td>0</td>\n",
              "    </tr>\n",
              "    <tr>\n",
              "      <th>2</th>\n",
              "      <td>0.72</td>\n",
              "      <td>0.28</td>\n",
              "      <td>0</td>\n",
              "      <td>0</td>\n",
              "    </tr>\n",
              "    <tr>\n",
              "      <th>3</th>\n",
              "      <td>0.68</td>\n",
              "      <td>0.32</td>\n",
              "      <td>0</td>\n",
              "      <td>0</td>\n",
              "    </tr>\n",
              "    <tr>\n",
              "      <th>4</th>\n",
              "      <td>0.76</td>\n",
              "      <td>0.24</td>\n",
              "      <td>0</td>\n",
              "      <td>0</td>\n",
              "    </tr>\n",
              "  </tbody>\n",
              "</table>\n",
              "</div>\n",
              "      <button class=\"colab-df-convert\" onclick=\"convertToInteractive('df-0edf05e4-134c-47c8-b023-8df6d5074099')\"\n",
              "              title=\"Convert this dataframe to an interactive table.\"\n",
              "              style=\"display:none;\">\n",
              "        \n",
              "  <svg xmlns=\"http://www.w3.org/2000/svg\" height=\"24px\"viewBox=\"0 0 24 24\"\n",
              "       width=\"24px\">\n",
              "    <path d=\"M0 0h24v24H0V0z\" fill=\"none\"/>\n",
              "    <path d=\"M18.56 5.44l.94 2.06.94-2.06 2.06-.94-2.06-.94-.94-2.06-.94 2.06-2.06.94zm-11 1L8.5 8.5l.94-2.06 2.06-.94-2.06-.94L8.5 2.5l-.94 2.06-2.06.94zm10 10l.94 2.06.94-2.06 2.06-.94-2.06-.94-.94-2.06-.94 2.06-2.06.94z\"/><path d=\"M17.41 7.96l-1.37-1.37c-.4-.4-.92-.59-1.43-.59-.52 0-1.04.2-1.43.59L10.3 9.45l-7.72 7.72c-.78.78-.78 2.05 0 2.83L4 21.41c.39.39.9.59 1.41.59.51 0 1.02-.2 1.41-.59l7.78-7.78 2.81-2.81c.8-.78.8-2.07 0-2.86zM5.41 20L4 18.59l7.72-7.72 1.47 1.35L5.41 20z\"/>\n",
              "  </svg>\n",
              "      </button>\n",
              "      \n",
              "  <style>\n",
              "    .colab-df-container {\n",
              "      display:flex;\n",
              "      flex-wrap:wrap;\n",
              "      gap: 12px;\n",
              "    }\n",
              "\n",
              "    .colab-df-convert {\n",
              "      background-color: #E8F0FE;\n",
              "      border: none;\n",
              "      border-radius: 50%;\n",
              "      cursor: pointer;\n",
              "      display: none;\n",
              "      fill: #1967D2;\n",
              "      height: 32px;\n",
              "      padding: 0 0 0 0;\n",
              "      width: 32px;\n",
              "    }\n",
              "\n",
              "    .colab-df-convert:hover {\n",
              "      background-color: #E2EBFA;\n",
              "      box-shadow: 0px 1px 2px rgba(60, 64, 67, 0.3), 0px 1px 3px 1px rgba(60, 64, 67, 0.15);\n",
              "      fill: #174EA6;\n",
              "    }\n",
              "\n",
              "    [theme=dark] .colab-df-convert {\n",
              "      background-color: #3B4455;\n",
              "      fill: #D2E3FC;\n",
              "    }\n",
              "\n",
              "    [theme=dark] .colab-df-convert:hover {\n",
              "      background-color: #434B5C;\n",
              "      box-shadow: 0px 1px 3px 1px rgba(0, 0, 0, 0.15);\n",
              "      filter: drop-shadow(0px 1px 2px rgba(0, 0, 0, 0.3));\n",
              "      fill: #FFFFFF;\n",
              "    }\n",
              "  </style>\n",
              "\n",
              "      <script>\n",
              "        const buttonEl =\n",
              "          document.querySelector('#df-0edf05e4-134c-47c8-b023-8df6d5074099 button.colab-df-convert');\n",
              "        buttonEl.style.display =\n",
              "          google.colab.kernel.accessAllowed ? 'block' : 'none';\n",
              "\n",
              "        async function convertToInteractive(key) {\n",
              "          const element = document.querySelector('#df-0edf05e4-134c-47c8-b023-8df6d5074099');\n",
              "          const dataTable =\n",
              "            await google.colab.kernel.invokeFunction('convertToInteractive',\n",
              "                                                     [key], {});\n",
              "          if (!dataTable) return;\n",
              "\n",
              "          const docLinkHtml = 'Like what you see? Visit the ' +\n",
              "            '<a target=\"_blank\" href=https://colab.research.google.com/notebooks/data_table.ipynb>data table notebook</a>'\n",
              "            + ' to learn more about interactive tables.';\n",
              "          element.innerHTML = '';\n",
              "          dataTable['output_type'] = 'display_data';\n",
              "          await google.colab.output.renderOutput(dataTable, element);\n",
              "          const docLink = document.createElement('div');\n",
              "          docLink.innerHTML = docLinkHtml;\n",
              "          element.appendChild(docLink);\n",
              "        }\n",
              "      </script>\n",
              "    </div>\n",
              "  </div>\n",
              "  "
            ],
            "text/plain": [
              "      0     1  Final_Pred  Pred_70%\n",
              "0  0.76  0.24           0         0\n",
              "1  0.68  0.32           0         0\n",
              "2  0.72  0.28           0         0\n",
              "3  0.68  0.32           0         0\n",
              "4  0.76  0.24           0         0"
            ]
          },
          "metadata": {},
          "execution_count": 144
        }
      ]
    },
    {
      "cell_type": "markdown",
      "metadata": {
        "id": "abauS3GolFIe"
      },
      "source": [
        "## Q6. [Bonus Question] Calculate lift chart and total monthly revenue saved by targeting top 10-20% of the customers using your best predictive model"
      ]
    },
    {
      "cell_type": "code",
      "metadata": {
        "id": "6q6go8_olFIe"
      },
      "source": [
        "#Type your code here to plot the lift chart from the best model\n",
        "#Identify the lift i.e. 3x of capturing churn with and without using the model \n",
        "#(Assume: only top 20% high risk customers are to be targetted)\n",
        "\n",
        "\n",
        "\n",
        "\n"
      ],
      "execution_count": null,
      "outputs": []
    },
    {
      "cell_type": "markdown",
      "metadata": {
        "id": "5BCprZwTlFIe"
      },
      "source": [
        "<mark>__Result:__\n",
        "    \n",
        "1. What is the % actual churn captured by targeting top 20% (top 2 deciles) of the customers sorted by their churn probability?\n",
        "2. What is the total monthly revenue of actual churn customers identified in the top 20% of the customers?\n",
        "   "
      ]
    }
  ]
}